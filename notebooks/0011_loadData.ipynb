{
 "cells": [
  {
   "cell_type": "markdown",
   "id": "6eb72ec8-64d5-4bf7-be52-a4205c42f90a",
   "metadata": {},
   "source": [
    "<font size=\"6\">**Load Data**</font>"
   ]
  },
  {
   "cell_type": "code",
   "execution_count": 1,
   "id": "f0d673ac-0425-41aa-9dc8-b23e860a5bd4",
   "metadata": {},
   "outputs": [],
   "source": [
    "%load_ext autoreload\n",
    "%autoreload 2"
   ]
  },
  {
   "cell_type": "code",
   "execution_count": 2,
   "id": "0cfad815-aca9-45b1-b9c5-e1391a3b01fa",
   "metadata": {},
   "outputs": [
    {
     "name": "stdout",
     "output_type": "stream",
     "text": [
      "running notebook configuration\n"
     ]
    }
   ],
   "source": [
    "%run ../nb_config.py"
   ]
  },
  {
   "cell_type": "code",
   "execution_count": 3,
   "id": "d5928164-9ea5-4633-a889-6ed5601832b1",
   "metadata": {},
   "outputs": [],
   "source": [
    "import numpy as np\n",
    "import pandas_datareader.data as pdr"
   ]
  },
  {
   "cell_type": "code",
   "execution_count": 4,
   "id": "bd0eb713-196b-470a-91ba-7a91c7a46c3b",
   "metadata": {},
   "outputs": [],
   "source": [
    "from src.data_api import sources\n",
    "from src import utils"
   ]
  },
  {
   "cell_type": "code",
   "execution_count": 5,
   "id": "71154e73-90bc-4a72-a832-d5528675b893",
   "metadata": {},
   "outputs": [],
   "source": [
    "from dotenv import load_dotenv, find_dotenv\n",
    "\n",
    "dotenv_path = find_dotenv()\n",
    "load_dotenv(dotenv_path)\n",
    "\n",
    "QUANDL_KEY = os.environ.get(\"QUANDL_KEY\")"
   ]
  },
  {
   "cell_type": "code",
   "execution_count": 6,
   "id": "b261fc66-bded-4684-a820-be9c78b51b7e",
   "metadata": {},
   "outputs": [],
   "source": [
    "conf = sources.conf"
   ]
  },
  {
   "cell_type": "code",
   "execution_count": 7,
   "id": "155b6ef3-0bc2-4dcc-8c0d-32ae245dc5a9",
   "metadata": {},
   "outputs": [],
   "source": [
    "#import quandl\n",
    "#quandl.ApiConfig.api_key = QUANDL_KEY\n",
    "\n",
    "#\n",
    "#wiki_prices = quandl.get_table(\"WIKI/PRICES\",\n",
    "#    date = { 'gte': '2016-01-01', 'lte': '2016-01-31'},\n",
    "#                               paginate=True, api_key=QUANDL_KEY)"
   ]
  },
  {
   "cell_type": "code",
   "execution_count": 15,
   "id": "6bb58a97-56b7-446e-b408-87769b12f577",
   "metadata": {},
   "outputs": [],
   "source": [
    "sp500 = pdr.DataReader('SP500', 'fred', start='2010', end='2021')\n",
    "sp500.index.name = 'date'"
   ]
  },
  {
   "cell_type": "code",
   "execution_count": 16,
   "id": "9c19c7d7-c491-40fe-8029-9b7f791bd473",
   "metadata": {},
   "outputs": [
    {
     "name": "stdout",
     "output_type": "stream",
     "text": [
      "<class 'pandas.core.frame.DataFrame'>\n",
      "DatetimeIndex: 2367 entries, 2011-12-08 to 2021-01-01\n",
      "Data columns (total 1 columns):\n",
      " #   Column  Non-Null Count  Dtype  \n",
      "---  ------  --------------  -----  \n",
      " 0   SP500   2281 non-null   float64\n",
      "dtypes: float64(1)\n",
      "memory usage: 37.0 KB\n"
     ]
    }
   ],
   "source": [
    "sp500.info()"
   ]
  },
  {
   "cell_type": "code",
   "execution_count": 17,
   "id": "ee471245-ccb1-45d3-b767-06c41ed6fa36",
   "metadata": {},
   "outputs": [],
   "source": [
    "sp500.to_csv('../data/raw/sp500.csv')"
   ]
  },
  {
   "cell_type": "code",
   "execution_count": null,
   "id": "55be6cbc-a09f-43c6-951a-f8238e0ccc1a",
   "metadata": {},
   "outputs": [],
   "source": []
  }
 ],
 "metadata": {
  "kernelspec": {
   "display_name": "Python 3",
   "language": "python",
   "name": "python3"
  },
  "language_info": {
   "codemirror_mode": {
    "name": "ipython",
    "version": 3
   },
   "file_extension": ".py",
   "mimetype": "text/x-python",
   "name": "python",
   "nbconvert_exporter": "python",
   "pygments_lexer": "ipython3",
   "version": "3.8.8"
  }
 },
 "nbformat": 4,
 "nbformat_minor": 5
}
