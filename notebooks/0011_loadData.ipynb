{
 "cells": [
  {
   "cell_type": "markdown",
   "id": "6eb72ec8-64d5-4bf7-be52-a4205c42f90a",
   "metadata": {},
   "source": [
    "<font size=\"6\">**Load Data**</font>"
   ]
  },
  {
   "cell_type": "code",
   "execution_count": 4,
   "id": "f0d673ac-0425-41aa-9dc8-b23e860a5bd4",
   "metadata": {},
   "outputs": [
    {
     "name": "stdout",
     "output_type": "stream",
     "text": [
      "The autoreload extension is already loaded. To reload it, use:\n",
      "  %reload_ext autoreload\n"
     ]
    }
   ],
   "source": [
    "%load_ext autoreload\n",
    "%autoreload 2"
   ]
  },
  {
   "cell_type": "code",
   "execution_count": 5,
   "id": "0cfad815-aca9-45b1-b9c5-e1391a3b01fa",
   "metadata": {},
   "outputs": [],
   "source": [
    "%run ../nb_config.py"
   ]
  },
  {
   "cell_type": "code",
   "execution_count": 54,
   "id": "d5928164-9ea5-4633-a889-6ed5601832b1",
   "metadata": {},
   "outputs": [],
   "source": [
    "import numpy as np"
   ]
  },
  {
   "cell_type": "code",
   "execution_count": 66,
   "id": "bd0eb713-196b-470a-91ba-7a91c7a46c3b",
   "metadata": {},
   "outputs": [],
   "source": [
    "from src.data_api import sources\n",
    "from src import utils"
   ]
  },
  {
   "cell_type": "code",
   "execution_count": 37,
   "id": "71154e73-90bc-4a72-a832-d5528675b893",
   "metadata": {},
   "outputs": [],
   "source": [
    "from dotenv import load_dotenv, find_dotenv\n",
    "\n",
    "dotenv_path = find_dotenv()\n",
    "load_dotenv(dotenv_path)\n",
    "\n",
    "QUANDL_KEY = os.environ.get(\"QUANDL_KEY\")"
   ]
  },
  {
   "cell_type": "code",
   "execution_count": 19,
   "id": "b261fc66-bded-4684-a820-be9c78b51b7e",
   "metadata": {},
   "outputs": [],
   "source": [
    "conf = sources.conf"
   ]
  },
  {
   "cell_type": "code",
   "execution_count": 49,
   "id": "155b6ef3-0bc2-4dcc-8c0d-32ae245dc5a9",
   "metadata": {},
   "outputs": [],
   "source": [
    "#import quandl\n",
    "#quandl.ApiConfig.api_key = QUANDL_KEY\n",
    "\n",
    "#\n",
    "#wiki_prices = quandl.get_table(\"WIKI/PRICES\",\n",
    "#    date = { 'gte': '2016-01-01', 'lte': '2016-01-31'},\n",
    "#                               paginate=True, api_key=QUANDL_KEY)"
   ]
  },
  {
   "cell_type": "code",
   "execution_count": null,
   "id": "6bb58a97-56b7-446e-b408-87769b12f577",
   "metadata": {},
   "outputs": [],
   "source": []
  }
 ],
 "metadata": {
  "kernelspec": {
   "display_name": "Python 3",
   "language": "python",
   "name": "python3"
  },
  "language_info": {
   "codemirror_mode": {
    "name": "ipython",
    "version": 3
   },
   "file_extension": ".py",
   "mimetype": "text/x-python",
   "name": "python",
   "nbconvert_exporter": "python",
   "pygments_lexer": "ipython3",
   "version": "3.8.8"
  }
 },
 "nbformat": 4,
 "nbformat_minor": 5
}
