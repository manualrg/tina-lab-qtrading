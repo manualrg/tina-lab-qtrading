{
 "cells": [
  {
   "cell_type": "markdown",
   "id": "6eb72ec8-64d5-4bf7-be52-a4205c42f90a",
   "metadata": {},
   "source": [
    "<font size=\"6\"><center>**Compute Targets**</font>"
   ]
  },
  {
   "cell_type": "code",
   "execution_count": 1,
   "id": "f0d673ac-0425-41aa-9dc8-b23e860a5bd4",
   "metadata": {},
   "outputs": [],
   "source": [
    "%load_ext autoreload\n",
    "%autoreload 2"
   ]
  },
  {
   "cell_type": "code",
   "execution_count": 2,
   "id": "0cfad815-aca9-45b1-b9c5-e1391a3b01fa",
   "metadata": {},
   "outputs": [
    {
     "name": "stdout",
     "output_type": "stream",
     "text": [
      "running notebook configuration\n"
     ]
    }
   ],
   "source": [
    "%run ../nb_config.py"
   ]
  },
  {
   "cell_type": "code",
   "execution_count": 3,
   "id": "d5928164-9ea5-4633-a889-6ed5601832b1",
   "metadata": {},
   "outputs": [],
   "source": [
    "import numpy as np\n",
    "from statsmodels.tsa.stattools import adfuller\n",
    "from statsmodels.graphics.tsaplots import plot_acf, plot_pacf\n",
    "\n",
    "from sklearn.metrics import mean_squared_error, accuracy_score"
   ]
  },
  {
   "cell_type": "code",
   "execution_count": 4,
   "id": "bd0eb713-196b-470a-91ba-7a91c7a46c3b",
   "metadata": {},
   "outputs": [],
   "source": [
    "from src.data_api import sources\n",
    "from src import utils, tags\n",
    "\n",
    "from src import data_preparation as dataprep "
   ]
  },
  {
   "cell_type": "code",
   "execution_count": 59,
   "id": "b261fc66-bded-4684-a820-be9c78b51b7e",
   "metadata": {},
   "outputs": [],
   "source": [
    "conf = utils.get_conf()"
   ]
  },
  {
   "cell_type": "code",
   "execution_count": 60,
   "id": "0c933af8-8190-488d-8247-262f9388a1f6",
   "metadata": {},
   "outputs": [],
   "source": [
    "fparams = conf['func_params']\n",
    "\n",
    "start_dt = fparams['start_dt']\n",
    "end_dt = fparams['end_dt']\n",
    "avol_qthres = float(fparams['avol_qtheshold'])\n",
    "avol_window = int(fparams['avol_window'])\n",
    "tau = int(fparams['target']['tau'])"
   ]
  },
  {
   "cell_type": "code",
   "execution_count": 30,
   "id": "b1b736c9-38cd-4642-a6db-c39b55320c7e",
   "metadata": {},
   "outputs": [],
   "source": [
    "ticker = 'AMZN'"
   ]
  },
  {
   "cell_type": "markdown",
   "id": "234c7602-0b1b-4295-97fa-5819e648bf9d",
   "metadata": {},
   "source": [
    "# Load Data"
   ]
  },
  {
   "cell_type": "code",
   "execution_count": 7,
   "id": "0b6c6dcb-c9be-4c40-9d7b-a0442d8be01d",
   "metadata": {},
   "outputs": [],
   "source": [
    "wiki_prices = sources.read_wiki_prices()"
   ]
  },
  {
   "cell_type": "code",
   "execution_count": 8,
   "id": "a13511fc-1258-4a5d-aa96-2e44ab6539bd",
   "metadata": {},
   "outputs": [
    {
     "data": {
      "text/html": [
       "<div>\n",
       "<style scoped>\n",
       "    .dataframe tbody tr th:only-of-type {\n",
       "        vertical-align: middle;\n",
       "    }\n",
       "\n",
       "    .dataframe tbody tr th {\n",
       "        vertical-align: top;\n",
       "    }\n",
       "\n",
       "    .dataframe thead th {\n",
       "        text-align: right;\n",
       "    }\n",
       "</style>\n",
       "<table border=\"1\" class=\"dataframe\">\n",
       "  <thead>\n",
       "    <tr style=\"text-align: right;\">\n",
       "      <th></th>\n",
       "      <th></th>\n",
       "      <th>open</th>\n",
       "      <th>high</th>\n",
       "      <th>low</th>\n",
       "      <th>close</th>\n",
       "      <th>volume</th>\n",
       "      <th>ex-dividend</th>\n",
       "      <th>split_ratio</th>\n",
       "      <th>adj_open</th>\n",
       "      <th>adj_high</th>\n",
       "      <th>adj_low</th>\n",
       "      <th>adj_close</th>\n",
       "      <th>adj_volume</th>\n",
       "    </tr>\n",
       "    <tr>\n",
       "      <th>ticker</th>\n",
       "      <th>date</th>\n",
       "      <th></th>\n",
       "      <th></th>\n",
       "      <th></th>\n",
       "      <th></th>\n",
       "      <th></th>\n",
       "      <th></th>\n",
       "      <th></th>\n",
       "      <th></th>\n",
       "      <th></th>\n",
       "      <th></th>\n",
       "      <th></th>\n",
       "      <th></th>\n",
       "    </tr>\n",
       "  </thead>\n",
       "  <tbody>\n",
       "    <tr>\n",
       "      <th rowspan=\"2\" valign=\"top\">A</th>\n",
       "      <th>1999-11-18</th>\n",
       "      <td>45.5000</td>\n",
       "      <td>50.0000</td>\n",
       "      <td>40.0000</td>\n",
       "      <td>44.0000</td>\n",
       "      <td>44,739,900.0000</td>\n",
       "      <td>0.0000</td>\n",
       "      <td>1.0000</td>\n",
       "      <td>31.0420</td>\n",
       "      <td>34.1120</td>\n",
       "      <td>27.2896</td>\n",
       "      <td>30.0186</td>\n",
       "      <td>44,739,900.0000</td>\n",
       "    </tr>\n",
       "    <tr>\n",
       "      <th>1999-11-19</th>\n",
       "      <td>42.9400</td>\n",
       "      <td>43.0000</td>\n",
       "      <td>39.8100</td>\n",
       "      <td>40.3800</td>\n",
       "      <td>10,897,100.0000</td>\n",
       "      <td>0.0000</td>\n",
       "      <td>1.0000</td>\n",
       "      <td>29.2954</td>\n",
       "      <td>29.3363</td>\n",
       "      <td>27.1600</td>\n",
       "      <td>27.5489</td>\n",
       "      <td>10,897,100.0000</td>\n",
       "    </tr>\n",
       "    <tr>\n",
       "      <th rowspan=\"2\" valign=\"top\">ZUMZ</th>\n",
       "      <th>2018-03-26</th>\n",
       "      <td>23.7500</td>\n",
       "      <td>24.8000</td>\n",
       "      <td>23.7000</td>\n",
       "      <td>24.6500</td>\n",
       "      <td>375,320.0000</td>\n",
       "      <td>0.0000</td>\n",
       "      <td>1.0000</td>\n",
       "      <td>23.7500</td>\n",
       "      <td>24.8000</td>\n",
       "      <td>23.7000</td>\n",
       "      <td>24.6500</td>\n",
       "      <td>375,320.0000</td>\n",
       "    </tr>\n",
       "    <tr>\n",
       "      <th>2018-03-27</th>\n",
       "      <td>24.6500</td>\n",
       "      <td>24.6500</td>\n",
       "      <td>23.3500</td>\n",
       "      <td>23.6000</td>\n",
       "      <td>403,884.0000</td>\n",
       "      <td>0.0000</td>\n",
       "      <td>1.0000</td>\n",
       "      <td>24.6500</td>\n",
       "      <td>24.6500</td>\n",
       "      <td>23.3500</td>\n",
       "      <td>23.6000</td>\n",
       "      <td>403,884.0000</td>\n",
       "    </tr>\n",
       "  </tbody>\n",
       "</table>\n",
       "</div>"
      ],
      "text/plain": [
       "                     open    high     low   close          volume  \\\n",
       "ticker date                                                         \n",
       "A      1999-11-18 45.5000 50.0000 40.0000 44.0000 44,739,900.0000   \n",
       "       1999-11-19 42.9400 43.0000 39.8100 40.3800 10,897,100.0000   \n",
       "ZUMZ   2018-03-26 23.7500 24.8000 23.7000 24.6500    375,320.0000   \n",
       "       2018-03-27 24.6500 24.6500 23.3500 23.6000    403,884.0000   \n",
       "\n",
       "                   ex-dividend  split_ratio  adj_open  adj_high  adj_low  \\\n",
       "ticker date                                                                \n",
       "A      1999-11-18       0.0000       1.0000   31.0420   34.1120  27.2896   \n",
       "       1999-11-19       0.0000       1.0000   29.2954   29.3363  27.1600   \n",
       "ZUMZ   2018-03-26       0.0000       1.0000   23.7500   24.8000  23.7000   \n",
       "       2018-03-27       0.0000       1.0000   24.6500   24.6500  23.3500   \n",
       "\n",
       "                   adj_close      adj_volume  \n",
       "ticker date                                   \n",
       "A      1999-11-18    30.0186 44,739,900.0000  \n",
       "       1999-11-19    27.5489 10,897,100.0000  \n",
       "ZUMZ   2018-03-26    24.6500    375,320.0000  \n",
       "       2018-03-27    23.6000    403,884.0000  "
      ]
     },
     "execution_count": 8,
     "metadata": {},
     "output_type": "execute_result"
    }
   ],
   "source": [
    "pd.concat([wiki_prices.head(2), wiki_prices.tail(2)], axis=0)"
   ]
  },
  {
   "cell_type": "code",
   "execution_count": 9,
   "id": "3bcf52d2-b64b-48b1-935c-2ae352b24a62",
   "metadata": {},
   "outputs": [
    {
     "name": "stdout",
     "output_type": "stream",
     "text": [
      "<class 'pandas.core.frame.DataFrame'>\n",
      "MultiIndex: 15389314 entries, ('A', Timestamp('1999-11-18 00:00:00')) to ('ZUMZ', Timestamp('2018-03-27 00:00:00'))\n",
      "Columns: 12 entries, open to adj_volume\n",
      "dtypes: float64(12)\n",
      "memory usage: 1.4+ GB\n"
     ]
    }
   ],
   "source": [
    "wiki_prices.info()"
   ]
  },
  {
   "cell_type": "markdown",
   "id": "f06f84fb-c8b4-444b-9f05-e37055d0fedd",
   "metadata": {},
   "source": [
    "# Data Preparation"
   ]
  },
  {
   "cell_type": "code",
   "execution_count": 47,
   "id": "cb17060c-fc2f-4011-9053-5b3e7d1f2189",
   "metadata": {},
   "outputs": [],
   "source": [
    "avol = wiki_prices.groupby(tags.TICKER)[tags.VOLUME].transform(lambda grp: grp.rolling(30).mean())"
   ]
  },
  {
   "cell_type": "code",
   "execution_count": 21,
   "id": "f2f12402-ea18-4b2f-b492-f6f903bd1d1b",
   "metadata": {},
   "outputs": [],
   "source": [
    "n_tickers = wiki_prices.reset_index(tags.TICKER).groupby(tags.DATE).size()"
   ]
  },
  {
   "cell_type": "markdown",
   "id": "dec69b04-e0ee-4013-a593-fec3142e876a",
   "metadata": {},
   "source": [
    "## Pipeline"
   ]
  },
  {
   "cell_type": "markdown",
   "id": "f8d463a3-0b28-47d1-b6e2-3cf477383ab4",
   "metadata": {},
   "source": [
    "```python\n",
    "def log_returns(prices: pd.Series, tau: int) -> pd.Series:\n",
    "    \"\"\"\n",
    "    Compute log returns on time series data\n",
    "    log(p2/p1) = log(p2) - log(p1)\n",
    "    @param prices: time series data\n",
    "    @param tau: differencing period\n",
    "    @return: returns\n",
    "    \"\"\"\n",
    "\n",
    "\n",
    "def pl_targets(data: pd.DataFrame, tau_fwd: int) -> pd.DataFrame:\n",
    "    \"\"\"\n",
    "    Target computation on close price\n",
    "    @param data: input\n",
    "    @param tau_fwd: target time horizon (forward)\n",
    "    @return: output\n",
    "    \"\"\"\n",
    "    \n",
    "def pl_min_avol_filter(data: pd.DataFrame, window: int, min_adv: int) -> pd.DataFrame:\n",
    "    \"\"\"\n",
    "    Compute rolling Average Volume by ticker and filter top quantile\n",
    "    @param data: input\n",
    "    @param window: number o periods to compute rolling mean\n",
    "    @param qthreshold: filter threshold (top quantile)\n",
    "    @return: output\n",
    "    \"\"\"\n",
    "    \n",
    "def pl_date_filter(data: pd.DataFrame, start_dt: str, end_dt: str) -> pd.DataFrame:\n",
    "    \"\"\"\n",
    "    Apply a filter to index level `date`\n",
    "    @param data: input\n",
    "    @param start_dt: Filter start\n",
    "    @param end_dt: Filter end\n",
    "    @return: output\n",
    "    \"\"\"\n",
    "\n",
    "\n",
    "def pl_features(data: pd.DataFrame) -> pd.DataFrame:\n",
    "    \"\"\"\n",
    "    Compute feautures:\n",
    "        x_returns_5d: 5 days momentum indicator, log_returns(p[t-5], p[t])\n",
    "        x_returns_1d: 1 day momentum indicator, log_returns(p[t-1], p[t])\n",
    "    :param data: input\n",
    "    :return:  output\n",
    "    \"\"\"\n",
    "\n",
    "   \n"
   ]
  },
  {
   "cell_type": "code",
   "execution_count": 63,
   "id": "008aaf28-7236-4c3e-b342-fcd35c7f03ba",
   "metadata": {},
   "outputs": [],
   "source": [
    "feats_and_targets = (wiki_prices\n",
    "                     .pipe(dataprep.pl_targets, tau_fwd=tau)\n",
    "                     .pipe(dataprep.pl_features)\n",
    "                     .pipe(dataprep.pl_min_avol_filter, window=avol_window, qthreshold=avol_qthres)\n",
    "                     .pipe(dataprep.pl_date_filter, start_dt=start_dt, end_dt=end_dt)\n",
    "                    )"
   ]
  },
  {
   "cell_type": "code",
   "execution_count": 68,
   "id": "3b4bbf0f-7c1e-402c-a930-84470ff3c0c2",
   "metadata": {},
   "outputs": [
    {
     "data": {
      "text/html": [
       "<div>\n",
       "<style scoped>\n",
       "    .dataframe tbody tr th:only-of-type {\n",
       "        vertical-align: middle;\n",
       "    }\n",
       "\n",
       "    .dataframe tbody tr th {\n",
       "        vertical-align: top;\n",
       "    }\n",
       "\n",
       "    .dataframe thead th {\n",
       "        text-align: right;\n",
       "    }\n",
       "</style>\n",
       "<table border=\"1\" class=\"dataframe\">\n",
       "  <thead>\n",
       "    <tr style=\"text-align: right;\">\n",
       "      <th></th>\n",
       "      <th></th>\n",
       "      <th>open</th>\n",
       "      <th>high</th>\n",
       "      <th>low</th>\n",
       "      <th>close</th>\n",
       "      <th>volume</th>\n",
       "      <th>ex-dividend</th>\n",
       "      <th>split_ratio</th>\n",
       "      <th>adj_open</th>\n",
       "      <th>adj_high</th>\n",
       "      <th>adj_low</th>\n",
       "      <th>adj_close</th>\n",
       "      <th>adj_volume</th>\n",
       "      <th>dollar_volume</th>\n",
       "      <th>target</th>\n",
       "      <th>x_returns_5d</th>\n",
       "      <th>x_returns_1y</th>\n",
       "    </tr>\n",
       "    <tr>\n",
       "      <th>ticker</th>\n",
       "      <th>date</th>\n",
       "      <th></th>\n",
       "      <th></th>\n",
       "      <th></th>\n",
       "      <th></th>\n",
       "      <th></th>\n",
       "      <th></th>\n",
       "      <th></th>\n",
       "      <th></th>\n",
       "      <th></th>\n",
       "      <th></th>\n",
       "      <th></th>\n",
       "      <th></th>\n",
       "      <th></th>\n",
       "      <th></th>\n",
       "      <th></th>\n",
       "      <th></th>\n",
       "    </tr>\n",
       "  </thead>\n",
       "  <tbody>\n",
       "    <tr>\n",
       "      <th rowspan=\"2\" valign=\"top\">A</th>\n",
       "      <th>2015-01-02</th>\n",
       "      <td>41.1800</td>\n",
       "      <td>41.3100</td>\n",
       "      <td>40.3700</td>\n",
       "      <td>40.5600</td>\n",
       "      <td>1,530,798.0000</td>\n",
       "      <td>0.1000</td>\n",
       "      <td>1.0000</td>\n",
       "      <td>40.0388</td>\n",
       "      <td>40.1652</td>\n",
       "      <td>39.2512</td>\n",
       "      <td>39.4360</td>\n",
       "      <td>1,530,798.0000</td>\n",
       "      <td>60,368,486.5103</td>\n",
       "      <td>-0.0007</td>\n",
       "      <td>-0.0115</td>\n",
       "      <td>0.0002</td>\n",
       "    </tr>\n",
       "    <tr>\n",
       "      <th>2015-01-05</th>\n",
       "      <td>40.3200</td>\n",
       "      <td>40.4600</td>\n",
       "      <td>39.7000</td>\n",
       "      <td>39.8000</td>\n",
       "      <td>2,042,240.0000</td>\n",
       "      <td>0.0000</td>\n",
       "      <td>1.0000</td>\n",
       "      <td>39.2026</td>\n",
       "      <td>39.3387</td>\n",
       "      <td>38.5998</td>\n",
       "      <td>38.6970</td>\n",
       "      <td>2,042,240.0000</td>\n",
       "      <td>79,028,603.1304</td>\n",
       "      <td>-0.0078</td>\n",
       "      <td>-0.0365</td>\n",
       "      <td>-0.0329</td>\n",
       "    </tr>\n",
       "    <tr>\n",
       "      <th rowspan=\"2\" valign=\"top\">ZUMZ</th>\n",
       "      <th>2017-10-17</th>\n",
       "      <td>17.0000</td>\n",
       "      <td>17.3500</td>\n",
       "      <td>16.8000</td>\n",
       "      <td>17.0000</td>\n",
       "      <td>264,501.0000</td>\n",
       "      <td>0.0000</td>\n",
       "      <td>1.0000</td>\n",
       "      <td>17.0000</td>\n",
       "      <td>17.3500</td>\n",
       "      <td>16.8000</td>\n",
       "      <td>17.0000</td>\n",
       "      <td>264,501.0000</td>\n",
       "      <td>4,496,517.0000</td>\n",
       "      <td>-0.0516</td>\n",
       "      <td>-0.0980</td>\n",
       "      <td>-0.2781</td>\n",
       "    </tr>\n",
       "    <tr>\n",
       "      <th>2017-10-18</th>\n",
       "      <td>17.1500</td>\n",
       "      <td>17.4500</td>\n",
       "      <td>16.9500</td>\n",
       "      <td>17.4000</td>\n",
       "      <td>232,349.0000</td>\n",
       "      <td>0.0000</td>\n",
       "      <td>1.0000</td>\n",
       "      <td>17.1500</td>\n",
       "      <td>17.4500</td>\n",
       "      <td>16.9500</td>\n",
       "      <td>17.4000</td>\n",
       "      <td>232,349.0000</td>\n",
       "      <td>4,042,872.6000</td>\n",
       "      <td>-0.0367</td>\n",
       "      <td>-0.0477</td>\n",
       "      <td>-0.2481</td>\n",
       "    </tr>\n",
       "  </tbody>\n",
       "</table>\n",
       "</div>"
      ],
      "text/plain": [
       "                     open    high     low   close         volume  ex-dividend  \\\n",
       "ticker date                                                                     \n",
       "A      2015-01-02 41.1800 41.3100 40.3700 40.5600 1,530,798.0000       0.1000   \n",
       "       2015-01-05 40.3200 40.4600 39.7000 39.8000 2,042,240.0000       0.0000   \n",
       "ZUMZ   2017-10-17 17.0000 17.3500 16.8000 17.0000   264,501.0000       0.0000   \n",
       "       2017-10-18 17.1500 17.4500 16.9500 17.4000   232,349.0000       0.0000   \n",
       "\n",
       "                   split_ratio  adj_open  adj_high  adj_low  adj_close  \\\n",
       "ticker date                                                              \n",
       "A      2015-01-02       1.0000   40.0388   40.1652  39.2512    39.4360   \n",
       "       2015-01-05       1.0000   39.2026   39.3387  38.5998    38.6970   \n",
       "ZUMZ   2017-10-17       1.0000   17.0000   17.3500  16.8000    17.0000   \n",
       "       2017-10-18       1.0000   17.1500   17.4500  16.9500    17.4000   \n",
       "\n",
       "                      adj_volume   dollar_volume  target  x_returns_5d  \\\n",
       "ticker date                                                              \n",
       "A      2015-01-02 1,530,798.0000 60,368,486.5103 -0.0007       -0.0115   \n",
       "       2015-01-05 2,042,240.0000 79,028,603.1304 -0.0078       -0.0365   \n",
       "ZUMZ   2017-10-17   264,501.0000  4,496,517.0000 -0.0516       -0.0980   \n",
       "       2017-10-18   232,349.0000  4,042,872.6000 -0.0367       -0.0477   \n",
       "\n",
       "                   x_returns_1y  \n",
       "ticker date                      \n",
       "A      2015-01-02        0.0002  \n",
       "       2015-01-05       -0.0329  \n",
       "ZUMZ   2017-10-17       -0.2781  \n",
       "       2017-10-18       -0.2481  "
      ]
     },
     "execution_count": 68,
     "metadata": {},
     "output_type": "execute_result"
    }
   ],
   "source": [
    "pd.concat([feats_and_targets.head(2), feats_and_targets.tail(2)], axis=0)"
   ]
  },
  {
   "cell_type": "code",
   "execution_count": 69,
   "id": "d25ed0bc-6636-4145-9a7b-9f70087c9898",
   "metadata": {},
   "outputs": [],
   "source": [
    "singl_stock = feats_and_targets.loc[ticker]"
   ]
  },
  {
   "cell_type": "code",
   "execution_count": 70,
   "id": "36b6f252-4761-4158-a81e-5123329b8af5",
   "metadata": {},
   "outputs": [
    {
     "data": {
      "text/plain": [
       "x_returns_5d    0\n",
       "target          0\n",
       "dtype: int64"
      ]
     },
     "execution_count": 70,
     "metadata": {},
     "output_type": "execute_result"
    }
   ],
   "source": [
    "feats_and_targets[['x_returns_5d', tags.TARGET ]].isna().sum(axis=0)"
   ]
  },
  {
   "cell_type": "code",
   "execution_count": 71,
   "id": "208c8162-3c21-46f5-8576-dd637dd6c7c8",
   "metadata": {},
   "outputs": [],
   "source": [
    "feats_and_targets['x_returns_5d'] = feats_and_targets['x_returns_5d'].fillna(0)"
   ]
  },
  {
   "cell_type": "markdown",
   "id": "509d211d-b1e9-4c93-b9b7-b49eafd0c34b",
   "metadata": {},
   "source": [
    "# Visualization"
   ]
  },
  {
   "cell_type": "markdown",
   "id": "1c857c1b-2160-4295-b2df-f6fa3718ef4b",
   "metadata": {},
   "source": [
    "## Trading Population (Universe)"
   ]
  },
  {
   "cell_type": "code",
   "execution_count": 72,
   "id": "725f0ae1-d10f-4163-9677-f590e90c0c02",
   "metadata": {},
   "outputs": [
    {
     "data": {
      "image/png": "[encoded data removed]",
      "text/plain": [
       "<Figure size 864x432 with 1 Axes>"
      ]
     },
     "metadata": {
      "needs_background": "light"
     },
     "output_type": "display_data"
    }
   ],
   "source": [
    "n_tickers['2016'].plot()\n",
    "plt.title('N Tickers')\n",
    "plt.show()"
   ]
  },
  {
   "cell_type": "code",
   "execution_count": 73,
   "id": "af049bfb-ac27-4150-a3f6-8d96ec67e86f",
   "metadata": {},
   "outputs": [
    {
     "data": {
      "text/plain": [
       "count      15,389,314.0000\n",
       "mean        1,412,932.3279\n",
       "std         6,535,417.7660\n",
       "min                 0.0000\n",
       "25%            46,800.0000\n",
       "50%           232,100.0000\n",
       "75%           907,200.0000\n",
       "max     2,304,018,600.0000\n",
       "Name: adj_volume, dtype: float64"
      ]
     },
     "execution_count": 73,
     "metadata": {},
     "output_type": "execute_result"
    }
   ],
   "source": [
    "wiki_prices[tags.VOLUME].describe()"
   ]
  },
  {
   "cell_type": "code",
   "execution_count": 74,
   "id": "06a0e40a-3641-4cab-8ad5-184ff77be82f",
   "metadata": {},
   "outputs": [
    {
     "data": {
      "image/png": "[encoded data removed]",
      "text/plain": [
       "<Figure size 864x432 with 1 Axes>"
      ]
     },
     "metadata": {
      "needs_background": "light"
     },
     "output_type": "display_data"
    }
   ],
   "source": [
    "wiki_prices[tags.VOLUME].clip(upper=1e6).plot.hist(density=True)\n",
    "plt.axvline(x=7.5e5, color='black', linewidth=1.5)\n",
    "plt.title(\"Average Dollar Volume Distribution (clipped)\")\n",
    "plt.show()"
   ]
  },
  {
   "cell_type": "code",
   "execution_count": 75,
   "id": "2fefe3ec-711a-4547-80c5-1377561edf12",
   "metadata": {},
   "outputs": [
    {
     "data": {
      "image/png": "[encoded data removed]",
      "text/plain": [
       "<Figure size 864x432 with 1 Axes>"
      ]
     },
     "metadata": {
      "needs_background": "light"
     },
     "output_type": "display_data"
    }
   ],
   "source": [
    "ax = wiki_prices.loc[ticker, tags.VOLUME].plot()\n",
    "avol[ticker].plot(ax=ax)\n",
    "plt.axhline(y=1e4, color='black', linewidth=1)\n",
    "plt.title(f'ADV for ticker: {ticker}')\n",
    "\n",
    "plt.show()"
   ]
  },
  {
   "cell_type": "markdown",
   "id": "59dfbbe4-0f5d-4f25-a655-a4422da58859",
   "metadata": {},
   "source": [
    "## Single stock Visulalizations"
   ]
  },
  {
   "cell_type": "code",
   "execution_count": 76,
   "id": "ef792f68-92fb-4f73-8fa3-3cdd18fc22a9",
   "metadata": {},
   "outputs": [],
   "source": [
    "#feats_and_targets.index.get_level_values('ticker').unique().tolist()"
   ]
  },
  {
   "cell_type": "code",
   "execution_count": 77,
   "id": "e526d2f8-e6e2-4e1a-a56e-79a22b1ca041",
   "metadata": {},
   "outputs": [
    {
     "data": {
      "text/plain": [
       "<AxesSubplot:xlabel='date'>"
      ]
     },
     "execution_count": 77,
     "metadata": {},
     "output_type": "execute_result"
    },
    {
     "data": {
      "image/png": "[encoded data removed]",
      "text/plain": [
       "<Figure size 864x432 with 1 Axes>"
      ]
     },
     "metadata": {
      "needs_background": "light"
     },
     "output_type": "display_data"
    }
   ],
   "source": [
    "singl_stock.plot(y=tags.CLOSE)"
   ]
  },
  {
   "cell_type": "code",
   "execution_count": 78,
   "id": "4a44d48b-cbf7-4ef4-a8d8-c7b7efddb242",
   "metadata": {},
   "outputs": [
    {
     "ename": "KeyError",
     "evalue": "'x_returns_1d'",
     "output_type": "error",
     "traceback": [
      "\u001b[1;31m---------------------------------------------------------------------------\u001b[0m",
      "\u001b[1;31mKeyError\u001b[0m                                  Traceback (most recent call last)",
      "\u001b[1;32mC:\\ProgramData\\Anaconda3\\envs\\ml4t\\lib\\site-packages\\pandas\\core\\indexes\\base.py\u001b[0m in \u001b[0;36mget_loc\u001b[1;34m(self, key, method, tolerance)\u001b[0m\n\u001b[0;32m   3079\u001b[0m             \u001b[1;32mtry\u001b[0m\u001b[1;33m:\u001b[0m\u001b[1;33m\u001b[0m\u001b[1;33m\u001b[0m\u001b[0m\n\u001b[1;32m-> 3080\u001b[1;33m                 \u001b[1;32mreturn\u001b[0m \u001b[0mself\u001b[0m\u001b[1;33m.\u001b[0m\u001b[0m_engine\u001b[0m\u001b[1;33m.\u001b[0m\u001b[0mget_loc\u001b[0m\u001b[1;33m(\u001b[0m\u001b[0mcasted_key\u001b[0m\u001b[1;33m)\u001b[0m\u001b[1;33m\u001b[0m\u001b[1;33m\u001b[0m\u001b[0m\n\u001b[0m\u001b[0;32m   3081\u001b[0m             \u001b[1;32mexcept\u001b[0m \u001b[0mKeyError\u001b[0m \u001b[1;32mas\u001b[0m \u001b[0merr\u001b[0m\u001b[1;33m:\u001b[0m\u001b[1;33m\u001b[0m\u001b[1;33m\u001b[0m\u001b[0m\n",
      "\u001b[1;32mpandas\\_libs\\index.pyx\u001b[0m in \u001b[0;36mpandas._libs.index.IndexEngine.get_loc\u001b[1;34m()\u001b[0m\n",
      "\u001b[1;32mpandas\\_libs\\index.pyx\u001b[0m in \u001b[0;36mpandas._libs.index.IndexEngine.get_loc\u001b[1;34m()\u001b[0m\n",
      "\u001b[1;32mpandas\\_libs\\hashtable_class_helper.pxi\u001b[0m in \u001b[0;36mpandas._libs.hashtable.PyObjectHashTable.get_item\u001b[1;34m()\u001b[0m\n",
      "\u001b[1;32mpandas\\_libs\\hashtable_class_helper.pxi\u001b[0m in \u001b[0;36mpandas._libs.hashtable.PyObjectHashTable.get_item\u001b[1;34m()\u001b[0m\n",
      "\u001b[1;31mKeyError\u001b[0m: 'x_returns_1d'",
      "\nThe above exception was the direct cause of the following exception:\n",
      "\u001b[1;31mKeyError\u001b[0m                                  Traceback (most recent call last)",
      "\u001b[1;32m<ipython-input-78-956c968d5fcb>\u001b[0m in \u001b[0;36m<module>\u001b[1;34m\u001b[0m\n\u001b[1;32m----> 1\u001b[1;33m \u001b[0msingl_stock\u001b[0m\u001b[1;33m.\u001b[0m\u001b[0mplot\u001b[0m\u001b[1;33m(\u001b[0m\u001b[0my\u001b[0m\u001b[1;33m=\u001b[0m\u001b[1;34m'x_returns_1d'\u001b[0m\u001b[1;33m)\u001b[0m\u001b[1;33m\u001b[0m\u001b[1;33m\u001b[0m\u001b[0m\n\u001b[0m",
      "\u001b[1;32mC:\\ProgramData\\Anaconda3\\envs\\ml4t\\lib\\site-packages\\pandas\\plotting\\_core.py\u001b[0m in \u001b[0;36m__call__\u001b[1;34m(self, *args, **kwargs)\u001b[0m\n\u001b[0;32m    939\u001b[0m \u001b[1;33m\u001b[0m\u001b[0m\n\u001b[0;32m    940\u001b[0m                 \u001b[1;31m# don't overwrite\u001b[0m\u001b[1;33m\u001b[0m\u001b[1;33m\u001b[0m\u001b[1;33m\u001b[0m\u001b[0m\n\u001b[1;32m--> 941\u001b[1;33m                 \u001b[0mdata\u001b[0m \u001b[1;33m=\u001b[0m \u001b[0mdata\u001b[0m\u001b[1;33m[\u001b[0m\u001b[0my\u001b[0m\u001b[1;33m]\u001b[0m\u001b[1;33m.\u001b[0m\u001b[0mcopy\u001b[0m\u001b[1;33m(\u001b[0m\u001b[1;33m)\u001b[0m\u001b[1;33m\u001b[0m\u001b[1;33m\u001b[0m\u001b[0m\n\u001b[0m\u001b[0;32m    942\u001b[0m \u001b[1;33m\u001b[0m\u001b[0m\n\u001b[0;32m    943\u001b[0m                 \u001b[1;32mif\u001b[0m \u001b[0misinstance\u001b[0m\u001b[1;33m(\u001b[0m\u001b[0mdata\u001b[0m\u001b[1;33m,\u001b[0m \u001b[0mABCSeries\u001b[0m\u001b[1;33m)\u001b[0m\u001b[1;33m:\u001b[0m\u001b[1;33m\u001b[0m\u001b[1;33m\u001b[0m\u001b[0m\n",
      "\u001b[1;32mC:\\ProgramData\\Anaconda3\\envs\\ml4t\\lib\\site-packages\\pandas\\core\\frame.py\u001b[0m in \u001b[0;36m__getitem__\u001b[1;34m(self, key)\u001b[0m\n\u001b[0;32m   3022\u001b[0m             \u001b[1;32mif\u001b[0m \u001b[0mself\u001b[0m\u001b[1;33m.\u001b[0m\u001b[0mcolumns\u001b[0m\u001b[1;33m.\u001b[0m\u001b[0mnlevels\u001b[0m \u001b[1;33m>\u001b[0m \u001b[1;36m1\u001b[0m\u001b[1;33m:\u001b[0m\u001b[1;33m\u001b[0m\u001b[1;33m\u001b[0m\u001b[0m\n\u001b[0;32m   3023\u001b[0m                 \u001b[1;32mreturn\u001b[0m \u001b[0mself\u001b[0m\u001b[1;33m.\u001b[0m\u001b[0m_getitem_multilevel\u001b[0m\u001b[1;33m(\u001b[0m\u001b[0mkey\u001b[0m\u001b[1;33m)\u001b[0m\u001b[1;33m\u001b[0m\u001b[1;33m\u001b[0m\u001b[0m\n\u001b[1;32m-> 3024\u001b[1;33m             \u001b[0mindexer\u001b[0m \u001b[1;33m=\u001b[0m \u001b[0mself\u001b[0m\u001b[1;33m.\u001b[0m\u001b[0mcolumns\u001b[0m\u001b[1;33m.\u001b[0m\u001b[0mget_loc\u001b[0m\u001b[1;33m(\u001b[0m\u001b[0mkey\u001b[0m\u001b[1;33m)\u001b[0m\u001b[1;33m\u001b[0m\u001b[1;33m\u001b[0m\u001b[0m\n\u001b[0m\u001b[0;32m   3025\u001b[0m             \u001b[1;32mif\u001b[0m \u001b[0mis_integer\u001b[0m\u001b[1;33m(\u001b[0m\u001b[0mindexer\u001b[0m\u001b[1;33m)\u001b[0m\u001b[1;33m:\u001b[0m\u001b[1;33m\u001b[0m\u001b[1;33m\u001b[0m\u001b[0m\n\u001b[0;32m   3026\u001b[0m                 \u001b[0mindexer\u001b[0m \u001b[1;33m=\u001b[0m \u001b[1;33m[\u001b[0m\u001b[0mindexer\u001b[0m\u001b[1;33m]\u001b[0m\u001b[1;33m\u001b[0m\u001b[1;33m\u001b[0m\u001b[0m\n",
      "\u001b[1;32mC:\\ProgramData\\Anaconda3\\envs\\ml4t\\lib\\site-packages\\pandas\\core\\indexes\\base.py\u001b[0m in \u001b[0;36mget_loc\u001b[1;34m(self, key, method, tolerance)\u001b[0m\n\u001b[0;32m   3080\u001b[0m                 \u001b[1;32mreturn\u001b[0m \u001b[0mself\u001b[0m\u001b[1;33m.\u001b[0m\u001b[0m_engine\u001b[0m\u001b[1;33m.\u001b[0m\u001b[0mget_loc\u001b[0m\u001b[1;33m(\u001b[0m\u001b[0mcasted_key\u001b[0m\u001b[1;33m)\u001b[0m\u001b[1;33m\u001b[0m\u001b[1;33m\u001b[0m\u001b[0m\n\u001b[0;32m   3081\u001b[0m             \u001b[1;32mexcept\u001b[0m \u001b[0mKeyError\u001b[0m \u001b[1;32mas\u001b[0m \u001b[0merr\u001b[0m\u001b[1;33m:\u001b[0m\u001b[1;33m\u001b[0m\u001b[1;33m\u001b[0m\u001b[0m\n\u001b[1;32m-> 3082\u001b[1;33m                 \u001b[1;32mraise\u001b[0m \u001b[0mKeyError\u001b[0m\u001b[1;33m(\u001b[0m\u001b[0mkey\u001b[0m\u001b[1;33m)\u001b[0m \u001b[1;32mfrom\u001b[0m \u001b[0merr\u001b[0m\u001b[1;33m\u001b[0m\u001b[1;33m\u001b[0m\u001b[0m\n\u001b[0m\u001b[0;32m   3083\u001b[0m \u001b[1;33m\u001b[0m\u001b[0m\n\u001b[0;32m   3084\u001b[0m         \u001b[1;32mif\u001b[0m \u001b[0mtolerance\u001b[0m \u001b[1;32mis\u001b[0m \u001b[1;32mnot\u001b[0m \u001b[1;32mNone\u001b[0m\u001b[1;33m:\u001b[0m\u001b[1;33m\u001b[0m\u001b[1;33m\u001b[0m\u001b[0m\n",
      "\u001b[1;31mKeyError\u001b[0m: 'x_returns_1d'"
     ]
    }
   ],
   "source": [
    "singl_stock.plot(y='x_returns_1d')"
   ]
  },
  {
   "cell_type": "markdown",
   "id": "e0bd3c2f-6b91-442f-ad33-d4ad7af49327",
   "metadata": {},
   "source": [
    "## Stationarity"
   ]
  },
  {
   "cell_type": "code",
   "execution_count": null,
   "id": "e2234e61-40fb-4528-9085-64877ca4eb6a",
   "metadata": {},
   "outputs": [],
   "source": [
    "adfuller(singl_stock[tags.CLOSE])"
   ]
  },
  {
   "cell_type": "code",
   "execution_count": null,
   "id": "7567f4b7-74a4-4a65-9001-13330ae31698",
   "metadata": {},
   "outputs": [],
   "source": [
    "adfuller(singl_stock['x_returns_1d'])"
   ]
  },
  {
   "cell_type": "markdown",
   "id": "297c7df2-a302-44b7-ad21-8f6bbe18e820",
   "metadata": {},
   "source": [
    "## Descriptive Statistics"
   ]
  },
  {
   "cell_type": "code",
   "execution_count": null,
   "id": "a07ef9c2-f78e-4183-a848-5854428afdcc",
   "metadata": {},
   "outputs": [],
   "source": [
    "singl_stock['x_returns_1d'].describe()"
   ]
  },
  {
   "cell_type": "code",
   "execution_count": null,
   "id": "e98abd4e-12e7-4453-a9cc-e8591c5b587a",
   "metadata": {},
   "outputs": [],
   "source": [
    "singl_stock_roll20 = singl_stock.rolling(20)\n",
    "\n",
    "singl_stock = singl_stock.assign(\n",
    "    returns_1d_mave20=singl_stock_roll20['x_returns_1d'].std(),\n",
    "    returns_1d_mstd20=singl_stock_roll20['x_returns_1d'].mean())"
   ]
  },
  {
   "cell_type": "code",
   "execution_count": null,
   "id": "60582af1-1277-4aac-92d1-1ce38cdd2309",
   "metadata": {},
   "outputs": [],
   "source": [
    "singl_stock.plot(y=['returns_1d_mave20', 'returns_1d_mstd20'])\n",
    "plt.axhline(y=0, linewidth=1, color='grey')"
   ]
  },
  {
   "cell_type": "markdown",
   "id": "b1330e32-7784-4da9-afd1-b85526365c09",
   "metadata": {},
   "source": [
    "## ACF and PACF"
   ]
  },
  {
   "cell_type": "code",
   "execution_count": null,
   "id": "8891714b-32a9-4c9e-b3ec-0df1a5787726",
   "metadata": {},
   "outputs": [],
   "source": [
    "fig, axs = plt.subplots(2,1, figsize=(16,10), sharex=True)\n",
    "\n",
    "ax = axs[0]\n",
    "plot_acf(singl_stock['x_returns_1d'], ax=ax)\n",
    "\n",
    "ax = axs[1]\n",
    "plot_pacf(singl_stock['x_returns_1d'], ax=ax)\n",
    "\n",
    "plt.show()"
   ]
  },
  {
   "cell_type": "markdown",
   "id": "72f717ce-1f47-4dbe-9174-c3c767c1953c",
   "metadata": {},
   "source": [
    "# Benchmark model"
   ]
  },
  {
   "cell_type": "code",
   "execution_count": 79,
   "id": "568b676f-f7fb-4b37-b1c0-355e9f704991",
   "metadata": {},
   "outputs": [
    {
     "data": {
      "text/html": [
       "<div>\n",
       "<style scoped>\n",
       "    .dataframe tbody tr th:only-of-type {\n",
       "        vertical-align: middle;\n",
       "    }\n",
       "\n",
       "    .dataframe tbody tr th {\n",
       "        vertical-align: top;\n",
       "    }\n",
       "\n",
       "    .dataframe thead th {\n",
       "        text-align: right;\n",
       "    }\n",
       "</style>\n",
       "<table border=\"1\" class=\"dataframe\">\n",
       "  <thead>\n",
       "    <tr style=\"text-align: right;\">\n",
       "      <th></th>\n",
       "      <th>x_returns_5d</th>\n",
       "      <th>target</th>\n",
       "    </tr>\n",
       "  </thead>\n",
       "  <tbody>\n",
       "    <tr>\n",
       "      <th>x_returns_5d</th>\n",
       "      <td>1.0000</td>\n",
       "      <td>0.0155</td>\n",
       "    </tr>\n",
       "    <tr>\n",
       "      <th>target</th>\n",
       "      <td>0.0155</td>\n",
       "      <td>1.0000</td>\n",
       "    </tr>\n",
       "  </tbody>\n",
       "</table>\n",
       "</div>"
      ],
      "text/plain": [
       "              x_returns_5d  target\n",
       "x_returns_5d        1.0000  0.0155\n",
       "target              0.0155  1.0000"
      ]
     },
     "execution_count": 79,
     "metadata": {},
     "output_type": "execute_result"
    }
   ],
   "source": [
    "feats_and_targets[['x_returns_5d', tags.TARGET]].corr(method='spearman')"
   ]
  },
  {
   "cell_type": "code",
   "execution_count": 80,
   "id": "d15141a6-6d19-481f-ac81-3c57a131b5bb",
   "metadata": {},
   "outputs": [
    {
     "data": {
      "text/plain": [
       "0.009233089677703516"
      ]
     },
     "execution_count": 80,
     "metadata": {},
     "output_type": "execute_result"
    }
   ],
   "source": [
    "mean_squared_error(y_true=feats_and_targets['x_returns_5d'], y_pred=feats_and_targets[tags.TARGET])"
   ]
  },
  {
   "cell_type": "code",
   "execution_count": 81,
   "id": "64c499db-6f52-400f-9ae7-e93cca5fc9c3",
   "metadata": {},
   "outputs": [
    {
     "data": {
      "text/plain": [
       "0.49831213189642737"
      ]
     },
     "execution_count": 81,
     "metadata": {},
     "output_type": "execute_result"
    }
   ],
   "source": [
    "accuracy_score(y_true=np.sign(feats_and_targets['x_returns_5d']), y_pred=np.sign(feats_and_targets[tags.TARGET]))"
   ]
  },
  {
   "cell_type": "code",
   "execution_count": null,
   "id": "145410f5-eb50-4078-b196-af617b8b60c4",
   "metadata": {},
   "outputs": [],
   "source": []
  }
 ],
 "metadata": {
  "kernelspec": {
   "display_name": "Python 3",
   "language": "python",
   "name": "python3"
  },
  "language_info": {
   "codemirror_mode": {
    "name": "ipython",
    "version": 3
   },
   "file_extension": ".py",
   "mimetype": "text/x-python",
   "name": "python",
   "nbconvert_exporter": "python",
   "pygments_lexer": "ipython3",
   "version": "3.8.8"
  }
 },
 "nbformat": 4,
 "nbformat_minor": 5
}
