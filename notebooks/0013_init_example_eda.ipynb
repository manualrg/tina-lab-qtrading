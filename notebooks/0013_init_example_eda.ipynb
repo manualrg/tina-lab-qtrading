{
 "cells": [
  {
   "cell_type": "markdown",
   "id": "6eb72ec8-64d5-4bf7-be52-a4205c42f90a",
   "metadata": {},
   "source": [
    "<font size=\"6\"><center>**Walk-through**</font>"
   ]
  },
  {
   "cell_type": "markdown",
   "id": "65f1d7de-fa8b-4b78-a806-4bbd8fb293f2",
   "metadata": {},
   "source": [
    "This notebooks attemps to guide newcomer quants in their first steps to become rich"
   ]
  },
  {
   "cell_type": "code",
   "execution_count": 1,
   "id": "f0d673ac-0425-41aa-9dc8-b23e860a5bd4",
   "metadata": {},
   "outputs": [],
   "source": [
    "%load_ext autoreload\n",
    "%autoreload 2"
   ]
  },
  {
   "cell_type": "code",
   "execution_count": 2,
   "id": "0cfad815-aca9-45b1-b9c5-e1391a3b01fa",
   "metadata": {},
   "outputs": [
    {
     "name": "stdout",
     "output_type": "stream",
     "text": [
      "running notebook configuration\n"
     ]
    }
   ],
   "source": [
    "%run ../nb_config.py"
   ]
  },
  {
   "cell_type": "code",
   "execution_count": 3,
   "id": "d5928164-9ea5-4633-a889-6ed5601832b1",
   "metadata": {},
   "outputs": [],
   "source": [
    "import numpy as np\n",
    "import pandas as pd\n",
    "import os"
   ]
  },
  {
   "cell_type": "markdown",
   "id": "4ed042a5-33f4-4574-86ca-8ae8d8839a5c",
   "metadata": {},
   "source": [
    "# Parameters"
   ]
  },
  {
   "cell_type": "code",
   "execution_count": 4,
   "id": "0c933af8-8190-488d-8247-262f9388a1f6",
   "metadata": {},
   "outputs": [],
   "source": [
    "start_dt = pd.Timestamp('2015-01-01')\n",
    "end_dt = pd.Timestamp('2017-12-31')\n",
    "split_dt = pd.Timestamp('2017-07-31')\n",
    "tau = 5"
   ]
  },
  {
   "cell_type": "code",
   "execution_count": 5,
   "id": "b1b736c9-38cd-4642-a6db-c39b55320c7e",
   "metadata": {},
   "outputs": [],
   "source": [
    "ticker = 'AMZN'"
   ]
  },
  {
   "cell_type": "markdown",
   "id": "234c7602-0b1b-4295-97fa-5819e648bf9d",
   "metadata": {
    "tags": []
   },
   "source": [
    "# Load Data"
   ]
  },
  {
   "cell_type": "markdown",
   "id": "28992761-4827-4446-a017-2375863826b5",
   "metadata": {},
   "source": [
    "`folder structure:`  \n",
    "|-notebooks/  \n",
    "|-data/  \n",
    "|--raw/  \n",
    "|---wiki_prices.csv"
   ]
  },
  {
   "cell_type": "code",
   "execution_count": 6,
   "id": "0b6c6dcb-c9be-4c40-9d7b-a0442d8be01d",
   "metadata": {},
   "outputs": [],
   "source": [
    "wiki_prices_path = os.path.join(\"..\", \"data\", \"raw\", \"wiki_prices.csv\")  #\n",
    "wiki_prices = pd.read_csv(wiki_prices_path, parse_dates=['date'], index_col=['ticker', 'date'])"
   ]
  },
  {
   "cell_type": "code",
   "execution_count": 7,
   "id": "a13511fc-1258-4a5d-aa96-2e44ab6539bd",
   "metadata": {},
   "outputs": [
    {
     "data": {
      "text/html": [
       "<div>\n",
       "<style scoped>\n",
       "    .dataframe tbody tr th:only-of-type {\n",
       "        vertical-align: middle;\n",
       "    }\n",
       "\n",
       "    .dataframe tbody tr th {\n",
       "        vertical-align: top;\n",
       "    }\n",
       "\n",
       "    .dataframe thead th {\n",
       "        text-align: right;\n",
       "    }\n",
       "</style>\n",
       "<table border=\"1\" class=\"dataframe\">\n",
       "  <thead>\n",
       "    <tr style=\"text-align: right;\">\n",
       "      <th></th>\n",
       "      <th></th>\n",
       "      <th>open</th>\n",
       "      <th>high</th>\n",
       "      <th>low</th>\n",
       "      <th>close</th>\n",
       "      <th>volume</th>\n",
       "      <th>ex-dividend</th>\n",
       "      <th>split_ratio</th>\n",
       "      <th>adj_open</th>\n",
       "      <th>adj_high</th>\n",
       "      <th>adj_low</th>\n",
       "      <th>adj_close</th>\n",
       "      <th>adj_volume</th>\n",
       "    </tr>\n",
       "    <tr>\n",
       "      <th>ticker</th>\n",
       "      <th>date</th>\n",
       "      <th></th>\n",
       "      <th></th>\n",
       "      <th></th>\n",
       "      <th></th>\n",
       "      <th></th>\n",
       "      <th></th>\n",
       "      <th></th>\n",
       "      <th></th>\n",
       "      <th></th>\n",
       "      <th></th>\n",
       "      <th></th>\n",
       "      <th></th>\n",
       "    </tr>\n",
       "  </thead>\n",
       "  <tbody>\n",
       "    <tr>\n",
       "      <th rowspan=\"2\" valign=\"top\">A</th>\n",
       "      <th>1999-11-18</th>\n",
       "      <td>45.5000</td>\n",
       "      <td>50.0000</td>\n",
       "      <td>40.0000</td>\n",
       "      <td>44.0000</td>\n",
       "      <td>44,739,900.0000</td>\n",
       "      <td>0.0000</td>\n",
       "      <td>1.0000</td>\n",
       "      <td>31.0420</td>\n",
       "      <td>34.1120</td>\n",
       "      <td>27.2896</td>\n",
       "      <td>30.0186</td>\n",
       "      <td>44,739,900.0000</td>\n",
       "    </tr>\n",
       "    <tr>\n",
       "      <th>1999-11-19</th>\n",
       "      <td>42.9400</td>\n",
       "      <td>43.0000</td>\n",
       "      <td>39.8100</td>\n",
       "      <td>40.3800</td>\n",
       "      <td>10,897,100.0000</td>\n",
       "      <td>0.0000</td>\n",
       "      <td>1.0000</td>\n",
       "      <td>29.2954</td>\n",
       "      <td>29.3363</td>\n",
       "      <td>27.1600</td>\n",
       "      <td>27.5489</td>\n",
       "      <td>10,897,100.0000</td>\n",
       "    </tr>\n",
       "    <tr>\n",
       "      <th rowspan=\"2\" valign=\"top\">ZUMZ</th>\n",
       "      <th>2018-03-26</th>\n",
       "      <td>23.7500</td>\n",
       "      <td>24.8000</td>\n",
       "      <td>23.7000</td>\n",
       "      <td>24.6500</td>\n",
       "      <td>375,320.0000</td>\n",
       "      <td>0.0000</td>\n",
       "      <td>1.0000</td>\n",
       "      <td>23.7500</td>\n",
       "      <td>24.8000</td>\n",
       "      <td>23.7000</td>\n",
       "      <td>24.6500</td>\n",
       "      <td>375,320.0000</td>\n",
       "    </tr>\n",
       "    <tr>\n",
       "      <th>2018-03-27</th>\n",
       "      <td>24.6500</td>\n",
       "      <td>24.6500</td>\n",
       "      <td>23.3500</td>\n",
       "      <td>23.6000</td>\n",
       "      <td>403,884.0000</td>\n",
       "      <td>0.0000</td>\n",
       "      <td>1.0000</td>\n",
       "      <td>24.6500</td>\n",
       "      <td>24.6500</td>\n",
       "      <td>23.3500</td>\n",
       "      <td>23.6000</td>\n",
       "      <td>403,884.0000</td>\n",
       "    </tr>\n",
       "  </tbody>\n",
       "</table>\n",
       "</div>"
      ],
      "text/plain": [
       "                     open    high     low   close          volume  \\\n",
       "ticker date                                                         \n",
       "A      1999-11-18 45.5000 50.0000 40.0000 44.0000 44,739,900.0000   \n",
       "       1999-11-19 42.9400 43.0000 39.8100 40.3800 10,897,100.0000   \n",
       "ZUMZ   2018-03-26 23.7500 24.8000 23.7000 24.6500    375,320.0000   \n",
       "       2018-03-27 24.6500 24.6500 23.3500 23.6000    403,884.0000   \n",
       "\n",
       "                   ex-dividend  split_ratio  adj_open  adj_high  adj_low  \\\n",
       "ticker date                                                                \n",
       "A      1999-11-18       0.0000       1.0000   31.0420   34.1120  27.2896   \n",
       "       1999-11-19       0.0000       1.0000   29.2954   29.3363  27.1600   \n",
       "ZUMZ   2018-03-26       0.0000       1.0000   23.7500   24.8000  23.7000   \n",
       "       2018-03-27       0.0000       1.0000   24.6500   24.6500  23.3500   \n",
       "\n",
       "                   adj_close      adj_volume  \n",
       "ticker date                                   \n",
       "A      1999-11-18    30.0186 44,739,900.0000  \n",
       "       1999-11-19    27.5489 10,897,100.0000  \n",
       "ZUMZ   2018-03-26    24.6500    375,320.0000  \n",
       "       2018-03-27    23.6000    403,884.0000  "
      ]
     },
     "execution_count": 7,
     "metadata": {},
     "output_type": "execute_result"
    }
   ],
   "source": [
    "pd.concat([wiki_prices.head(2), wiki_prices.tail(2)], axis=0)"
   ]
  },
  {
   "cell_type": "code",
   "execution_count": 8,
   "id": "4c3af20a-65cd-4099-a240-a4a0c10ecbd7",
   "metadata": {},
   "outputs": [
    {
     "name": "stdout",
     "output_type": "stream",
     "text": [
      "<class 'pandas.core.frame.DataFrame'>\n",
      "MultiIndex: 15389314 entries, ('A', Timestamp('1999-11-18 00:00:00')) to ('ZUMZ', Timestamp('2018-03-27 00:00:00'))\n",
      "Columns: 12 entries, open to adj_volume\n",
      "dtypes: float64(12)\n",
      "memory usage: 1.4+ GB\n"
     ]
    }
   ],
   "source": [
    "wiki_prices.info()"
   ]
  },
  {
   "cell_type": "code",
   "execution_count": 9,
   "id": "a79b969a-83e6-47f3-a492-948571b2217a",
   "metadata": {},
   "outputs": [
    {
     "data": {
      "text/html": [
       "<div>\n",
       "<style scoped>\n",
       "    .dataframe tbody tr th:only-of-type {\n",
       "        vertical-align: middle;\n",
       "    }\n",
       "\n",
       "    .dataframe tbody tr th {\n",
       "        vertical-align: top;\n",
       "    }\n",
       "\n",
       "    .dataframe thead th {\n",
       "        text-align: right;\n",
       "    }\n",
       "</style>\n",
       "<table border=\"1\" class=\"dataframe\">\n",
       "  <thead>\n",
       "    <tr style=\"text-align: right;\">\n",
       "      <th></th>\n",
       "      <th>name</th>\n",
       "      <th>lastsale</th>\n",
       "      <th>marketcap</th>\n",
       "      <th>ipoyear</th>\n",
       "      <th>sector</th>\n",
       "      <th>industry</th>\n",
       "    </tr>\n",
       "    <tr>\n",
       "      <th>ticker</th>\n",
       "      <th></th>\n",
       "      <th></th>\n",
       "      <th></th>\n",
       "      <th></th>\n",
       "      <th></th>\n",
       "      <th></th>\n",
       "    </tr>\n",
       "  </thead>\n",
       "  <tbody>\n",
       "    <tr>\n",
       "      <th>PIH</th>\n",
       "      <td>1347 Property Insurance Holdings, Inc.</td>\n",
       "      <td>7.2001</td>\n",
       "      <td>43,090,000.0000</td>\n",
       "      <td>2,014.0000</td>\n",
       "      <td>Finance</td>\n",
       "      <td>Property-Casualty Insurers</td>\n",
       "    </tr>\n",
       "    <tr>\n",
       "      <th>PIHPP</th>\n",
       "      <td>1347 Property Insurance Holdings, Inc.</td>\n",
       "      <td>25.6200</td>\n",
       "      <td>NaN</td>\n",
       "      <td>NaN</td>\n",
       "      <td>Finance</td>\n",
       "      <td>Property-Casualty Insurers</td>\n",
       "    </tr>\n",
       "    <tr>\n",
       "      <th>TURN</th>\n",
       "      <td>180 Degree Capital Corp.</td>\n",
       "      <td>2.2600</td>\n",
       "      <td>70,330,000.0000</td>\n",
       "      <td>NaN</td>\n",
       "      <td>Finance</td>\n",
       "      <td>Finance/Investors Services</td>\n",
       "    </tr>\n",
       "    <tr>\n",
       "      <th>FLWS</th>\n",
       "      <td>1-800 FLOWERS.COM, Inc.</td>\n",
       "      <td>12.9000</td>\n",
       "      <td>833,390,000.0000</td>\n",
       "      <td>1,999.0000</td>\n",
       "      <td>Consumer Services</td>\n",
       "      <td>Other Specialty Stores</td>\n",
       "    </tr>\n",
       "    <tr>\n",
       "      <th>FCCY</th>\n",
       "      <td>1st Constitution Bancorp (NJ)</td>\n",
       "      <td>21.3000</td>\n",
       "      <td>178,140,000.0000</td>\n",
       "      <td>NaN</td>\n",
       "      <td>Finance</td>\n",
       "      <td>Savings Institutions</td>\n",
       "    </tr>\n",
       "  </tbody>\n",
       "</table>\n",
       "</div>"
      ],
      "text/plain": [
       "                                          name  lastsale        marketcap  \\\n",
       "ticker                                                                      \n",
       "PIH     1347 Property Insurance Holdings, Inc.    7.2001  43,090,000.0000   \n",
       "PIHPP   1347 Property Insurance Holdings, Inc.   25.6200              NaN   \n",
       "TURN                  180 Degree Capital Corp.    2.2600  70,330,000.0000   \n",
       "FLWS                   1-800 FLOWERS.COM, Inc.   12.9000 833,390,000.0000   \n",
       "FCCY             1st Constitution Bancorp (NJ)   21.3000 178,140,000.0000   \n",
       "\n",
       "          ipoyear             sector                    industry  \n",
       "ticker                                                            \n",
       "PIH    2,014.0000            Finance  Property-Casualty Insurers  \n",
       "PIHPP         NaN            Finance  Property-Casualty Insurers  \n",
       "TURN          NaN            Finance  Finance/Investors Services  \n",
       "FLWS   1,999.0000  Consumer Services      Other Specialty Stores  \n",
       "FCCY          NaN            Finance        Savings Institutions  "
      ]
     },
     "execution_count": 9,
     "metadata": {},
     "output_type": "execute_result"
    }
   ],
   "source": [
    "wiki_meta_path = os.path.join(\"..\", \"data\", \"raw\", \"us_equities_meta_data.csv\")  #\n",
    "wiki_prices_meta = pd.read_csv(wiki_meta_path, index_col='ticker')\n",
    "\n",
    "wiki_prices_meta.head()"
   ]
  },
  {
   "cell_type": "markdown",
   "id": "f06f84fb-c8b4-444b-9f05-e37055d0fedd",
   "metadata": {},
   "source": [
    "# Data Preparation"
   ]
  },
  {
   "cell_type": "code",
   "execution_count": 10,
   "id": "9e529c8d-c9ce-439c-8852-fb4cbe01e986",
   "metadata": {},
   "outputs": [],
   "source": [
    "# use a rule to filter tickers of interest\n",
    "wiki_smpl = (wiki_prices\n",
    "             .reset_index()\n",
    "             .merge(wiki_prices_meta['sector'], on='ticker', how='left')\n",
    "             .set_index(['ticker', 'date'])\n",
    "            )\n",
    "wiki_smpl['sector'] = wiki_smpl['sector'].fillna('NA')"
   ]
  },
  {
   "cell_type": "markdown",
   "id": "5ce62540-79c8-462d-956f-d3c38eb0b46a",
   "metadata": {},
   "source": [
    "## Targets"
   ]
  },
  {
   "cell_type": "code",
   "execution_count": 11,
   "id": "8a745b6a-884c-4684-9bfc-b57aa5787ba0",
   "metadata": {},
   "outputs": [],
   "source": [
    "def log_returns(prices: pd.Series, tau: int) -> pd.Series:\n",
    "    \"\"\"\n",
    "    Compute log returns on time series data\n",
    "    log(a/b) = log(a) - log(b)\n",
    "    @param prices: time series data\n",
    "    @param tau: differencing period\n",
    "    @return: returns\n",
    "    \"\"\"\n",
    "    return np.log(prices).diff(tau)"
   ]
  },
  {
   "cell_type": "code",
   "execution_count": 12,
   "id": "9870f37c-4352-45c2-bc38-5c2963fa984f",
   "metadata": {},
   "outputs": [],
   "source": [
    "log_rets = (wiki_smpl\n",
    "          .groupby('ticker')['adj_close']\n",
    "          .transform(lambda grp: log_returns(grp, tau=-tau))\n",
    "          )"
   ]
  },
  {
   "cell_type": "code",
   "execution_count": 13,
   "id": "6430b2e5-4e89-4955-8f3b-b033a6ef1669",
   "metadata": {},
   "outputs": [],
   "source": [
    "targets = -1*log_rets\n",
    "targets.name = 'target'"
   ]
  },
  {
   "cell_type": "markdown",
   "id": "0ba12c36-f6d1-4f08-ab8b-97d856d6e647",
   "metadata": {
    "tags": []
   },
   "source": [
    "## Features\n",
    "\n",
    "Features are also called **Alpha factors** (See S2 slides) and are computed on past data\n",
    "Some features are based on returns (like targets, but are backwards returns), other on prices and other features on alternative data (sentiment analysis in financial analysis reports,)"
   ]
  },
  {
   "cell_type": "code",
   "execution_count": 14,
   "id": "a6910544-0138-45e2-a539-7b637105d905",
   "metadata": {},
   "outputs": [],
   "source": [
    "feat_1yr_mom = (wiki_smpl\n",
    "            .groupby('ticker')['adj_close']\n",
    "            .pct_change(252)\n",
    "               )\n",
    "feat_1yr_mom.name = 'x_mon_1yr'"
   ]
  },
  {
   "cell_type": "code",
   "execution_count": 15,
   "id": "008aaf28-7236-4c3e-b342-fcd35c7f03ba",
   "metadata": {},
   "outputs": [],
   "source": [
    "feat_5d_mom = (wiki_smpl\n",
    "            .groupby('ticker')['adj_close']\n",
    "            .apply(lambda grp: log_returns(grp, tau=5))\n",
    "              )\n",
    "feat_5d_mom.name = 'x_mon_5d'"
   ]
  },
  {
   "cell_type": "code",
   "execution_count": 16,
   "id": "0297ae34-8d28-4bba-9a7e-1b3d7d8cdf7a",
   "metadata": {},
   "outputs": [],
   "source": [
    "feat_close_vs_open = wiki_smpl['adj_close']-wiki_smpl['adj_open']\n",
    "feat_close_vs_open.name = 'x_close_vs_open'"
   ]
  },
  {
   "cell_type": "markdown",
   "id": "f3831ef0-a37e-4205-97ae-2e0ab68cf869",
   "metadata": {},
   "source": [
    "## Join and Filter"
   ]
  },
  {
   "cell_type": "code",
   "execution_count": 17,
   "id": "8b9c7b6d-2e71-409b-803e-3a5f0ba0a8e8",
   "metadata": {},
   "outputs": [],
   "source": [
    "features_and_targets = pd.concat([targets, wiki_smpl['sector'], feat_1yr_mom, feat_5d_mom, feat_close_vs_open], axis=1)\n",
    "\n",
    "dates = features_and_targets.index.get_level_values('date')\n",
    "mask_dates = (start_dt <=dates) & (dates <= end_dt)\n",
    "\n",
    "features_and_targets = (\n",
    "    features_and_targets\n",
    "    .loc[mask_dates\n",
    "         & (features_and_targets['sector'] != 'NA')\n",
    "    ]\n",
    ")\n",
    "# TODO: filtering the entire population is needed in order to:\n",
    "# get a subset of time\n",
    "# a sample of stocks that are tradable, many options like highly traded stocks or stocks in SP500 list"
   ]
  },
  {
   "cell_type": "code",
   "execution_count": 18,
   "id": "386c6c1d-dbe3-4de5-9f22-c21b01c37320",
   "metadata": {},
   "outputs": [
    {
     "data": {
      "text/html": [
       "<div>\n",
       "<style scoped>\n",
       "    .dataframe tbody tr th:only-of-type {\n",
       "        vertical-align: middle;\n",
       "    }\n",
       "\n",
       "    .dataframe tbody tr th {\n",
       "        vertical-align: top;\n",
       "    }\n",
       "\n",
       "    .dataframe thead th {\n",
       "        text-align: right;\n",
       "    }\n",
       "</style>\n",
       "<table border=\"1\" class=\"dataframe\">\n",
       "  <thead>\n",
       "    <tr style=\"text-align: right;\">\n",
       "      <th></th>\n",
       "      <th></th>\n",
       "      <th>target</th>\n",
       "      <th>sector</th>\n",
       "      <th>x_mon_1yr</th>\n",
       "      <th>x_mon_5d</th>\n",
       "      <th>x_close_vs_open</th>\n",
       "    </tr>\n",
       "    <tr>\n",
       "      <th>ticker</th>\n",
       "      <th>date</th>\n",
       "      <th></th>\n",
       "      <th></th>\n",
       "      <th></th>\n",
       "      <th></th>\n",
       "      <th></th>\n",
       "    </tr>\n",
       "  </thead>\n",
       "  <tbody>\n",
       "    <tr>\n",
       "      <th rowspan=\"2\" valign=\"top\">A</th>\n",
       "      <th>2015-01-02</th>\n",
       "      <td>0.0007</td>\n",
       "      <td>Capital Goods</td>\n",
       "      <td>0.0079</td>\n",
       "      <td>-0.0115</td>\n",
       "      <td>-0.6028</td>\n",
       "    </tr>\n",
       "    <tr>\n",
       "      <th>2015-01-05</th>\n",
       "      <td>0.0078</td>\n",
       "      <td>Capital Goods</td>\n",
       "      <td>-0.0234</td>\n",
       "      <td>-0.0365</td>\n",
       "      <td>-0.5056</td>\n",
       "    </tr>\n",
       "  </tbody>\n",
       "</table>\n",
       "</div>"
      ],
      "text/plain": [
       "                   target         sector  x_mon_1yr  x_mon_5d  x_close_vs_open\n",
       "ticker date                                                                   \n",
       "A      2015-01-02  0.0007  Capital Goods     0.0079   -0.0115          -0.6028\n",
       "       2015-01-05  0.0078  Capital Goods    -0.0234   -0.0365          -0.5056"
      ]
     },
     "execution_count": 18,
     "metadata": {},
     "output_type": "execute_result"
    }
   ],
   "source": [
    "features_and_targets.head(2)"
   ]
  },
  {
   "cell_type": "markdown",
   "id": "d5f56fad-7065-4b42-a5a8-bf35e65f2a81",
   "metadata": {},
   "source": [
    "# Feature Enginering"
   ]
  },
  {
   "cell_type": "code",
   "execution_count": 19,
   "id": "5d3d21f8-ff19-4074-a822-3a6088979797",
   "metadata": {},
   "outputs": [
    {
     "data": {
      "text/html": [
       "<div>\n",
       "<style scoped>\n",
       "    .dataframe tbody tr th:only-of-type {\n",
       "        vertical-align: middle;\n",
       "    }\n",
       "\n",
       "    .dataframe tbody tr th {\n",
       "        vertical-align: top;\n",
       "    }\n",
       "\n",
       "    .dataframe thead th {\n",
       "        text-align: right;\n",
       "    }\n",
       "</style>\n",
       "<table border=\"1\" class=\"dataframe\">\n",
       "  <thead>\n",
       "    <tr style=\"text-align: right;\">\n",
       "      <th></th>\n",
       "      <th>target</th>\n",
       "      <th>x_mon_1yr</th>\n",
       "      <th>x_mon_5d</th>\n",
       "      <th>x_close_vs_open</th>\n",
       "    </tr>\n",
       "  </thead>\n",
       "  <tbody>\n",
       "    <tr>\n",
       "      <th>target</th>\n",
       "      <td>1.0000</td>\n",
       "      <td>0.0009</td>\n",
       "      <td>-0.0231</td>\n",
       "      <td>-0.0135</td>\n",
       "    </tr>\n",
       "    <tr>\n",
       "      <th>x_mon_1yr</th>\n",
       "      <td>0.0009</td>\n",
       "      <td>1.0000</td>\n",
       "      <td>0.1242</td>\n",
       "      <td>0.0457</td>\n",
       "    </tr>\n",
       "    <tr>\n",
       "      <th>x_mon_5d</th>\n",
       "      <td>-0.0231</td>\n",
       "      <td>0.1242</td>\n",
       "      <td>1.0000</td>\n",
       "      <td>0.3232</td>\n",
       "    </tr>\n",
       "    <tr>\n",
       "      <th>x_close_vs_open</th>\n",
       "      <td>-0.0135</td>\n",
       "      <td>0.0457</td>\n",
       "      <td>0.3232</td>\n",
       "      <td>1.0000</td>\n",
       "    </tr>\n",
       "  </tbody>\n",
       "</table>\n",
       "</div>"
      ],
      "text/plain": [
       "                 target  x_mon_1yr  x_mon_5d  x_close_vs_open\n",
       "target           1.0000     0.0009   -0.0231          -0.0135\n",
       "x_mon_1yr        0.0009     1.0000    0.1242           0.0457\n",
       "x_mon_5d        -0.0231     0.1242    1.0000           0.3232\n",
       "x_close_vs_open -0.0135     0.0457    0.3232           1.0000"
      ]
     },
     "execution_count": 19,
     "metadata": {},
     "output_type": "execute_result"
    }
   ],
   "source": [
    "features_and_targets.corr('spearman')"
   ]
  },
  {
   "cell_type": "code",
   "execution_count": 20,
   "id": "81aaba1b-40f9-432a-bcf3-52e89ac63875",
   "metadata": {},
   "outputs": [],
   "source": [
    "features_and_targets['x_mon_1yr_dm'] = (\n",
    "    features_and_targets\n",
    "    .groupby(['sector', 'date'])['x_mon_1yr']\n",
    "    .transform(lambda grp: grp-grp.mean())\n",
    ") \n"
   ]
  },
  {
   "cell_type": "code",
   "execution_count": 21,
   "id": "6548816d-9a16-48ff-bd08-02ed5b0da26e",
   "metadata": {},
   "outputs": [
    {
     "data": {
      "text/html": [
       "<div>\n",
       "<style scoped>\n",
       "    .dataframe tbody tr th:only-of-type {\n",
       "        vertical-align: middle;\n",
       "    }\n",
       "\n",
       "    .dataframe tbody tr th {\n",
       "        vertical-align: top;\n",
       "    }\n",
       "\n",
       "    .dataframe thead th {\n",
       "        text-align: right;\n",
       "    }\n",
       "</style>\n",
       "<table border=\"1\" class=\"dataframe\">\n",
       "  <thead>\n",
       "    <tr style=\"text-align: right;\">\n",
       "      <th></th>\n",
       "      <th>x_mon_1yr_dm</th>\n",
       "      <th>target</th>\n",
       "    </tr>\n",
       "  </thead>\n",
       "  <tbody>\n",
       "    <tr>\n",
       "      <th>x_mon_1yr_dm</th>\n",
       "      <td>1.0000</td>\n",
       "      <td>0.0138</td>\n",
       "    </tr>\n",
       "    <tr>\n",
       "      <th>target</th>\n",
       "      <td>0.0138</td>\n",
       "      <td>1.0000</td>\n",
       "    </tr>\n",
       "  </tbody>\n",
       "</table>\n",
       "</div>"
      ],
      "text/plain": [
       "              x_mon_1yr_dm  target\n",
       "x_mon_1yr_dm        1.0000  0.0138\n",
       "target              0.0138  1.0000"
      ]
     },
     "execution_count": 21,
     "metadata": {},
     "output_type": "execute_result"
    }
   ],
   "source": [
    "features_and_targets[['x_mon_1yr_dm', 'target']].corr('spearman')"
   ]
  },
  {
   "cell_type": "code",
   "execution_count": 22,
   "id": "69ba25e5-80c7-4275-a01a-568ed649c263",
   "metadata": {},
   "outputs": [
    {
     "data": {
      "text/html": [
       "<div>\n",
       "<style scoped>\n",
       "    .dataframe tbody tr th:only-of-type {\n",
       "        vertical-align: middle;\n",
       "    }\n",
       "\n",
       "    .dataframe tbody tr th {\n",
       "        vertical-align: top;\n",
       "    }\n",
       "\n",
       "    .dataframe thead th {\n",
       "        text-align: right;\n",
       "    }\n",
       "</style>\n",
       "<table border=\"1\" class=\"dataframe\">\n",
       "  <thead>\n",
       "    <tr style=\"text-align: right;\">\n",
       "      <th>target</th>\n",
       "      <th>False</th>\n",
       "      <th>True</th>\n",
       "    </tr>\n",
       "    <tr>\n",
       "      <th>x_mon_1yr_dm</th>\n",
       "      <th></th>\n",
       "      <th></th>\n",
       "    </tr>\n",
       "  </thead>\n",
       "  <tbody>\n",
       "    <tr>\n",
       "      <th>False</th>\n",
       "      <td>0.2513</td>\n",
       "      <td>0.2756</td>\n",
       "    </tr>\n",
       "    <tr>\n",
       "      <th>True</th>\n",
       "      <td>0.2182</td>\n",
       "      <td>0.2549</td>\n",
       "    </tr>\n",
       "  </tbody>\n",
       "</table>\n",
       "</div>"
      ],
      "text/plain": [
       "target        False  True \n",
       "x_mon_1yr_dm              \n",
       "False        0.2513 0.2756\n",
       "True         0.2182 0.2549"
      ]
     },
     "execution_count": 22,
     "metadata": {},
     "output_type": "execute_result"
    }
   ],
   "source": [
    "# you can use other metrics like accuracy,\n",
    "# or translate it to weights and then compute a pnl\n",
    "\n",
    "pd.crosstab(\n",
    "    index=features_and_targets['x_mon_1yr_dm']>=0,\n",
    "    columns=features_and_targets['target']>=0,\n",
    "    normalize=True\n",
    ")"
   ]
  },
  {
   "cell_type": "code",
   "execution_count": 23,
   "id": "315f5e0e-bc53-4c83-917b-2d0b1f0aea44",
   "metadata": {},
   "outputs": [],
   "source": [
    "# * is eval metric consistent over time?\n",
    "# * is eval metric consistent over tickers\n",
    "# Preliminary stage of feature building and refinement can be done in train\n",
    "# if there is no future data involved on calculations/selections\n",
    "# final feature selection and feature engineering techniques,\n",
    "# should be done only on train.\n",
    "# In this case, sector neautralization (demeaning) can be considered part of the basic feature computation,\n",
    "# comparion is only shown for demostrative purposes"
   ]
  }
 ],
 "metadata": {
  "kernelspec": {
   "display_name": "Python 3",
   "language": "python",
   "name": "python3"
  },
  "language_info": {
   "codemirror_mode": {
    "name": "ipython",
    "version": 3
   },
   "file_extension": ".py",
   "mimetype": "text/x-python",
   "name": "python",
   "nbconvert_exporter": "python",
   "pygments_lexer": "ipython3",
   "version": "3.8.8"
  }
 },
 "nbformat": 4,
 "nbformat_minor": 5
}
