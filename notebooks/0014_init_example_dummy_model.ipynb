{
 "cells": [
  {
   "cell_type": "markdown",
   "id": "6eb72ec8-64d5-4bf7-be52-a4205c42f90a",
   "metadata": {},
   "source": [
    "<font size=\"6\"><center>**Walk-through**</font>"
   ]
  },
  {
   "cell_type": "markdown",
   "id": "65f1d7de-fa8b-4b78-a806-4bbd8fb293f2",
   "metadata": {},
   "source": [
    "This notebooks attemps to guide newcomer quants in their first steps to become rich"
   ]
  },
  {
   "cell_type": "code",
   "execution_count": 1,
   "id": "f0d673ac-0425-41aa-9dc8-b23e860a5bd4",
   "metadata": {},
   "outputs": [],
   "source": [
    "%load_ext autoreload\n",
    "%autoreload 2"
   ]
  },
  {
   "cell_type": "code",
   "execution_count": 2,
   "id": "0cfad815-aca9-45b1-b9c5-e1391a3b01fa",
   "metadata": {},
   "outputs": [
    {
     "name": "stdout",
     "output_type": "stream",
     "text": [
      "running notebook configuration\n"
     ]
    }
   ],
   "source": [
    "%run ../nb_config.py"
   ]
  },
  {
   "cell_type": "code",
   "execution_count": 3,
   "id": "d5928164-9ea5-4633-a889-6ed5601832b1",
   "metadata": {},
   "outputs": [],
   "source": [
    "import numpy as np\n",
    "import pandas as pd\n",
    "import os"
   ]
  },
  {
   "cell_type": "markdown",
   "id": "4ed042a5-33f4-4574-86ca-8ae8d8839a5c",
   "metadata": {},
   "source": [
    "# Parameters"
   ]
  },
  {
   "cell_type": "code",
   "execution_count": 4,
   "id": "0c933af8-8190-488d-8247-262f9388a1f6",
   "metadata": {},
   "outputs": [],
   "source": [
    "\n",
    "start_dt = pd.Timestamp('2015-01-01')\n",
    "end_dt = pd.Timestamp('2017-12-31')\n",
    "tau = 5"
   ]
  },
  {
   "cell_type": "code",
   "execution_count": 5,
   "id": "b1b736c9-38cd-4642-a6db-c39b55320c7e",
   "metadata": {},
   "outputs": [],
   "source": [
    "ticker = 'AMZN'"
   ]
  },
  {
   "cell_type": "markdown",
   "id": "234c7602-0b1b-4295-97fa-5819e648bf9d",
   "metadata": {
    "tags": []
   },
   "source": [
    "# Load Data"
   ]
  },
  {
   "cell_type": "markdown",
   "id": "28992761-4827-4446-a017-2375863826b5",
   "metadata": {},
   "source": [
    "`folder structure:`  \n",
    "|-notebooks/  \n",
    "|-data/  \n",
    "|--raw/  \n",
    "|---wiki_prices.csv"
   ]
  },
  {
   "cell_type": "code",
   "execution_count": 6,
   "id": "0b6c6dcb-c9be-4c40-9d7b-a0442d8be01d",
   "metadata": {},
   "outputs": [],
   "source": [
    "wiki_prices_path = os.path.join(\"..\", \"data\", \"raw\", \"wiki_prices.csv\")  #\n",
    "wiki_prices = pd.read_csv(wiki_prices_path, parse_dates=['date'], index_col=['ticker', 'date'])"
   ]
  },
  {
   "cell_type": "code",
   "execution_count": 7,
   "id": "a13511fc-1258-4a5d-aa96-2e44ab6539bd",
   "metadata": {},
   "outputs": [
    {
     "data": {
      "text/html": [
       "<div>\n",
       "<style scoped>\n",
       "    .dataframe tbody tr th:only-of-type {\n",
       "        vertical-align: middle;\n",
       "    }\n",
       "\n",
       "    .dataframe tbody tr th {\n",
       "        vertical-align: top;\n",
       "    }\n",
       "\n",
       "    .dataframe thead th {\n",
       "        text-align: right;\n",
       "    }\n",
       "</style>\n",
       "<table border=\"1\" class=\"dataframe\">\n",
       "  <thead>\n",
       "    <tr style=\"text-align: right;\">\n",
       "      <th></th>\n",
       "      <th></th>\n",
       "      <th>open</th>\n",
       "      <th>high</th>\n",
       "      <th>low</th>\n",
       "      <th>close</th>\n",
       "      <th>volume</th>\n",
       "      <th>ex-dividend</th>\n",
       "      <th>split_ratio</th>\n",
       "      <th>adj_open</th>\n",
       "      <th>adj_high</th>\n",
       "      <th>adj_low</th>\n",
       "      <th>adj_close</th>\n",
       "      <th>adj_volume</th>\n",
       "    </tr>\n",
       "    <tr>\n",
       "      <th>ticker</th>\n",
       "      <th>date</th>\n",
       "      <th></th>\n",
       "      <th></th>\n",
       "      <th></th>\n",
       "      <th></th>\n",
       "      <th></th>\n",
       "      <th></th>\n",
       "      <th></th>\n",
       "      <th></th>\n",
       "      <th></th>\n",
       "      <th></th>\n",
       "      <th></th>\n",
       "      <th></th>\n",
       "    </tr>\n",
       "  </thead>\n",
       "  <tbody>\n",
       "    <tr>\n",
       "      <th rowspan=\"2\" valign=\"top\">A</th>\n",
       "      <th>1999-11-18</th>\n",
       "      <td>45.5000</td>\n",
       "      <td>50.0000</td>\n",
       "      <td>40.0000</td>\n",
       "      <td>44.0000</td>\n",
       "      <td>44,739,900.0000</td>\n",
       "      <td>0.0000</td>\n",
       "      <td>1.0000</td>\n",
       "      <td>31.0420</td>\n",
       "      <td>34.1120</td>\n",
       "      <td>27.2896</td>\n",
       "      <td>30.0186</td>\n",
       "      <td>44,739,900.0000</td>\n",
       "    </tr>\n",
       "    <tr>\n",
       "      <th>1999-11-19</th>\n",
       "      <td>42.9400</td>\n",
       "      <td>43.0000</td>\n",
       "      <td>39.8100</td>\n",
       "      <td>40.3800</td>\n",
       "      <td>10,897,100.0000</td>\n",
       "      <td>0.0000</td>\n",
       "      <td>1.0000</td>\n",
       "      <td>29.2954</td>\n",
       "      <td>29.3363</td>\n",
       "      <td>27.1600</td>\n",
       "      <td>27.5489</td>\n",
       "      <td>10,897,100.0000</td>\n",
       "    </tr>\n",
       "    <tr>\n",
       "      <th rowspan=\"2\" valign=\"top\">ZUMZ</th>\n",
       "      <th>2018-03-26</th>\n",
       "      <td>23.7500</td>\n",
       "      <td>24.8000</td>\n",
       "      <td>23.7000</td>\n",
       "      <td>24.6500</td>\n",
       "      <td>375,320.0000</td>\n",
       "      <td>0.0000</td>\n",
       "      <td>1.0000</td>\n",
       "      <td>23.7500</td>\n",
       "      <td>24.8000</td>\n",
       "      <td>23.7000</td>\n",
       "      <td>24.6500</td>\n",
       "      <td>375,320.0000</td>\n",
       "    </tr>\n",
       "    <tr>\n",
       "      <th>2018-03-27</th>\n",
       "      <td>24.6500</td>\n",
       "      <td>24.6500</td>\n",
       "      <td>23.3500</td>\n",
       "      <td>23.6000</td>\n",
       "      <td>403,884.0000</td>\n",
       "      <td>0.0000</td>\n",
       "      <td>1.0000</td>\n",
       "      <td>24.6500</td>\n",
       "      <td>24.6500</td>\n",
       "      <td>23.3500</td>\n",
       "      <td>23.6000</td>\n",
       "      <td>403,884.0000</td>\n",
       "    </tr>\n",
       "  </tbody>\n",
       "</table>\n",
       "</div>"
      ],
      "text/plain": [
       "                     open    high     low   close          volume  \\\n",
       "ticker date                                                         \n",
       "A      1999-11-18 45.5000 50.0000 40.0000 44.0000 44,739,900.0000   \n",
       "       1999-11-19 42.9400 43.0000 39.8100 40.3800 10,897,100.0000   \n",
       "ZUMZ   2018-03-26 23.7500 24.8000 23.7000 24.6500    375,320.0000   \n",
       "       2018-03-27 24.6500 24.6500 23.3500 23.6000    403,884.0000   \n",
       "\n",
       "                   ex-dividend  split_ratio  adj_open  adj_high  adj_low  \\\n",
       "ticker date                                                                \n",
       "A      1999-11-18       0.0000       1.0000   31.0420   34.1120  27.2896   \n",
       "       1999-11-19       0.0000       1.0000   29.2954   29.3363  27.1600   \n",
       "ZUMZ   2018-03-26       0.0000       1.0000   23.7500   24.8000  23.7000   \n",
       "       2018-03-27       0.0000       1.0000   24.6500   24.6500  23.3500   \n",
       "\n",
       "                   adj_close      adj_volume  \n",
       "ticker date                                   \n",
       "A      1999-11-18    30.0186 44,739,900.0000  \n",
       "       1999-11-19    27.5489 10,897,100.0000  \n",
       "ZUMZ   2018-03-26    24.6500    375,320.0000  \n",
       "       2018-03-27    23.6000    403,884.0000  "
      ]
     },
     "execution_count": 7,
     "metadata": {},
     "output_type": "execute_result"
    }
   ],
   "source": [
    "pd.concat([wiki_prices.head(2), wiki_prices.tail(2)], axis=0)"
   ]
  },
  {
   "cell_type": "code",
   "execution_count": 8,
   "id": "4c3af20a-65cd-4099-a240-a4a0c10ecbd7",
   "metadata": {},
   "outputs": [
    {
     "name": "stdout",
     "output_type": "stream",
     "text": [
      "<class 'pandas.core.frame.DataFrame'>\n",
      "MultiIndex: 15389314 entries, ('A', Timestamp('1999-11-18 00:00:00')) to ('ZUMZ', Timestamp('2018-03-27 00:00:00'))\n",
      "Columns: 12 entries, open to adj_volume\n",
      "dtypes: float64(12)\n",
      "memory usage: 1.4+ GB\n"
     ]
    }
   ],
   "source": [
    "wiki_prices.info()"
   ]
  },
  {
   "cell_type": "code",
   "execution_count": 9,
   "id": "889eb378-e951-44bc-a979-6793a333aba5",
   "metadata": {},
   "outputs": [
    {
     "data": {
      "image/png": "[encoded data removed]",
      "text/plain": [
       "<Figure size 864x432 with 1 Axes>"
      ]
     },
     "metadata": {
      "needs_background": "light"
     },
     "output_type": "display_data"
    }
   ],
   "source": [
    "wiki_prices.loc[ticker, ['close', 'adj_close']].plot()\n",
    "plt.title('close vs adj close')\n",
    "plt.show()"
   ]
  },
  {
   "cell_type": "markdown",
   "id": "e69289ef-777d-47ef-a63c-b88b7cfb9e34",
   "metadata": {
    "jp-MarkdownHeadingCollapsed": true,
    "tags": []
   },
   "source": [
    "Use variable adj to simplify. Data Provider computes this figures to take into account splits, dividends and other corporte operations. This computation is perform from a single day point of view, so it is constantly updated"
   ]
  },
  {
   "cell_type": "markdown",
   "id": "f06f84fb-c8b4-444b-9f05-e37055d0fedd",
   "metadata": {},
   "source": [
    "# Data Preparation"
   ]
  },
  {
   "cell_type": "code",
   "execution_count": 10,
   "id": "cb17060c-fc2f-4011-9053-5b3e7d1f2189",
   "metadata": {},
   "outputs": [],
   "source": [
    "# compute a rolling mean for each group\n",
    "avol = (\n",
    "    wiki_prices\n",
    "    .groupby('ticker')['adj_volume']\n",
    "    .transform(lambda grp: grp.rolling(30).mean())\n",
    ")"
   ]
  },
  {
   "cell_type": "markdown",
   "id": "0f5f0c9b-40df-45f4-b1ad-34753ea69517",
   "metadata": {},
   "source": [
    "Full ticker population is very large, however some tickers may be quite illiquid (hard to trade at any time, due to offer/demand shortages). To overcome this, we can focus on highly trade tickers, therefore, to get a proxy of highly liquid stocks, a rolling average of volume can be obtained and then filter the stock population. This computation must be carried out daily\n",
    "\n",
    "Only rolling volume computation is given as an example :)"
   ]
  },
  {
   "cell_type": "code",
   "execution_count": 11,
   "id": "cc8dd674-e698-4d19-b3c2-0da9a9887a71",
   "metadata": {},
   "outputs": [
    {
     "data": {
      "text/plain": [
       "date\n",
       "2018-03-21   5,628,515.9333\n",
       "2018-03-22   5,598,879.5667\n",
       "2018-03-23   5,590,059.7667\n",
       "2018-03-26   5,315,384.1667\n",
       "2018-03-27   5,319,086.3333\n",
       "Name: adj_volume, dtype: float64"
      ]
     },
     "execution_count": 11,
     "metadata": {},
     "output_type": "execute_result"
    }
   ],
   "source": [
    "avol.loc[ticker].tail()"
   ]
  },
  {
   "cell_type": "code",
   "execution_count": 12,
   "id": "4f6a2355-4901-4422-b490-bc70aa53f214",
   "metadata": {},
   "outputs": [
    {
     "data": {
      "text/plain": [
       "5319086.333333333"
      ]
     },
     "execution_count": 12,
     "metadata": {},
     "output_type": "execute_result"
    }
   ],
   "source": [
    "avol_ex = (wiki_prices\n",
    " .loc[ticker, 'adj_volume']\n",
    " .iloc[-30:]  # try to never subset twice\n",
    " .mean()\n",
    ")\n",
    "avol_ex"
   ]
  },
  {
   "cell_type": "code",
   "execution_count": 13,
   "id": "51ca5df3-c39a-47da-93a2-e9739da8c21f",
   "metadata": {},
   "outputs": [
    {
     "data": {
      "text/plain": [
       "5319086.333333333"
      ]
     },
     "execution_count": 13,
     "metadata": {},
     "output_type": "execute_result"
    }
   ],
   "source": [
    "avol.loc[ticker].iloc[-1]"
   ]
  },
  {
   "cell_type": "code",
   "execution_count": 14,
   "id": "09c54c2c-3e1d-468a-a4be-04783494d9a1",
   "metadata": {},
   "outputs": [],
   "source": [
    "assert np.isclose(avol.loc[ticker].iloc[-1], avol_ex)"
   ]
  },
  {
   "cell_type": "code",
   "execution_count": 15,
   "id": "f2f12402-ea18-4b2f-b492-f6f903bd1d1b",
   "metadata": {},
   "outputs": [],
   "source": [
    "n_tickers = wiki_prices.reset_index('ticker').groupby('date').size()"
   ]
  },
  {
   "cell_type": "code",
   "execution_count": 16,
   "id": "ffedea6b-51a9-4273-9a77-25477670f2b5",
   "metadata": {},
   "outputs": [
    {
     "data": {
      "image/png": "[encoded data removed]",
      "text/plain": [
       "<Figure size 864x432 with 1 Axes>"
      ]
     },
     "metadata": {
      "needs_background": "light"
     },
     "output_type": "display_data"
    }
   ],
   "source": [
    "n_tickers['2016'].plot()\n",
    "plt.title(\"N tickers in 2016\")\n",
    "plt.show()"
   ]
  },
  {
   "cell_type": "markdown",
   "id": "dec69b04-e0ee-4013-a593-fec3142e876a",
   "metadata": {},
   "source": [
    "## Pipeline"
   ]
  },
  {
   "cell_type": "markdown",
   "id": "f8d463a3-0b28-47d1-b6e2-3cf477383ab4",
   "metadata": {},
   "source": [
    "```python\n",
    "def log_returns(prices: pd.Series, tau: int) -> pd.Series:\n",
    "    \"\"\"\n",
    "    Compute log returns on time series data\n",
    "    log(a/b) = log(a) - log(b)\n",
    "    @param prices: time series data\n",
    "    @param tau: differencing period\n",
    "    @return: returns\n",
    "    \"\"\"\n",
    "\n",
    "def pl_targets(data: pd.DataFrame, tau_fwd: int) -> pd.DataFrame:\n",
    "    \"\"\"\n",
    "    Target computation on close price\n",
    "    @param data: input\n",
    "    @param tau_fwd: target time horizon (forward)\n",
    "    @return: output\n",
    "    \"\"\"\n",
    " \n",
    "\n",
    "def pl_features(data: pd.DataFrame) -> pd.DataFrame:\n",
    "    \"\"\"\n",
    "    Compute feautures:\n",
    "        x_returns_5d: 5 days momentum indicator\n",
    "        x_returns_1d: 1 day momentum indicator\n",
    "    :param data: input\n",
    "    :return:  output\n",
    "    \"\"\"\n",
    "    \n",
    "def pl_top_vol_filter(data: pd.DataFrame, window: int, top_n: int) -> pd.DataFrame:\n",
    "    \"\"\"\n",
    "    Compute a rolling average of ticker volume. For each day, filter top tickers \n",
    "    @param data: input\n",
    "    @param window: number of periods to compute rolling mean\n",
    "    @param top_n: threshold\n",
    "    @return: output\n",
    "    \"\"\"\n",
    "    \n",
    "\n",
    "def pl_date_filter(data: pd.DataFrame, start_dt: str, end_dt: str) -> pd.DataFrame:\n",
    "    \"\"\"\n",
    "    Apply a filter to index level `date`\n",
    "    @param data: input\n",
    "    @param start_dt: Filter start\n",
    "    @param end_dt: Filter end\n",
    "    @return: output\n",
    "\n",
    "    \"\"\"\n",
    "\n",
    "   \n"
   ]
  },
  {
   "cell_type": "markdown",
   "id": "5ce62540-79c8-462d-956f-d3c38eb0b46a",
   "metadata": {},
   "source": [
    "## Targets\n",
    "\n",
    "Targets is the objective variable to forecast/predict. They are computed as a **forward** price difference (return). There are many suitable ways to compute this differens:\n",
    "* raw differences: p[t+tau] -p[t]\n",
    "* raw-returns (pct_change): (p[t+tau] - p[t]) /p[t+tau]\n",
    "* log-returns: log(p[t+tau]/p[t])\n",
    "\n",
    "Target horizon can be determined as a function of trading strategy (how many times a year do you want to rebalance your portfolio -the more frequent, the more brokerage cost-?, what kind of variables are you going to use?"
   ]
  },
  {
   "cell_type": "markdown",
   "id": "a7731d11-e483-4427-b474-85ca7d2ee03b",
   "metadata": {},
   "source": [
    "### Raw (Forward) Differences Example"
   ]
  },
  {
   "cell_type": "code",
   "execution_count": 17,
   "id": "99726cce-0e1d-4fca-abba-f0132b5012ff",
   "metadata": {},
   "outputs": [],
   "source": [
    "raw_diffs = (wiki_prices\n",
    "          .groupby('ticker')['adj_close']\n",
    "          .diff(-tau))"
   ]
  },
  {
   "cell_type": "code",
   "execution_count": 18,
   "id": "218e5291-9273-4e76-a57e-e76dddc9d244",
   "metadata": {},
   "outputs": [
    {
     "data": {
      "text/plain": [
       "date\n",
       "1997-05-16    0.2292\n",
       "1997-05-19    0.1250\n",
       "1997-05-20    0.1042\n",
       "1997-05-21   -0.0775\n",
       "1997-05-22   -0.1042\n",
       "Name: adj_close, dtype: float64"
      ]
     },
     "execution_count": 18,
     "metadata": {},
     "output_type": "execute_result"
    }
   ],
   "source": [
    "raw_diffs.loc[ticker].head(5)"
   ]
  },
  {
   "cell_type": "code",
   "execution_count": 19,
   "id": "c0ad8197-1e3d-4072-b3b8-c91e3a2bf7ed",
   "metadata": {},
   "outputs": [
    {
     "data": {
      "text/plain": [
       "date\n",
       "2018-03-14     9.1400\n",
       "2018-03-15    38.2200\n",
       "2018-03-16    76.1200\n",
       "2018-03-19   -10.9300\n",
       "2018-03-20    89.4600\n",
       "2018-03-21        NaN\n",
       "2018-03-22        NaN\n",
       "2018-03-23        NaN\n",
       "2018-03-26        NaN\n",
       "2018-03-27        NaN\n",
       "Name: adj_close, dtype: float64"
      ]
     },
     "execution_count": 19,
     "metadata": {},
     "output_type": "execute_result"
    }
   ],
   "source": [
    "raw_diffs.loc[ticker].tail(10)"
   ]
  },
  {
   "cell_type": "code",
   "execution_count": 20,
   "id": "db8eb4ba-ea7b-49f6-ac8e-830ee4923524",
   "metadata": {},
   "outputs": [
    {
     "data": {
      "text/plain": [
       "0.2291666666666663"
      ]
     },
     "execution_count": 20,
     "metadata": {},
     "output_type": "execute_result"
    }
   ],
   "source": [
    "raw_diffs_ex = wiki_prices.loc[ticker, 'adj_close'].iloc[0] - wiki_prices.loc[ticker, 'adj_close'].iloc[tau]\n",
    "raw_diffs_ex"
   ]
  },
  {
   "cell_type": "code",
   "execution_count": 21,
   "id": "6103165f-9364-435e-9bae-3c7dbcc27229",
   "metadata": {},
   "outputs": [
    {
     "data": {
      "text/plain": [
       "0.2291666666666663"
      ]
     },
     "execution_count": 21,
     "metadata": {},
     "output_type": "execute_result"
    }
   ],
   "source": [
    "raw_diffs.loc[ticker].iloc[0]"
   ]
  },
  {
   "cell_type": "code",
   "execution_count": 22,
   "id": "9d8e34c8-09df-4520-87b0-f7605c4f2eef",
   "metadata": {},
   "outputs": [],
   "source": [
    "assert np.isclose(raw_diffs_ex, raw_diffs.loc[ticker].iloc[0])"
   ]
  },
  {
   "cell_type": "markdown",
   "id": "24032975-50b6-4147-9e58-14365ea3635c",
   "metadata": {},
   "source": [
    "### Raw (Forward) Returns example"
   ]
  },
  {
   "cell_type": "code",
   "execution_count": 23,
   "id": "98a7cf94-9a15-4fcc-9cc3-693797e3bdb7",
   "metadata": {},
   "outputs": [],
   "source": [
    "raw_returns = (wiki_prices\n",
    "          .groupby('ticker')['adj_close']\n",
    "          .pct_change(-tau))"
   ]
  },
  {
   "cell_type": "code",
   "execution_count": 24,
   "id": "0a09918c-0c59-46d3-aa32-f60ee8b271ec",
   "metadata": {},
   "outputs": [
    {
     "data": {
      "text/plain": [
       "0.15277777777777754"
      ]
     },
     "execution_count": 24,
     "metadata": {},
     "output_type": "execute_result"
    }
   ],
   "source": [
    "raw_returns_ex = (wiki_prices.loc[ticker, 'adj_close'].iloc[0]- wiki_prices.loc[ticker, 'adj_close'].iloc[tau]) / wiki_prices.loc[ticker, 'adj_close'].iloc[tau]\n",
    "raw_returns_ex"
   ]
  },
  {
   "cell_type": "code",
   "execution_count": 25,
   "id": "d4d72c58-587e-49f8-91d4-bc0b6a2a3390",
   "metadata": {},
   "outputs": [],
   "source": [
    "assert np.isclose(raw_returns_ex, raw_returns.loc[ticker].iloc[0])"
   ]
  },
  {
   "cell_type": "markdown",
   "id": "325e376b-ddea-4899-a3c9-9b6ced03437e",
   "metadata": {},
   "source": [
    "### (Forward) Log Returns"
   ]
  },
  {
   "cell_type": "code",
   "execution_count": 26,
   "id": "8a745b6a-884c-4684-9bfc-b57aa5787ba0",
   "metadata": {},
   "outputs": [],
   "source": [
    "def log_returns(prices: pd.Series, tau: int) -> pd.Series:\n",
    "    \"\"\"\n",
    "    Compute log returns on time series data\n",
    "    log(a/b) = log(a) - log(b)\n",
    "    @param prices: time series data\n",
    "    @param tau: differencing period\n",
    "    @return: returns\n",
    "    \"\"\"\n",
    "    return np.log(prices).diff(tau)"
   ]
  },
  {
   "cell_type": "code",
   "execution_count": 27,
   "id": "9870f37c-4352-45c2-bc38-5c2963fa984f",
   "metadata": {},
   "outputs": [],
   "source": [
    "log_rets = (wiki_prices\n",
    "          .groupby('ticker')['adj_close']\n",
    "          .transform(lambda grp: log_returns(grp, tau=-tau))\n",
    "          )"
   ]
  },
  {
   "cell_type": "code",
   "execution_count": 28,
   "id": "ad3d5b25-26db-4ad1-b55e-0a08975970f3",
   "metadata": {},
   "outputs": [],
   "source": [
    "log_returns_ex = np.log(wiki_prices.loc[ticker, 'adj_close'].iloc[0]/wiki_prices.loc[ticker, 'adj_close'].iloc[tau])"
   ]
  },
  {
   "cell_type": "code",
   "execution_count": 29,
   "id": "863b716c-b266-4867-b213-7d3fb8020bb5",
   "metadata": {},
   "outputs": [
    {
     "data": {
      "text/plain": [
       "0.14217448878054234"
      ]
     },
     "execution_count": 29,
     "metadata": {},
     "output_type": "execute_result"
    }
   ],
   "source": [
    "log_returns_ex"
   ]
  },
  {
   "cell_type": "code",
   "execution_count": 30,
   "id": "8daea5b5-9780-43e1-b225-828cb6134184",
   "metadata": {},
   "outputs": [
    {
     "data": {
      "text/plain": [
       "0.1421744887805424"
      ]
     },
     "execution_count": 30,
     "metadata": {},
     "output_type": "execute_result"
    }
   ],
   "source": [
    "log_rets.loc[ticker].iloc[0]"
   ]
  },
  {
   "cell_type": "code",
   "execution_count": 31,
   "id": "09541238-fb88-4c26-8ffc-75c5a9258af8",
   "metadata": {},
   "outputs": [],
   "source": [
    "assert np.isclose(log_rets.loc[ticker].iloc[0], log_returns_ex)"
   ]
  },
  {
   "cell_type": "code",
   "execution_count": 32,
   "id": "4820ccf6-2292-4fb1-bf41-6767ad1027e4",
   "metadata": {},
   "outputs": [
    {
     "data": {
      "text/plain": [
       "0.1421744887805424"
      ]
     },
     "execution_count": 32,
     "metadata": {},
     "output_type": "execute_result"
    }
   ],
   "source": [
    "log_rets.loc[ticker].iloc[0]"
   ]
  },
  {
   "cell_type": "code",
   "execution_count": 33,
   "id": "5316f513-535e-4f79-b14a-bbfc792507c3",
   "metadata": {},
   "outputs": [
    {
     "data": {
      "image/png": "[encoded data removed]",
      "text/plain": [
       "<Figure size 432x432 with 1 Axes>"
      ]
     },
     "metadata": {
      "needs_background": "light"
     },
     "output_type": "display_data"
    }
   ],
   "source": [
    "fig = plt.figure(figsize=(6,6))\n",
    "plt.plot(log_rets.loc[ticker].values, raw_returns.loc[ticker].values)\n",
    "plt.title('Raw Returns vs Log returns')\n",
    "plt.show()"
   ]
  },
  {
   "cell_type": "markdown",
   "id": "fa3aae3f-3513-47e9-91e7-c8ead672486d",
   "metadata": {},
   "source": [
    "### Get targets"
   ]
  },
  {
   "cell_type": "code",
   "execution_count": 34,
   "id": "6430b2e5-4e89-4955-8f3b-b033a6ef1669",
   "metadata": {},
   "outputs": [],
   "source": [
    "targets = -1*log_rets\n",
    "targets.name = 'target'"
   ]
  },
  {
   "cell_type": "code",
   "execution_count": 35,
   "id": "e9e97920-81d0-4f2a-8760-a38e2e622fe0",
   "metadata": {},
   "outputs": [
    {
     "data": {
      "text/plain": [
       "-0.1421744887805424"
      ]
     },
     "execution_count": 35,
     "metadata": {},
     "output_type": "execute_result"
    }
   ],
   "source": [
    "targets.loc[ticker].iloc[0]"
   ]
  },
  {
   "cell_type": "code",
   "execution_count": 36,
   "id": "85cc11cc-cc06-4902-ad71-83de0587ba48",
   "metadata": {},
   "outputs": [
    {
     "data": {
      "text/plain": [
       "(1.7291666666666663, 1.5)"
      ]
     },
     "execution_count": 36,
     "metadata": {},
     "output_type": "execute_result"
    }
   ],
   "source": [
    "prices_t0_t5 = wiki_prices.loc[ticker, 'adj_close'].iloc[0], wiki_prices.loc[ticker, 'adj_close'].iloc[tau]\n",
    "prices_t0_t5"
   ]
  },
  {
   "cell_type": "code",
   "execution_count": 37,
   "id": "bfbab41b-f7ee-49f1-80cf-457e8b7778b1",
   "metadata": {},
   "outputs": [],
   "source": [
    "target_ex = np.log(prices_t0_t5[1] / prices_t0_t5[0])"
   ]
  },
  {
   "cell_type": "code",
   "execution_count": 38,
   "id": "4fe6ef12-d8f0-471e-831f-9b133a026e3c",
   "metadata": {},
   "outputs": [],
   "source": [
    "assert np.isclose(targets.loc[ticker].iloc[0], target_ex)"
   ]
  },
  {
   "cell_type": "markdown",
   "id": "0ba12c36-f6d1-4f08-ab8b-97d856d6e647",
   "metadata": {
    "tags": []
   },
   "source": [
    "## Features\n",
    "\n",
    "Features are also called **Alpha factors** (See S2 slides) and are computed on past data\n",
    "Some features are based on returns (like targets, but are backwards returns), other on prices and other features on alternative data (sentiment analysis in financial analysis reports,)"
   ]
  },
  {
   "cell_type": "code",
   "execution_count": 39,
   "id": "a6910544-0138-45e2-a539-7b637105d905",
   "metadata": {},
   "outputs": [],
   "source": [
    "feat_1yr_mom = (wiki_prices\n",
    "            .groupby('ticker')['adj_close']\n",
    "            .pct_change(252)\n",
    "               )\n",
    "feat_1yr_mom.name = 'x_mon_1yr'"
   ]
  },
  {
   "cell_type": "code",
   "execution_count": 40,
   "id": "008aaf28-7236-4c3e-b342-fcd35c7f03ba",
   "metadata": {},
   "outputs": [],
   "source": [
    "feat_5d_mom = (wiki_prices\n",
    "            .groupby('ticker')['adj_close']\n",
    "            .apply(lambda grp: log_returns(grp, tau=5))\n",
    "              )\n",
    "feat_5d_mom.name = 'x_mon_5d'"
   ]
  },
  {
   "cell_type": "code",
   "execution_count": 41,
   "id": "5466b226-3524-4205-9e97-d0b8140fb50c",
   "metadata": {},
   "outputs": [],
   "source": [
    "feat_zscore = (wiki_prices\n",
    "            .groupby('ticker')['adj_close']\n",
    "            .transform(lambda grp: (grp - grp.rolling(20).mean())/ grp.rolling(20).std() )\n",
    "              )\n",
    "feat_zscore.name = 'x_price_zsco'\n",
    "# this feature is interesting, research a little ;)\n",
    "# z-score can also be used to transform and improve other features"
   ]
  },
  {
   "cell_type": "code",
   "execution_count": 42,
   "id": "0297ae34-8d28-4bba-9a7e-1b3d7d8cdf7a",
   "metadata": {},
   "outputs": [],
   "source": [
    "feat_close_vs_open = wiki_prices['adj_open']-wiki_prices['adj_close']\n",
    "feat_close_vs_open.name = 'x_close_vs_open'"
   ]
  },
  {
   "cell_type": "markdown",
   "id": "f3831ef0-a37e-4205-97ae-2e0ab68cf869",
   "metadata": {},
   "source": [
    "## Join and Filter"
   ]
  },
  {
   "cell_type": "code",
   "execution_count": 43,
   "id": "8b9c7b6d-2e71-409b-803e-3a5f0ba0a8e8",
   "metadata": {},
   "outputs": [],
   "source": [
    "features_and_targets = pd.concat([targets, feat_1yr_mom, feat_5d_mom,feat_zscore, feat_zscore, feat_close_vs_open],axis=1)\n",
    "# filtering the entire population is needed in order to:\n",
    "# get a subset of time\n",
    "# a sample of stocks that are tradable, many options like highly traded stocks or stocks in SP500 list"
   ]
  },
  {
   "cell_type": "markdown",
   "id": "d5f56fad-7065-4b42-a5a8-bf35e65f2a81",
   "metadata": {},
   "source": [
    "# Model Building\n",
    "Example Only. Actual model can be Regression or Classification"
   ]
  },
  {
   "cell_type": "code",
   "execution_count": 44,
   "id": "1e0bd0ee-671a-4f80-816d-d9f3010d2479",
   "metadata": {},
   "outputs": [],
   "source": [
    "features_and_targets_bin = features_and_targets >=0"
   ]
  },
  {
   "cell_type": "code",
   "execution_count": 45,
   "id": "2a9b98d8-897e-4042-acbe-2844fe7281e3",
   "metadata": {},
   "outputs": [],
   "source": [
    "from sklearn import tree\n",
    "\n",
    "X, y = features_and_targets_bin.filter(regex='x_'), features_and_targets_bin['target']\n",
    "model = tree.DecisionTreeClassifier(max_depth=4)\n",
    "model = model.fit(X, y)\n"
   ]
  },
  {
   "cell_type": "code",
   "execution_count": 46,
   "id": "f5bf3221-d429-455d-95f1-e072da91da8e",
   "metadata": {},
   "outputs": [
    {
     "data": {
      "text/plain": [
       "array([False,  True])"
      ]
     },
     "execution_count": 46,
     "metadata": {},
     "output_type": "execute_result"
    }
   ],
   "source": [
    "model.classes_"
   ]
  },
  {
   "cell_type": "code",
   "execution_count": 47,
   "id": "13b8e078-c5aa-40ad-b4fa-dc4c7dfd34d5",
   "metadata": {},
   "outputs": [
    {
     "data": {
      "image/png": "[encoded data removed]",
      "text/plain": [
       "<Figure size 864x432 with 1 Axes>"
      ]
     },
     "metadata": {
      "needs_background": "light"
     },
     "output_type": "display_data"
    }
   ],
   "source": [
    "fig = plt.figure()\n",
    "_ = tree.plot_tree(model, \n",
    "                   feature_names=X.columns,  \n",
    "                   class_names=['short', 'long'],\n",
    "                   filled=True)"
   ]
  },
  {
   "cell_type": "code",
   "execution_count": 48,
   "id": "67c19d9e-b5a3-439a-85ee-b3d4ec378ba2",
   "metadata": {},
   "outputs": [],
   "source": [
    "alpha_ml = pd.Series(index=X.index, data=model.predict_proba(X)[:,0], name='p_alpha_ml')\n",
    "# use this to device a trading strategy"
   ]
  },
  {
   "cell_type": "markdown",
   "id": "dc82f36c-61f3-4aa4-a9d0-8ab56089a737",
   "metadata": {},
   "source": [
    "# Trading strategy\n",
    "\n",
    "One posible way to exploit the model is:\n",
    "* Get probas\n",
    "* apply z-score to probas\n",
    "* Get portfolio weights from z-scored-probas"
   ]
  },
  {
   "cell_type": "code",
   "execution_count": 49,
   "id": "0f94f3b3-ec1f-4b24-8a79-5c07a579b245",
   "metadata": {},
   "outputs": [],
   "source": [
    "alpha_ml_day = alpha_ml.xs(level='date', key=pd.Timestamp('2018-03-27'))"
   ]
  },
  {
   "cell_type": "code",
   "execution_count": 50,
   "id": "ba7ee76c-0a85-448d-babe-bb39ed28761c",
   "metadata": {},
   "outputs": [
    {
     "data": {
      "image/png": "[encoded data removed]",
      "text/plain": [
       "<Figure size 864x432 with 1 Axes>"
      ]
     },
     "metadata": {
      "needs_background": "light"
     },
     "output_type": "display_data"
    }
   ],
   "source": [
    "alpha_ml_day.plot.hist()\n",
    "plt.title('Raw alpha factor (as probability)')\n",
    "plt.show()"
   ]
  },
  {
   "cell_type": "code",
   "execution_count": 51,
   "id": "a6f1aee8-01ca-4c05-98d6-6902de2769f9",
   "metadata": {},
   "outputs": [],
   "source": [
    "alpha_ml_day_zscore = (alpha_ml_day - alpha_ml_day.mean())/ alpha_ml_day.std()\n",
    "# this means that the model will go long on stocks that yield a higher prob given a day distribution, even if this  proba is below 0.5"
   ]
  },
  {
   "cell_type": "code",
   "execution_count": 52,
   "id": "19645dd1-f0a0-492c-bd6d-379b54b5a695",
   "metadata": {},
   "outputs": [
    {
     "data": {
      "text/plain": [
       "1.9101387138675818e-13"
      ]
     },
     "execution_count": 52,
     "metadata": {},
     "output_type": "execute_result"
    }
   ],
   "source": [
    "alpha_ml_day_portw = (alpha_ml_day_zscore / abs(alpha_ml_day_zscore).sum()).sort_values()\n",
    "alpha_ml_day_portw.sum()"
   ]
  },
  {
   "cell_type": "code",
   "execution_count": 53,
   "id": "68ec2f49-3696-40ea-83f8-3af17ce0dd57",
   "metadata": {},
   "outputs": [
    {
     "data": {
      "image/png": "[encoded data removed]",
      "text/plain": [
       "<Figure size 1728x432 with 1 Axes>"
      ]
     },
     "metadata": {
      "needs_background": "light"
     },
     "output_type": "display_data"
    }
   ],
   "source": [
    "alpha_ml_day_portw.plot.bar(figsize=(24,6))\n",
    "plt.title(\"0-dollar portfolio\")\n",
    "plt.show()\n",
    "# short side tickers generate (instantly) some cash that is invested on long side tickers. No upfront investing. Short side is used as leverage (borrow cash)"
   ]
  },
  {
   "cell_type": "code",
   "execution_count": null,
   "id": "5d3d21f8-ff19-4074-a822-3a6088979797",
   "metadata": {},
   "outputs": [],
   "source": []
  }
 ],
 "metadata": {
  "kernelspec": {
   "display_name": "Python 3",
   "language": "python",
   "name": "python3"
  },
  "language_info": {
   "codemirror_mode": {
    "name": "ipython",
    "version": 3
   },
   "file_extension": ".py",
   "mimetype": "text/x-python",
   "name": "python",
   "nbconvert_exporter": "python",
   "pygments_lexer": "ipython3",
   "version": "3.8.8"
  }
 },
 "nbformat": 4,
 "nbformat_minor": 5
}
