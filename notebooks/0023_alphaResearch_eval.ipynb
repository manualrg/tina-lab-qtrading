{
 "cells": [
  {
   "cell_type": "markdown",
   "id": "6eb72ec8-64d5-4bf7-be52-a4205c42f90a",
   "metadata": {},
   "source": [
    "<font size=\"6\"><center>**Alpha Research: Evaluation**</font>"
   ]
  },
  {
   "cell_type": "code",
   "execution_count": 1,
   "id": "f0d673ac-0425-41aa-9dc8-b23e860a5bd4",
   "metadata": {},
   "outputs": [],
   "source": [
    "%load_ext autoreload\n",
    "\n",
    "%autoreload 2"
   ]
  },
  {
   "cell_type": "code",
   "execution_count": 2,
   "id": "0cfad815-aca9-45b1-b9c5-e1391a3b01fa",
   "metadata": {},
   "outputs": [
    {
     "name": "stdout",
     "output_type": "stream",
     "text": [
      "running notebook configuration\n"
     ]
    }
   ],
   "source": [
    "%run ../nb_config.py"
   ]
  },
  {
   "cell_type": "code",
   "execution_count": 3,
   "id": "d5928164-9ea5-4633-a889-6ed5601832b1",
   "metadata": {},
   "outputs": [],
   "source": [
    "import numpy as np\n",
    "import pandas as pd"
   ]
  },
  {
   "cell_type": "code",
   "execution_count": 4,
   "id": "bd0eb713-196b-470a-91ba-7a91c7a46c3b",
   "metadata": {},
   "outputs": [],
   "source": [
    "from src.data_api import sources\n",
    "from src import utils, tags\n",
    "\n",
    "from src import data_preparation as dataprep "
   ]
  },
  {
   "cell_type": "code",
   "execution_count": 5,
   "id": "b261fc66-bded-4684-a820-be9c78b51b7e",
   "metadata": {},
   "outputs": [],
   "source": [
    "conf = utils.get_conf()"
   ]
  },
  {
   "cell_type": "code",
   "execution_count": 6,
   "id": "0c933af8-8190-488d-8247-262f9388a1f6",
   "metadata": {},
   "outputs": [],
   "source": [
    "fparams = conf['func_params']\n",
    "\n",
    "start_dt = '2014-01-01'#fparams['start_dt']\n",
    "end_dt = '2015-12-31'#fparams['end_dt']\n",
    "avol_top = 1000 #float(fparams['avol_top'])\n",
    "avol_window = int(fparams['avol_window'])\n",
    "tau = int(fparams['target']['tau'])"
   ]
  },
  {
   "cell_type": "code",
   "execution_count": 7,
   "id": "b1b736c9-38cd-4642-a6db-c39b55320c7e",
   "metadata": {},
   "outputs": [],
   "source": [
    "ticker = 'AMZN'"
   ]
  },
  {
   "cell_type": "markdown",
   "id": "234c7602-0b1b-4295-97fa-5819e648bf9d",
   "metadata": {},
   "source": [
    "# Load Data"
   ]
  },
  {
   "cell_type": "code",
   "execution_count": 8,
   "id": "0b6c6dcb-c9be-4c40-9d7b-a0442d8be01d",
   "metadata": {},
   "outputs": [],
   "source": [
    "wiki_prices = sources.read_wiki_prices()"
   ]
  },
  {
   "cell_type": "code",
   "execution_count": 9,
   "id": "a13511fc-1258-4a5d-aa96-2e44ab6539bd",
   "metadata": {},
   "outputs": [
    {
     "data": {
      "text/html": [
       "<div>\n",
       "<style scoped>\n",
       "    .dataframe tbody tr th:only-of-type {\n",
       "        vertical-align: middle;\n",
       "    }\n",
       "\n",
       "    .dataframe tbody tr th {\n",
       "        vertical-align: top;\n",
       "    }\n",
       "\n",
       "    .dataframe thead th {\n",
       "        text-align: right;\n",
       "    }\n",
       "</style>\n",
       "<table border=\"1\" class=\"dataframe\">\n",
       "  <thead>\n",
       "    <tr style=\"text-align: right;\">\n",
       "      <th></th>\n",
       "      <th></th>\n",
       "      <th>open</th>\n",
       "      <th>high</th>\n",
       "      <th>low</th>\n",
       "      <th>close</th>\n",
       "      <th>volume</th>\n",
       "      <th>ex-dividend</th>\n",
       "      <th>split_ratio</th>\n",
       "      <th>adj_open</th>\n",
       "      <th>adj_high</th>\n",
       "      <th>adj_low</th>\n",
       "      <th>adj_close</th>\n",
       "      <th>adj_volume</th>\n",
       "    </tr>\n",
       "    <tr>\n",
       "      <th>date</th>\n",
       "      <th>ticker</th>\n",
       "      <th></th>\n",
       "      <th></th>\n",
       "      <th></th>\n",
       "      <th></th>\n",
       "      <th></th>\n",
       "      <th></th>\n",
       "      <th></th>\n",
       "      <th></th>\n",
       "      <th></th>\n",
       "      <th></th>\n",
       "      <th></th>\n",
       "      <th></th>\n",
       "    </tr>\n",
       "  </thead>\n",
       "  <tbody>\n",
       "    <tr>\n",
       "      <th>1999-11-18</th>\n",
       "      <th>A</th>\n",
       "      <td>45.5000</td>\n",
       "      <td>50.0000</td>\n",
       "      <td>40.0000</td>\n",
       "      <td>44.0000</td>\n",
       "      <td>44,739,900.0000</td>\n",
       "      <td>0.0000</td>\n",
       "      <td>1.0000</td>\n",
       "      <td>31.0420</td>\n",
       "      <td>34.1120</td>\n",
       "      <td>27.2896</td>\n",
       "      <td>30.0186</td>\n",
       "      <td>44,739,900.0000</td>\n",
       "    </tr>\n",
       "    <tr>\n",
       "      <th>1999-11-19</th>\n",
       "      <th>A</th>\n",
       "      <td>42.9400</td>\n",
       "      <td>43.0000</td>\n",
       "      <td>39.8100</td>\n",
       "      <td>40.3800</td>\n",
       "      <td>10,897,100.0000</td>\n",
       "      <td>0.0000</td>\n",
       "      <td>1.0000</td>\n",
       "      <td>29.2954</td>\n",
       "      <td>29.3363</td>\n",
       "      <td>27.1600</td>\n",
       "      <td>27.5489</td>\n",
       "      <td>10,897,100.0000</td>\n",
       "    </tr>\n",
       "    <tr>\n",
       "      <th>2018-03-26</th>\n",
       "      <th>ZUMZ</th>\n",
       "      <td>23.7500</td>\n",
       "      <td>24.8000</td>\n",
       "      <td>23.7000</td>\n",
       "      <td>24.6500</td>\n",
       "      <td>375,320.0000</td>\n",
       "      <td>0.0000</td>\n",
       "      <td>1.0000</td>\n",
       "      <td>23.7500</td>\n",
       "      <td>24.8000</td>\n",
       "      <td>23.7000</td>\n",
       "      <td>24.6500</td>\n",
       "      <td>375,320.0000</td>\n",
       "    </tr>\n",
       "    <tr>\n",
       "      <th>2018-03-27</th>\n",
       "      <th>ZUMZ</th>\n",
       "      <td>24.6500</td>\n",
       "      <td>24.6500</td>\n",
       "      <td>23.3500</td>\n",
       "      <td>23.6000</td>\n",
       "      <td>403,884.0000</td>\n",
       "      <td>0.0000</td>\n",
       "      <td>1.0000</td>\n",
       "      <td>24.6500</td>\n",
       "      <td>24.6500</td>\n",
       "      <td>23.3500</td>\n",
       "      <td>23.6000</td>\n",
       "      <td>403,884.0000</td>\n",
       "    </tr>\n",
       "  </tbody>\n",
       "</table>\n",
       "</div>"
      ],
      "text/plain": [
       "                     open    high     low   close          volume  \\\n",
       "date       ticker                                                   \n",
       "1999-11-18 A      45.5000 50.0000 40.0000 44.0000 44,739,900.0000   \n",
       "1999-11-19 A      42.9400 43.0000 39.8100 40.3800 10,897,100.0000   \n",
       "2018-03-26 ZUMZ   23.7500 24.8000 23.7000 24.6500    375,320.0000   \n",
       "2018-03-27 ZUMZ   24.6500 24.6500 23.3500 23.6000    403,884.0000   \n",
       "\n",
       "                   ex-dividend  split_ratio  adj_open  adj_high  adj_low  \\\n",
       "date       ticker                                                          \n",
       "1999-11-18 A            0.0000       1.0000   31.0420   34.1120  27.2896   \n",
       "1999-11-19 A            0.0000       1.0000   29.2954   29.3363  27.1600   \n",
       "2018-03-26 ZUMZ         0.0000       1.0000   23.7500   24.8000  23.7000   \n",
       "2018-03-27 ZUMZ         0.0000       1.0000   24.6500   24.6500  23.3500   \n",
       "\n",
       "                   adj_close      adj_volume  \n",
       "date       ticker                             \n",
       "1999-11-18 A         30.0186 44,739,900.0000  \n",
       "1999-11-19 A         27.5489 10,897,100.0000  \n",
       "2018-03-26 ZUMZ      24.6500    375,320.0000  \n",
       "2018-03-27 ZUMZ      23.6000    403,884.0000  "
      ]
     },
     "execution_count": 9,
     "metadata": {},
     "output_type": "execute_result"
    }
   ],
   "source": [
    "pd.concat([wiki_prices.head(2), wiki_prices.tail(2)], axis=0)"
   ]
  },
  {
   "cell_type": "code",
   "execution_count": 10,
   "id": "3bcf52d2-b64b-48b1-935c-2ae352b24a62",
   "metadata": {},
   "outputs": [
    {
     "name": "stdout",
     "output_type": "stream",
     "text": [
      "<class 'pandas.core.frame.DataFrame'>\n",
      "MultiIndex: 15389314 entries, (Timestamp('1999-11-18 00:00:00'), 'A') to (Timestamp('2018-03-27 00:00:00'), 'ZUMZ')\n",
      "Columns: 12 entries, open to adj_volume\n",
      "dtypes: float64(12)\n",
      "memory usage: 1.4+ GB\n"
     ]
    }
   ],
   "source": [
    "wiki_prices.info()"
   ]
  },
  {
   "cell_type": "code",
   "execution_count": 11,
   "id": "191115e0-3299-46f7-afe1-75fc8cbfe790",
   "metadata": {},
   "outputs": [
    {
     "data": {
      "text/html": [
       "<div>\n",
       "<style scoped>\n",
       "    .dataframe tbody tr th:only-of-type {\n",
       "        vertical-align: middle;\n",
       "    }\n",
       "\n",
       "    .dataframe tbody tr th {\n",
       "        vertical-align: top;\n",
       "    }\n",
       "\n",
       "    .dataframe thead th {\n",
       "        text-align: right;\n",
       "    }\n",
       "</style>\n",
       "<table border=\"1\" class=\"dataframe\">\n",
       "  <thead>\n",
       "    <tr style=\"text-align: right;\">\n",
       "      <th></th>\n",
       "      <th>name</th>\n",
       "      <th>lastsale</th>\n",
       "      <th>marketcap</th>\n",
       "      <th>ipoyear</th>\n",
       "      <th>sector</th>\n",
       "      <th>industry</th>\n",
       "    </tr>\n",
       "    <tr>\n",
       "      <th>ticker</th>\n",
       "      <th></th>\n",
       "      <th></th>\n",
       "      <th></th>\n",
       "      <th></th>\n",
       "      <th></th>\n",
       "      <th></th>\n",
       "    </tr>\n",
       "  </thead>\n",
       "  <tbody>\n",
       "    <tr>\n",
       "      <th>PIH</th>\n",
       "      <td>1347 Property Insurance Holdings, Inc.</td>\n",
       "      <td>7.2001</td>\n",
       "      <td>43,090,000.0000</td>\n",
       "      <td>2,014.0000</td>\n",
       "      <td>Finance</td>\n",
       "      <td>Property-Casualty Insurers</td>\n",
       "    </tr>\n",
       "    <tr>\n",
       "      <th>PIHPP</th>\n",
       "      <td>1347 Property Insurance Holdings, Inc.</td>\n",
       "      <td>25.6200</td>\n",
       "      <td>NaN</td>\n",
       "      <td>NaN</td>\n",
       "      <td>Finance</td>\n",
       "      <td>Property-Casualty Insurers</td>\n",
       "    </tr>\n",
       "    <tr>\n",
       "      <th>TURN</th>\n",
       "      <td>180 Degree Capital Corp.</td>\n",
       "      <td>2.2600</td>\n",
       "      <td>70,330,000.0000</td>\n",
       "      <td>NaN</td>\n",
       "      <td>Finance</td>\n",
       "      <td>Finance/Investors Services</td>\n",
       "    </tr>\n",
       "    <tr>\n",
       "      <th>FLWS</th>\n",
       "      <td>1-800 FLOWERS.COM, Inc.</td>\n",
       "      <td>12.9000</td>\n",
       "      <td>833,390,000.0000</td>\n",
       "      <td>1,999.0000</td>\n",
       "      <td>Consumer Services</td>\n",
       "      <td>Other Specialty Stores</td>\n",
       "    </tr>\n",
       "    <tr>\n",
       "      <th>FCCY</th>\n",
       "      <td>1st Constitution Bancorp (NJ)</td>\n",
       "      <td>21.3000</td>\n",
       "      <td>178,140,000.0000</td>\n",
       "      <td>NaN</td>\n",
       "      <td>Finance</td>\n",
       "      <td>Savings Institutions</td>\n",
       "    </tr>\n",
       "  </tbody>\n",
       "</table>\n",
       "</div>"
      ],
      "text/plain": [
       "                                          name  lastsale        marketcap  \\\n",
       "ticker                                                                      \n",
       "PIH     1347 Property Insurance Holdings, Inc.    7.2001  43,090,000.0000   \n",
       "PIHPP   1347 Property Insurance Holdings, Inc.   25.6200              NaN   \n",
       "TURN                  180 Degree Capital Corp.    2.2600  70,330,000.0000   \n",
       "FLWS                   1-800 FLOWERS.COM, Inc.   12.9000 833,390,000.0000   \n",
       "FCCY             1st Constitution Bancorp (NJ)   21.3000 178,140,000.0000   \n",
       "\n",
       "          ipoyear             sector                    industry  \n",
       "ticker                                                            \n",
       "PIH    2,014.0000            Finance  Property-Casualty Insurers  \n",
       "PIHPP         NaN            Finance  Property-Casualty Insurers  \n",
       "TURN          NaN            Finance  Finance/Investors Services  \n",
       "FLWS   1,999.0000  Consumer Services      Other Specialty Stores  \n",
       "FCCY          NaN            Finance        Savings Institutions  "
      ]
     },
     "execution_count": 11,
     "metadata": {},
     "output_type": "execute_result"
    }
   ],
   "source": [
    "wiki_prices_meta = (sources.read_data(filename='us_equities_meta_data.csv', layer='raw')\n",
    "                   .set_index(tags.TICKER)\n",
    "                   )\n",
    "\n",
    "wiki_prices_meta.head()"
   ]
  },
  {
   "cell_type": "markdown",
   "id": "f06f84fb-c8b4-444b-9f05-e37055d0fedd",
   "metadata": {},
   "source": [
    "# Data Preparation"
   ]
  },
  {
   "cell_type": "code",
   "execution_count": 12,
   "id": "f71876c2-1285-48c8-b1f8-be39ee8f3d26",
   "metadata": {},
   "outputs": [
    {
     "data": {
      "text/html": [
       "<div>\n",
       "<style scoped>\n",
       "    .dataframe tbody tr th:only-of-type {\n",
       "        vertical-align: middle;\n",
       "    }\n",
       "\n",
       "    .dataframe tbody tr th {\n",
       "        vertical-align: top;\n",
       "    }\n",
       "\n",
       "    .dataframe thead th {\n",
       "        text-align: right;\n",
       "    }\n",
       "</style>\n",
       "<table border=\"1\" class=\"dataframe\">\n",
       "  <thead>\n",
       "    <tr style=\"text-align: right;\">\n",
       "      <th></th>\n",
       "      <th></th>\n",
       "      <th>open</th>\n",
       "      <th>high</th>\n",
       "      <th>low</th>\n",
       "      <th>close</th>\n",
       "      <th>volume</th>\n",
       "      <th>ex-dividend</th>\n",
       "      <th>split_ratio</th>\n",
       "      <th>adj_open</th>\n",
       "      <th>adj_high</th>\n",
       "      <th>adj_low</th>\n",
       "      <th>adj_close</th>\n",
       "      <th>adj_volume</th>\n",
       "    </tr>\n",
       "    <tr>\n",
       "      <th>date</th>\n",
       "      <th>ticker</th>\n",
       "      <th></th>\n",
       "      <th></th>\n",
       "      <th></th>\n",
       "      <th></th>\n",
       "      <th></th>\n",
       "      <th></th>\n",
       "      <th></th>\n",
       "      <th></th>\n",
       "      <th></th>\n",
       "      <th></th>\n",
       "      <th></th>\n",
       "      <th></th>\n",
       "    </tr>\n",
       "  </thead>\n",
       "  <tbody>\n",
       "    <tr>\n",
       "      <th>1999-11-18</th>\n",
       "      <th>A</th>\n",
       "      <td>45.5000</td>\n",
       "      <td>50.0000</td>\n",
       "      <td>40.0000</td>\n",
       "      <td>44.0000</td>\n",
       "      <td>44,739,900.0000</td>\n",
       "      <td>0.0000</td>\n",
       "      <td>1.0000</td>\n",
       "      <td>31.0420</td>\n",
       "      <td>34.1120</td>\n",
       "      <td>27.2896</td>\n",
       "      <td>30.0186</td>\n",
       "      <td>44,739,900.0000</td>\n",
       "    </tr>\n",
       "    <tr>\n",
       "      <th>1999-11-19</th>\n",
       "      <th>A</th>\n",
       "      <td>42.9400</td>\n",
       "      <td>43.0000</td>\n",
       "      <td>39.8100</td>\n",
       "      <td>40.3800</td>\n",
       "      <td>10,897,100.0000</td>\n",
       "      <td>0.0000</td>\n",
       "      <td>1.0000</td>\n",
       "      <td>29.2954</td>\n",
       "      <td>29.3363</td>\n",
       "      <td>27.1600</td>\n",
       "      <td>27.5489</td>\n",
       "      <td>10,897,100.0000</td>\n",
       "    </tr>\n",
       "  </tbody>\n",
       "</table>\n",
       "</div>"
      ],
      "text/plain": [
       "                     open    high     low   close          volume  \\\n",
       "date       ticker                                                   \n",
       "1999-11-18 A      45.5000 50.0000 40.0000 44.0000 44,739,900.0000   \n",
       "1999-11-19 A      42.9400 43.0000 39.8100 40.3800 10,897,100.0000   \n",
       "\n",
       "                   ex-dividend  split_ratio  adj_open  adj_high  adj_low  \\\n",
       "date       ticker                                                          \n",
       "1999-11-18 A            0.0000       1.0000   31.0420   34.1120  27.2896   \n",
       "1999-11-19 A            0.0000       1.0000   29.2954   29.3363  27.1600   \n",
       "\n",
       "                   adj_close      adj_volume  \n",
       "date       ticker                             \n",
       "1999-11-18 A         30.0186 44,739,900.0000  \n",
       "1999-11-19 A         27.5489 10,897,100.0000  "
      ]
     },
     "execution_count": 12,
     "metadata": {},
     "output_type": "execute_result"
    }
   ],
   "source": [
    "wiki_prices.head(2)"
   ]
  },
  {
   "cell_type": "code",
   "execution_count": 13,
   "id": "3c3c7e85-3fb7-40a5-9d79-4b8280cd9a7e",
   "metadata": {},
   "outputs": [
    {
     "data": {
      "text/plain": [
       "adj_open     float64\n",
       "adj_close    float64\n",
       "adj_high     float64\n",
       "adj_low      float64\n",
       "dtype: object"
      ]
     },
     "execution_count": 13,
     "metadata": {},
     "output_type": "execute_result"
    }
   ],
   "source": [
    "wiki_prices[['adj_open', 'adj_close', 'adj_high', 'adj_low']].dtypes"
   ]
  },
  {
   "cell_type": "code",
   "execution_count": 14,
   "id": "c2feb2db-aa03-4e1b-966f-b34ff415aeef",
   "metadata": {},
   "outputs": [
    {
     "data": {
      "text/plain": [
       "adj_open     538\n",
       "adj_close      1\n",
       "adj_high      55\n",
       "adj_low       55\n",
       "dtype: int64"
      ]
     },
     "execution_count": 14,
     "metadata": {},
     "output_type": "execute_result"
    }
   ],
   "source": [
    "wiki_prices[['adj_open', 'adj_close', 'adj_high', 'adj_low']].isna().sum(axis=0)"
   ]
  },
  {
   "cell_type": "code",
   "execution_count": 15,
   "id": "008aaf28-7236-4c3e-b342-fcd35c7f03ba",
   "metadata": {},
   "outputs": [],
   "source": [
    "from src import data_preparation as dataprep \n",
    "\n",
    "min_yr = '2013'  # must be before start_dt (consdering feature windows)\n",
    "select_cols = ['adj_open','adj_high','adj_low', 'adj_close', 'adj_volume']\n",
    "\n",
    "mask_min_yr = wiki_prices.index.get_level_values(tags.DATE)>=pd.Timestamp(min_yr)\n",
    "\n",
    "feats_and_targets = (wiki_prices\n",
    "    .loc[mask_min_yr, select_cols]\n",
    "    .pipe(dataprep.pl_min_avol_filter, window=avol_window, top_n=avol_top)\n",
    "    .pipe(dataprep.pl_add_sector, sector_map=wiki_prices_meta['sector'])\n",
    "    .pipe(dataprep.pl_targets, tau_fwd=tau)\n",
    "    .pipe(dataprep.pl_features)\n",
    "    .pipe(dataprep.pl_date_filter, start_dt=start_dt, end_dt=end_dt)\n",
    "    .filter(regex=('x_|y_|sector'))\n",
    "                    )\n"
   ]
  },
  {
   "cell_type": "code",
   "execution_count": 16,
   "id": "3b4bbf0f-7c1e-402c-a930-84470ff3c0c2",
   "metadata": {},
   "outputs": [
    {
     "data": {
      "text/html": [
       "<div>\n",
       "<style scoped>\n",
       "    .dataframe tbody tr th:only-of-type {\n",
       "        vertical-align: middle;\n",
       "    }\n",
       "\n",
       "    .dataframe tbody tr th {\n",
       "        vertical-align: top;\n",
       "    }\n",
       "\n",
       "    .dataframe thead th {\n",
       "        text-align: right;\n",
       "    }\n",
       "</style>\n",
       "<table border=\"1\" class=\"dataframe\">\n",
       "  <thead>\n",
       "    <tr style=\"text-align: right;\">\n",
       "      <th></th>\n",
       "      <th></th>\n",
       "      <th>sector</th>\n",
       "      <th>y_fwd_logrets_5d</th>\n",
       "      <th>x_returns_5d</th>\n",
       "      <th>x_returns_1y</th>\n",
       "      <th>x_ohlc_intraday</th>\n",
       "    </tr>\n",
       "    <tr>\n",
       "      <th>date</th>\n",
       "      <th>ticker</th>\n",
       "      <th></th>\n",
       "      <th></th>\n",
       "      <th></th>\n",
       "      <th></th>\n",
       "      <th></th>\n",
       "    </tr>\n",
       "  </thead>\n",
       "  <tbody>\n",
       "    <tr>\n",
       "      <th>2014-01-02</th>\n",
       "      <th>A</th>\n",
       "      <td>Capital Goods</td>\n",
       "      <td>0.0384</td>\n",
       "      <td>-0.0157</td>\n",
       "      <td>0.3250</td>\n",
       "      <td>-3</td>\n",
       "    </tr>\n",
       "    <tr>\n",
       "      <th>2014-01-03</th>\n",
       "      <th>A</th>\n",
       "      <td>Capital Goods</td>\n",
       "      <td>0.0347</td>\n",
       "      <td>-0.0071</td>\n",
       "      <td>0.3516</td>\n",
       "      <td>3</td>\n",
       "    </tr>\n",
       "    <tr>\n",
       "      <th>2015-10-21</th>\n",
       "      <th>ZUMZ</th>\n",
       "      <td>Consumer Services</td>\n",
       "      <td>0.0724</td>\n",
       "      <td>0.0006</td>\n",
       "      <td>NaN</td>\n",
       "      <td>-3</td>\n",
       "    </tr>\n",
       "    <tr>\n",
       "      <th>2015-10-22</th>\n",
       "      <th>ZUMZ</th>\n",
       "      <td>Consumer Services</td>\n",
       "      <td>0.0820</td>\n",
       "      <td>-0.0206</td>\n",
       "      <td>NaN</td>\n",
       "      <td>-1</td>\n",
       "    </tr>\n",
       "  </tbody>\n",
       "</table>\n",
       "</div>"
      ],
      "text/plain": [
       "                              sector  y_fwd_logrets_5d  x_returns_5d  \\\n",
       "date       ticker                                                      \n",
       "2014-01-02 A           Capital Goods            0.0384       -0.0157   \n",
       "2014-01-03 A           Capital Goods            0.0347       -0.0071   \n",
       "2015-10-21 ZUMZ    Consumer Services            0.0724        0.0006   \n",
       "2015-10-22 ZUMZ    Consumer Services            0.0820       -0.0206   \n",
       "\n",
       "                   x_returns_1y  x_ohlc_intraday  \n",
       "date       ticker                                 \n",
       "2014-01-02 A             0.3250               -3  \n",
       "2014-01-03 A             0.3516                3  \n",
       "2015-10-21 ZUMZ             NaN               -3  \n",
       "2015-10-22 ZUMZ             NaN               -1  "
      ]
     },
     "execution_count": 16,
     "metadata": {},
     "output_type": "execute_result"
    }
   ],
   "source": [
    "pd.concat([feats_and_targets.head(2), feats_and_targets.tail(2)], axis=0)"
   ]
  },
  {
   "cell_type": "code",
   "execution_count": 17,
   "id": "dd1d6adb-f654-46a0-8c13-e337556fa897",
   "metadata": {},
   "outputs": [
    {
     "data": {
      "text/plain": [
       "(502482, 5)"
      ]
     },
     "execution_count": 17,
     "metadata": {},
     "output_type": "execute_result"
    }
   ],
   "source": [
    "feats_and_targets.shape"
   ]
  },
  {
   "cell_type": "code",
   "execution_count": null,
   "id": "bd30a4dd-701c-4d4f-94ff-7ff70bb4346b",
   "metadata": {},
   "outputs": [],
   "source": [
    "feats_and_targets.loc[pd.Timestamp('2015-10-22')]"
   ]
  },
  {
   "cell_type": "markdown",
   "id": "09df65aa-5d3c-49fb-a8ee-a88e2c1b4549",
   "metadata": {},
   "source": [
    "## Feature Engineering"
   ]
  },
  {
   "cell_type": "code",
   "execution_count": null,
   "id": "8b76efdd-aa83-4c5b-b4d7-e27329036189",
   "metadata": {},
   "outputs": [],
   "source": [
    "feats_and_targets['x_returns_1y_fte'] = (\n",
    "    feats_and_targets\n",
    "        .pipe(dataprep.factor_demean, factor_col='x_returns_1y',  date_col='date', sector_col='sector', return_frame=True)\n",
    "        .pipe(dataprep.factor_zscore, factor_col='x_returns_1y', date_col='date', return_frame=True)\n",
    "        ) "
   ]
  },
  {
   "cell_type": "markdown",
   "id": "613015e4-0211-4515-b62e-ac144c9a04a1",
   "metadata": {},
   "source": [
    "# Evaluation"
   ]
  },
  {
   "cell_type": "code",
   "execution_count": 20,
   "id": "c57ceb07-14e7-4dcf-91c7-ecaf156f7640",
   "metadata": {},
   "outputs": [],
   "source": [
    "cols_features = ['x_returns_1y_fte', 'x_returns_5d', 'x_ohlc_intraday']\n",
    "cols_all = cols_features + [tags.TARGET]"
   ]
  },
  {
   "cell_type": "code",
   "execution_count": 21,
   "id": "529e810b-38f7-4271-a15e-994506864f14",
   "metadata": {},
   "outputs": [],
   "source": [
    "corr = feats_and_targets[cols_all].corr(method='spearman')"
   ]
  },
  {
   "cell_type": "code",
   "execution_count": 22,
   "id": "de0ae774-321f-440d-924e-5a85261fdef6",
   "metadata": {},
   "outputs": [
    {
     "data": {
      "text/plain": [
       "x_returns_1y_fte    0.0375\n",
       "x_returns_5d       -0.0243\n",
       "x_ohlc_intraday    -0.0090\n",
       "Name: y_fwd_logrets_5d, dtype: float64"
      ]
     },
     "execution_count": 22,
     "metadata": {},
     "output_type": "execute_result"
    }
   ],
   "source": [
    "corr.loc[cols_features, tags.TARGET]"
   ]
  },
  {
   "cell_type": "code",
   "execution_count": 23,
   "id": "9db64326-1a87-40b5-b87e-b3a0fcf27b45",
   "metadata": {},
   "outputs": [],
   "source": [
    "corr_by_year = (feats_and_targets\n",
    "                  .groupby(feats_and_targets.index.get_level_values(tags.DATE).year)[cols_all]\n",
    "                  .corr(method='spearman')\n",
    "                  .xs(level=1, key=tags.TARGET)[cols_features]\n",
    "                 )"
   ]
  },
  {
   "cell_type": "code",
   "execution_count": 24,
   "id": "7c7c2144-aac8-4c0c-b401-f2d0bb72d02c",
   "metadata": {},
   "outputs": [
    {
     "data": {
      "text/html": [
       "<div>\n",
       "<style scoped>\n",
       "    .dataframe tbody tr th:only-of-type {\n",
       "        vertical-align: middle;\n",
       "    }\n",
       "\n",
       "    .dataframe tbody tr th {\n",
       "        vertical-align: top;\n",
       "    }\n",
       "\n",
       "    .dataframe thead th {\n",
       "        text-align: right;\n",
       "    }\n",
       "</style>\n",
       "<table border=\"1\" class=\"dataframe\">\n",
       "  <thead>\n",
       "    <tr style=\"text-align: right;\">\n",
       "      <th></th>\n",
       "      <th>x_returns_1y_fte</th>\n",
       "      <th>x_returns_5d</th>\n",
       "      <th>x_ohlc_intraday</th>\n",
       "    </tr>\n",
       "    <tr>\n",
       "      <th>date</th>\n",
       "      <th></th>\n",
       "      <th></th>\n",
       "      <th></th>\n",
       "    </tr>\n",
       "  </thead>\n",
       "  <tbody>\n",
       "    <tr>\n",
       "      <th>2014</th>\n",
       "      <td>0.0277</td>\n",
       "      <td>-0.0072</td>\n",
       "      <td>0.0033</td>\n",
       "    </tr>\n",
       "    <tr>\n",
       "      <th>2015</th>\n",
       "      <td>0.0496</td>\n",
       "      <td>-0.0436</td>\n",
       "      <td>-0.0222</td>\n",
       "    </tr>\n",
       "  </tbody>\n",
       "</table>\n",
       "</div>"
      ],
      "text/plain": [
       "      x_returns_1y_fte  x_returns_5d  x_ohlc_intraday\n",
       "date                                                 \n",
       "2014            0.0277       -0.0072           0.0033\n",
       "2015            0.0496       -0.0436          -0.0222"
      ]
     },
     "execution_count": 24,
     "metadata": {},
     "output_type": "execute_result"
    }
   ],
   "source": [
    "corr_by_year"
   ]
  },
  {
   "cell_type": "code",
   "execution_count": 25,
   "id": "c7127a98-b4d6-4f2d-a418-7a6722e0d4b2",
   "metadata": {},
   "outputs": [
    {
     "data": {
      "image/png": "[encoded data removed]",
      "text/plain": [
       "<Figure size 864x432 with 1 Axes>"
      ]
     },
     "metadata": {
      "needs_background": "light"
     },
     "output_type": "display_data"
    }
   ],
   "source": [
    "corr_by_year.plot.bar()\n",
    "plt.title(\"Correlation by year\")\n",
    "plt.show()"
   ]
  },
  {
   "cell_type": "code",
   "execution_count": 26,
   "id": "1df15de2-9af7-4e74-82fe-1f0b55aa4845",
   "metadata": {},
   "outputs": [],
   "source": [
    "corr_by_sector = (feats_and_targets\n",
    "                  .groupby('sector')[cols_all]\n",
    "                  .corr(method='spearman')\n",
    "                  .xs(level=1, key=tags.TARGET)[cols_features]\n",
    "                 )"
   ]
  },
  {
   "cell_type": "code",
   "execution_count": 27,
   "id": "1f0b4f0a-34f5-4ecd-94fe-bf16e575d09e",
   "metadata": {},
   "outputs": [
    {
     "data": {
      "text/html": [
       "<div>\n",
       "<style scoped>\n",
       "    .dataframe tbody tr th:only-of-type {\n",
       "        vertical-align: middle;\n",
       "    }\n",
       "\n",
       "    .dataframe tbody tr th {\n",
       "        vertical-align: top;\n",
       "    }\n",
       "\n",
       "    .dataframe thead th {\n",
       "        text-align: right;\n",
       "    }\n",
       "</style>\n",
       "<table border=\"1\" class=\"dataframe\">\n",
       "  <thead>\n",
       "    <tr style=\"text-align: right;\">\n",
       "      <th></th>\n",
       "      <th>x_returns_1y_fte</th>\n",
       "      <th>x_returns_5d</th>\n",
       "      <th>x_ohlc_intraday</th>\n",
       "    </tr>\n",
       "    <tr>\n",
       "      <th>sector</th>\n",
       "      <th></th>\n",
       "      <th></th>\n",
       "      <th></th>\n",
       "    </tr>\n",
       "  </thead>\n",
       "  <tbody>\n",
       "    <tr>\n",
       "      <th>Basic Industries</th>\n",
       "      <td>0.0314</td>\n",
       "      <td>0.0036</td>\n",
       "      <td>0.0108</td>\n",
       "    </tr>\n",
       "    <tr>\n",
       "      <th>Capital Goods</th>\n",
       "      <td>0.0346</td>\n",
       "      <td>-0.0460</td>\n",
       "      <td>-0.0001</td>\n",
       "    </tr>\n",
       "    <tr>\n",
       "      <th>Consumer Durables</th>\n",
       "      <td>-0.0160</td>\n",
       "      <td>-0.0379</td>\n",
       "      <td>0.0040</td>\n",
       "    </tr>\n",
       "    <tr>\n",
       "      <th>Consumer Non-Durables</th>\n",
       "      <td>0.0757</td>\n",
       "      <td>-0.0448</td>\n",
       "      <td>-0.0128</td>\n",
       "    </tr>\n",
       "    <tr>\n",
       "      <th>Consumer Services</th>\n",
       "      <td>0.0228</td>\n",
       "      <td>-0.0315</td>\n",
       "      <td>-0.0139</td>\n",
       "    </tr>\n",
       "    <tr>\n",
       "      <th>Energy</th>\n",
       "      <td>0.0419</td>\n",
       "      <td>-0.0117</td>\n",
       "      <td>-0.0049</td>\n",
       "    </tr>\n",
       "    <tr>\n",
       "      <th>Finance</th>\n",
       "      <td>0.0168</td>\n",
       "      <td>-0.0700</td>\n",
       "      <td>-0.0145</td>\n",
       "    </tr>\n",
       "    <tr>\n",
       "      <th>Health Care</th>\n",
       "      <td>0.0124</td>\n",
       "      <td>-0.0383</td>\n",
       "      <td>-0.0240</td>\n",
       "    </tr>\n",
       "    <tr>\n",
       "      <th>Miscellaneous</th>\n",
       "      <td>0.0228</td>\n",
       "      <td>-0.0498</td>\n",
       "      <td>-0.0183</td>\n",
       "    </tr>\n",
       "    <tr>\n",
       "      <th>NA</th>\n",
       "      <td>0.0711</td>\n",
       "      <td>-0.0004</td>\n",
       "      <td>-0.0051</td>\n",
       "    </tr>\n",
       "    <tr>\n",
       "      <th>Public Utilities</th>\n",
       "      <td>0.0196</td>\n",
       "      <td>-0.0171</td>\n",
       "      <td>-0.0301</td>\n",
       "    </tr>\n",
       "    <tr>\n",
       "      <th>Technology</th>\n",
       "      <td>0.0348</td>\n",
       "      <td>-0.0301</td>\n",
       "      <td>-0.0075</td>\n",
       "    </tr>\n",
       "    <tr>\n",
       "      <th>Transportation</th>\n",
       "      <td>0.0472</td>\n",
       "      <td>-0.0549</td>\n",
       "      <td>-0.0121</td>\n",
       "    </tr>\n",
       "  </tbody>\n",
       "</table>\n",
       "</div>"
      ],
      "text/plain": [
       "                       x_returns_1y_fte  x_returns_5d  x_ohlc_intraday\n",
       "sector                                                                \n",
       "Basic Industries                 0.0314        0.0036           0.0108\n",
       "Capital Goods                    0.0346       -0.0460          -0.0001\n",
       "Consumer Durables               -0.0160       -0.0379           0.0040\n",
       "Consumer Non-Durables            0.0757       -0.0448          -0.0128\n",
       "Consumer Services                0.0228       -0.0315          -0.0139\n",
       "Energy                           0.0419       -0.0117          -0.0049\n",
       "Finance                          0.0168       -0.0700          -0.0145\n",
       "Health Care                      0.0124       -0.0383          -0.0240\n",
       "Miscellaneous                    0.0228       -0.0498          -0.0183\n",
       "NA                               0.0711       -0.0004          -0.0051\n",
       "Public Utilities                 0.0196       -0.0171          -0.0301\n",
       "Technology                       0.0348       -0.0301          -0.0075\n",
       "Transportation                   0.0472       -0.0549          -0.0121"
      ]
     },
     "execution_count": 27,
     "metadata": {},
     "output_type": "execute_result"
    }
   ],
   "source": [
    "corr_by_sector"
   ]
  },
  {
   "cell_type": "code",
   "execution_count": 28,
   "id": "bca1e1f1-ec86-412f-9229-6e14d99fb8d7",
   "metadata": {},
   "outputs": [
    {
     "data": {
      "image/png": "[encoded data removed]",
      "text/plain": [
       "<Figure size 864x432 with 1 Axes>"
      ]
     },
     "metadata": {
      "needs_background": "light"
     },
     "output_type": "display_data"
    }
   ],
   "source": [
    "corr_by_sector.plot.bar()\n",
    "plt.title(\"Correlation by sector\")\n",
    "plt.show()"
   ]
  },
  {
   "cell_type": "markdown",
   "id": "bceaa0d0-5a36-4f96-9c63-bee74c6ecc42",
   "metadata": {},
   "source": [
    "# Alphalens"
   ]
  },
  {
   "cell_type": "code",
   "execution_count": 29,
   "id": "f6f32b48-b1f7-4b7d-a122-dec4110cf359",
   "metadata": {},
   "outputs": [
    {
     "ename": "ModuleNotFoundError",
     "evalue": "No module named 'alphalens'",
     "output_type": "error",
     "traceback": [
      "\u001b[1;31m---------------------------------------------------------------------------\u001b[0m",
      "\u001b[1;31mModuleNotFoundError\u001b[0m                       Traceback (most recent call last)",
      "\u001b[1;32m<ipython-input-29-74397baeacfb>\u001b[0m in \u001b[0;36m<module>\u001b[1;34m\u001b[0m\n\u001b[1;32m----> 1\u001b[1;33m \u001b[1;32mfrom\u001b[0m \u001b[0malphalens\u001b[0m\u001b[1;33m.\u001b[0m\u001b[0mutils\u001b[0m \u001b[1;32mimport\u001b[0m \u001b[0mget_clean_factor_and_forward_returns\u001b[0m\u001b[1;33m\u001b[0m\u001b[1;33m\u001b[0m\u001b[0m\n\u001b[0m\u001b[0;32m      2\u001b[0m \u001b[1;32mfrom\u001b[0m \u001b[0malphalens\u001b[0m\u001b[1;33m.\u001b[0m\u001b[0mperformance\u001b[0m \u001b[1;32mimport\u001b[0m \u001b[0mfactor_returns\u001b[0m \u001b[1;32mas\u001b[0m \u001b[0mal_factor_returns\u001b[0m\u001b[1;33m\u001b[0m\u001b[1;33m\u001b[0m\u001b[0m\n",
      "\u001b[1;31mModuleNotFoundError\u001b[0m: No module named 'alphalens'"
     ]
    }
   ],
   "source": [
    "from alphalens.utils import get_clean_factor_and_forward_returns\n",
    "from alphalens.performance import factor_returns as al_factor_returns"
   ]
  },
  {
   "cell_type": "code",
   "execution_count": null,
   "id": "b0ec4d59-30a2-421e-b29d-eb0202c89a86",
   "metadata": {},
   "outputs": [],
   "source": [
    "factor_name = 'x_returns_1y_fte'\n",
    "factor_data = feats_and_targets[factor_name]"
   ]
  },
  {
   "cell_type": "code",
   "execution_count": null,
   "id": "dfa6b2c0-ee57-4ae8-89fa-5b88a5fd81ed",
   "metadata": {},
   "outputs": [],
   "source": [
    "all_tickers = (factor_data.index\n",
    "               .get_level_values(tags.TICKER)\n",
    "               .unique().tolist()\n",
    "              )"
   ]
  },
  {
   "cell_type": "code",
   "execution_count": null,
   "id": "46d68acf-02cc-49c6-98b9-f83d2340f74b",
   "metadata": {},
   "outputs": [],
   "source": [
    "pd.Timestamp.today()"
   ]
  },
  {
   "cell_type": "code",
   "execution_count": null,
   "id": "0376cdcf-7b63-42a4-855c-8afff12b9c14",
   "metadata": {},
   "outputs": [],
   "source": [
    "prices = (\n",
    "    wiki_prices.pipe(dataprep.pl_date_filter, start_dt, pd.Timestamp.today())\n",
    "    .query(f'ticker in {all_tickers}')[tags.CLOSE]\n",
    "    .unstack(tags.TICKER)\n",
    ")\n",
    "\n",
    "prices.head(2)"
   ]
  },
  {
   "cell_type": "code",
   "execution_count": null,
   "id": "ec6e4768-2c73-45be-831b-01f8a1ebd5f5",
   "metadata": {},
   "outputs": [],
   "source": [
    "HOLDING_PERIODS = (1, 5, )\n",
    "QUANTILES = 5\n",
    "alphalens_data = get_clean_factor_and_forward_returns(factor=factor_data,\n",
    "                                                      prices=prices,\n",
    "                                                      periods=HOLDING_PERIODS,\n",
    "                                                      quantiles=QUANTILES)"
   ]
  },
  {
   "cell_type": "code",
   "execution_count": null,
   "id": "4ba9ea57-918a-405b-b472-5255c6a4bcbc",
   "metadata": {},
   "outputs": [],
   "source": [
    "alphalens_data.head()"
   ]
  },
  {
   "cell_type": "code",
   "execution_count": null,
   "id": "db83e307-6d16-453d-af5e-5a9a7e2d7b7a",
   "metadata": {},
   "outputs": [],
   "source": [
    "ex_ticker = 'AAPL'\n",
    "ex_tau = 1\n",
    "ex_date = pd.Timestamp('2015-01-05')\n",
    "prices_ex = prices[ex_ticker]"
   ]
  },
  {
   "cell_type": "code",
   "execution_count": null,
   "id": "80756bd7-3b2f-4efe-b280-8bf5c8926029",
   "metadata": {},
   "outputs": [],
   "source": [
    "ex_date_tau = ex_date + pd.tseries.offsets.BusinessDay(5)\n",
    "ex_date_tau"
   ]
  },
  {
   "cell_type": "code",
   "execution_count": null,
   "id": "4abe857c-ad07-4d4a-8558-8cd4fdcd5c3a",
   "metadata": {},
   "outputs": [],
   "source": [
    "prices.loc[ex_date:, ex_ticker].head(6)"
   ]
  },
  {
   "cell_type": "code",
   "execution_count": null,
   "id": "cb539bc5-826b-4b0b-8658-a510a8ccd3b8",
   "metadata": {},
   "outputs": [],
   "source": [
    "ex_return = (prices_ex.loc[ex_date_tau] - prices_ex.loc[ex_date]) / prices_ex.loc[ex_date]\n",
    "ex_return"
   ]
  },
  {
   "cell_type": "code",
   "execution_count": null,
   "id": "4936f2af-c127-4371-ba57-9a6386b99b0e",
   "metadata": {},
   "outputs": [],
   "source": [
    "# alpha lens uses the contrary sign convention, \n",
    "alphalens_data.loc[(pd.Timestamp(ex_date), ex_ticker), '5D']"
   ]
  },
  {
   "cell_type": "code",
   "execution_count": null,
   "id": "a97c065f-7400-4fc1-bbd2-905c87bef67e",
   "metadata": {},
   "outputs": [],
   "source": [
    "factor_data.loc[(ex_date, ex_ticker)]"
   ]
  },
  {
   "cell_type": "code",
   "execution_count": null,
   "id": "abd5d2b8-06be-44aa-9fb8-333ce643dbf1",
   "metadata": {},
   "outputs": [],
   "source": [
    "assert np.isclose(ex_return, alphalens_data.loc[(ex_date, ex_ticker), '5D'])\n",
    "assert np.isclose(factor_data.loc[(ex_date, ex_ticker)], alphalens_data.loc[(ex_date, ex_ticker), 'factor'])"
   ]
  },
  {
   "cell_type": "code",
   "execution_count": null,
   "id": "8eefeca8-7b21-480f-b3b8-0dd4669fb80e",
   "metadata": {},
   "outputs": [],
   "source": [
    "#, alphalens_data.index.get_level_values('asset').unique()\n",
    "#pd.testing.assert_series_equal(\n",
    "#    pd.qcut(factor_data.loc[ex_date], 5).sort_index(),\n",
    "#    alphalens_data.loc[ex_date, 'factor_quantile'].sort_index(),\n",
    "#    check_names=False\n",
    "#)\n",
    "#    "
   ]
  },
  {
   "cell_type": "code",
   "execution_count": null,
   "id": "07573b93-e503-4d0c-90ae-5c11e077cfd3",
   "metadata": {},
   "outputs": [],
   "source": [
    "alphalens_data[['factor', '5D']].corr()"
   ]
  },
  {
   "cell_type": "code",
   "execution_count": null,
   "id": "ca563cad-e51f-4755-ad0e-72d54f7671f3",
   "metadata": {},
   "outputs": [],
   "source": [
    "from alphalens.performance import *\n",
    "from alphalens.plotting import *\n",
    "from alphalens.tears import *"
   ]
  },
  {
   "cell_type": "code",
   "execution_count": null,
   "id": "4b3fd724-1044-4d2e-90af-760d3a1be741",
   "metadata": {},
   "outputs": [],
   "source": [
    "mean_return_by_q, std_err = mean_return_by_quantile(alphalens_data)\n",
    "mean_return_by_q_norm = mean_return_by_q.apply(lambda x: x.add(1).pow(1/int(x.name[:-1])).sub(1))\n",
    "\n",
    "plot_quantile_returns_bar(mean_return_by_q)\n",
    "plt.tight_layout()\n",
    "sns.despine();"
   ]
  },
  {
   "cell_type": "code",
   "execution_count": null,
   "id": "5bb97220-184f-4170-aa64-a5fb08703f52",
   "metadata": {},
   "outputs": [],
   "source": [
    "mean_return_by_q_daily, std_err = mean_return_by_quantile(alphalens_data, by_date=True)\n",
    "\n",
    "plot_cumulative_returns_by_quantile(mean_return_by_q_daily['5D'], period='5D', freq=None)\n",
    "plt.tight_layout()\n",
    "sns.despine();"
   ]
  },
  {
   "cell_type": "code",
   "execution_count": null,
   "id": "1ba8c943-102f-4071-98e9-0f850b8fd807",
   "metadata": {},
   "outputs": [],
   "source": [
    "ic = factor_information_coefficient(alphalens_data)\n",
    "plot_ic_ts(ic[['5D']])\n",
    "plt.tight_layout()\n",
    "sns.despine();"
   ]
  },
  {
   "cell_type": "code",
   "execution_count": null,
   "id": "164a1aa1-866f-4094-97f8-7aeeaa760387",
   "metadata": {},
   "outputs": [],
   "source": [
    "ic = factor_information_coefficient(alphalens_data)\n",
    "ic_by_year = ic.resample('A').mean()\n",
    "ic_by_year.index = ic_by_year.index.year\n",
    "ic_by_year.plot.bar(figsize=(14, 6))\n",
    "plt.tight_layout();"
   ]
  },
  {
   "cell_type": "code",
   "execution_count": null,
   "id": "4065f81c-9b5d-489a-b76b-c9d4eb1b5724",
   "metadata": {},
   "outputs": [],
   "source": [
    "df_factor_return = al_factor_returns(alphalens_data)"
   ]
  },
  {
   "cell_type": "code",
   "execution_count": null,
   "id": "c8af8b13-bdad-4de0-b1c7-389957ba7969",
   "metadata": {},
   "outputs": [],
   "source": [
    "cum_rets = (1+df_factor_return).cumprod()"
   ]
  },
  {
   "cell_type": "code",
   "execution_count": null,
   "id": "114c79dc-7d40-4308-8ec7-a59e3b434f68",
   "metadata": {},
   "outputs": [],
   "source": [
    "\n",
    "g = cum_rets.plot(linestyle = '-', figsize=(16,8))\n",
    "plt.title('Accumulated Forward (Weighted) Returns by factor')\n",
    "plt.ylabel(\"%\")\n",
    "plt.show()"
   ]
  }
 ],
 "metadata": {
  "kernelspec": {
   "display_name": "Python 3",
   "language": "python",
   "name": "python3"
  },
  "language_info": {
   "codemirror_mode": {
    "name": "ipython",
    "version": 3
   },
   "file_extension": ".py",
   "mimetype": "text/x-python",
   "name": "python",
   "nbconvert_exporter": "python",
   "pygments_lexer": "ipython3",
   "version": "3.8.8"
  }
 },
 "nbformat": 4,
 "nbformat_minor": 5
}
