{
 "cells": [
  {
   "cell_type": "markdown",
   "id": "6eb72ec8-64d5-4bf7-be52-a4205c42f90a",
   "metadata": {},
   "source": [
    "<font size=\"6\"><center>**Model Building**</font>"
   ]
  },
  {
   "cell_type": "code",
   "execution_count": 1,
   "id": "f0d673ac-0425-41aa-9dc8-b23e860a5bd4",
   "metadata": {},
   "outputs": [],
   "source": [
    "%load_ext autoreload\n",
    "%autoreload 2"
   ]
  },
  {
   "cell_type": "code",
   "execution_count": 2,
   "id": "0cfad815-aca9-45b1-b9c5-e1391a3b01fa",
   "metadata": {},
   "outputs": [
    {
     "name": "stdout",
     "output_type": "stream",
     "text": [
      "running notebook configuration\n"
     ]
    }
   ],
   "source": [
    "%run ../nb_config.py"
   ]
  },
  {
   "cell_type": "code",
   "execution_count": 3,
   "id": "d5928164-9ea5-4633-a889-6ed5601832b1",
   "metadata": {},
   "outputs": [],
   "source": [
    "import numpy as np\n",
    "import pandas as pd\n"
   ]
  },
  {
   "cell_type": "code",
   "execution_count": 4,
   "id": "bd0eb713-196b-470a-91ba-7a91c7a46c3b",
   "metadata": {},
   "outputs": [],
   "source": [
    "from src.data_api import sources, sinks\n",
    "from src import utils, tags\n",
    "\n",
    "from src import mle "
   ]
  },
  {
   "cell_type": "code",
   "execution_count": 5,
   "id": "b261fc66-bded-4684-a820-be9c78b51b7e",
   "metadata": {},
   "outputs": [],
   "source": [
    "conf = utils.get_conf()"
   ]
  },
  {
   "cell_type": "code",
   "execution_count": 6,
   "id": "0c933af8-8190-488d-8247-262f9388a1f6",
   "metadata": {},
   "outputs": [],
   "source": [
    "fparams = conf['func_params']\n",
    "\n",
    "start_dt = fparams['start_dt']\n",
    "end_dt = fparams['end_dt']\n",
    "avol_top = float(fparams['avol_top'])\n",
    "avol_window = int(fparams['avol_window'])\n",
    "tau = int(fparams['target']['tau'])\n",
    "\n",
    "val_dt = fparams['split_dt']['valid']\n",
    "test_dt = fparams['split_dt']['test']"
   ]
  },
  {
   "cell_type": "code",
   "execution_count": 7,
   "id": "1d6d0f86-a852-47c0-961b-d573a45b5e25",
   "metadata": {},
   "outputs": [],
   "source": [
    "K_FOLDS = 3\n",
    "RND_SEED = 123"
   ]
  },
  {
   "cell_type": "markdown",
   "id": "234c7602-0b1b-4295-97fa-5819e648bf9d",
   "metadata": {},
   "source": [
    "# Load Data"
   ]
  },
  {
   "cell_type": "code",
   "execution_count": 8,
   "id": "0b6c6dcb-c9be-4c40-9d7b-a0442d8be01d",
   "metadata": {},
   "outputs": [
    {
     "name": "stdout",
     "output_type": "stream",
     "text": [
      "<class 'pandas.core.frame.DataFrame'>\n",
      "MultiIndex: 374331 entries, (Timestamp('2015-01-02 00:00:00'), 'A') to (Timestamp('2017-12-29 00:00:00'), 'ZTS')\n",
      "Columns: 27 entries, sector to split_3f\n",
      "dtypes: bool(1), float64(23), object(3)\n",
      "memory usage: 76.1+ MB\n"
     ]
    }
   ],
   "source": [
    "feats_and_targets = sources.read_data(\n",
    "    'feats_and_targets.csv', layer='interim',\n",
    "    parse_dates=['date'], index_col=['date', 'ticker'])\n",
    "feats_and_targets.info()"
   ]
  },
  {
   "cell_type": "code",
   "execution_count": 9,
   "id": "a13511fc-1258-4a5d-aa96-2e44ab6539bd",
   "metadata": {},
   "outputs": [
    {
     "data": {
      "text/html": [
       "<div>\n",
       "<style scoped>\n",
       "    .dataframe tbody tr th:only-of-type {\n",
       "        vertical-align: middle;\n",
       "    }\n",
       "\n",
       "    .dataframe tbody tr th {\n",
       "        vertical-align: top;\n",
       "    }\n",
       "\n",
       "    .dataframe thead th {\n",
       "        text-align: right;\n",
       "    }\n",
       "</style>\n",
       "<table border=\"1\" class=\"dataframe\">\n",
       "  <thead>\n",
       "    <tr style=\"text-align: right;\">\n",
       "      <th></th>\n",
       "      <th></th>\n",
       "      <th>sector</th>\n",
       "      <th>SP500</th>\n",
       "      <th>y_fwd_logrets_5d</th>\n",
       "      <th>x_intrad_upshadow</th>\n",
       "      <th>x_intrad_loshadow</th>\n",
       "      <th>x_returns_5d</th>\n",
       "      <th>x_zscore_5d</th>\n",
       "      <th>x_zscore_vol_5d</th>\n",
       "      <th>x_macd_5d_vs_20d</th>\n",
       "      <th>x_rsi</th>\n",
       "      <th>x_zscore_20d</th>\n",
       "      <th>x_zscore_vol_20d</th>\n",
       "      <th>x_zscore_60d</th>\n",
       "      <th>x_zscore_vol_60d</th>\n",
       "      <th>x_bb_60d</th>\n",
       "      <th>x_macd_50d_vs_252d</th>\n",
       "      <th>x_returns_1y</th>\n",
       "      <th>x_rets5d_vol_60d</th>\n",
       "      <th>x_rets5d_vol_120d</th>\n",
       "      <th>x_mkt_dispersion</th>\n",
       "      <th>x_wday_cos</th>\n",
       "      <th>x_wday_sin</th>\n",
       "      <th>x_is_eoq</th>\n",
       "      <th>x_mkt_volat_60d</th>\n",
       "      <th>x_mkt_volat_120d</th>\n",
       "      <th>split</th>\n",
       "      <th>split_3f</th>\n",
       "    </tr>\n",
       "    <tr>\n",
       "      <th>date</th>\n",
       "      <th>ticker</th>\n",
       "      <th></th>\n",
       "      <th></th>\n",
       "      <th></th>\n",
       "      <th></th>\n",
       "      <th></th>\n",
       "      <th></th>\n",
       "      <th></th>\n",
       "      <th></th>\n",
       "      <th></th>\n",
       "      <th></th>\n",
       "      <th></th>\n",
       "      <th></th>\n",
       "      <th></th>\n",
       "      <th></th>\n",
       "      <th></th>\n",
       "      <th></th>\n",
       "      <th></th>\n",
       "      <th></th>\n",
       "      <th></th>\n",
       "      <th></th>\n",
       "      <th></th>\n",
       "      <th></th>\n",
       "      <th></th>\n",
       "      <th></th>\n",
       "      <th></th>\n",
       "      <th></th>\n",
       "      <th></th>\n",
       "    </tr>\n",
       "  </thead>\n",
       "  <tbody>\n",
       "    <tr>\n",
       "      <th>2015-01-02</th>\n",
       "      <th>A</th>\n",
       "      <td>Capital Goods</td>\n",
       "      <td>-0.0147</td>\n",
       "      <td>0.0007</td>\n",
       "      <td>0.1264</td>\n",
       "      <td>0.1847</td>\n",
       "      <td>-0.0115</td>\n",
       "      <td>-1.4744</td>\n",
       "      <td>0.9398</td>\n",
       "      <td>0.2672</td>\n",
       "      <td>55.3864</td>\n",
       "      <td>-0.1928</td>\n",
       "      <td>-0.5010</td>\n",
       "      <td>0.1058</td>\n",
       "      <td>-0.8054</td>\n",
       "      <td>0.0000</td>\n",
       "      <td>0.4378</td>\n",
       "      <td>0.1129</td>\n",
       "      <td>0.0405</td>\n",
       "      <td>0.0336</td>\n",
       "      <td>0.0543</td>\n",
       "      <td>0.3090</td>\n",
       "      <td>-0.9511</td>\n",
       "      <td>False</td>\n",
       "      <td>0.0236</td>\n",
       "      <td>0.0192</td>\n",
       "      <td>1.dev</td>\n",
       "      <td>1.train</td>\n",
       "    </tr>\n",
       "    <tr>\n",
       "      <th>2015-01-05</th>\n",
       "      <th>A</th>\n",
       "      <td>Capital Goods</td>\n",
       "      <td>-0.0341</td>\n",
       "      <td>0.0078</td>\n",
       "      <td>0.1361</td>\n",
       "      <td>0.0972</td>\n",
       "      <td>-0.0365</td>\n",
       "      <td>-1.5635</td>\n",
       "      <td>1.5077</td>\n",
       "      <td>0.0948</td>\n",
       "      <td>55.6667</td>\n",
       "      <td>-0.8393</td>\n",
       "      <td>-0.0693</td>\n",
       "      <td>-0.3988</td>\n",
       "      <td>-0.4243</td>\n",
       "      <td>0.0000</td>\n",
       "      <td>0.4540</td>\n",
       "      <td>0.1001</td>\n",
       "      <td>0.0406</td>\n",
       "      <td>0.0338</td>\n",
       "      <td>0.0628</td>\n",
       "      <td>1.0000</td>\n",
       "      <td>0.0000</td>\n",
       "      <td>False</td>\n",
       "      <td>0.0241</td>\n",
       "      <td>0.0194</td>\n",
       "      <td>1.dev</td>\n",
       "      <td>1.train</td>\n",
       "    </tr>\n",
       "    <tr>\n",
       "      <th>2017-12-28</th>\n",
       "      <th>ZTS</th>\n",
       "      <td>Health Care</td>\n",
       "      <td>0.0011</td>\n",
       "      <td>0.0133</td>\n",
       "      <td>0.1100</td>\n",
       "      <td>0.2500</td>\n",
       "      <td>-0.0044</td>\n",
       "      <td>0.5586</td>\n",
       "      <td>-1.2001</td>\n",
       "      <td>0.2580</td>\n",
       "      <td>59.9842</td>\n",
       "      <td>0.6349</td>\n",
       "      <td>-1.4923</td>\n",
       "      <td>1.0820</td>\n",
       "      <td>-1.6623</td>\n",
       "      <td>0.0000</td>\n",
       "      <td>8.6920</td>\n",
       "      <td>0.3552</td>\n",
       "      <td>0.0237</td>\n",
       "      <td>0.0218</td>\n",
       "      <td>0.0547</td>\n",
       "      <td>-0.8090</td>\n",
       "      <td>-0.5878</td>\n",
       "      <td>False</td>\n",
       "      <td>0.0057</td>\n",
       "      <td>0.0068</td>\n",
       "      <td>2.test</td>\n",
       "      <td>3.test</td>\n",
       "    </tr>\n",
       "    <tr>\n",
       "      <th>2017-12-29</th>\n",
       "      <th>ZTS</th>\n",
       "      <td>Health Care</td>\n",
       "      <td>-0.0036</td>\n",
       "      <td>0.0301</td>\n",
       "      <td>0.2100</td>\n",
       "      <td>0.0000</td>\n",
       "      <td>-0.0033</td>\n",
       "      <td>-0.9547</td>\n",
       "      <td>1.3702</td>\n",
       "      <td>0.2225</td>\n",
       "      <td>65.2919</td>\n",
       "      <td>0.0366</td>\n",
       "      <td>-0.0578</td>\n",
       "      <td>0.9494</td>\n",
       "      <td>-0.5330</td>\n",
       "      <td>0.0000</td>\n",
       "      <td>8.7416</td>\n",
       "      <td>0.3557</td>\n",
       "      <td>0.0238</td>\n",
       "      <td>0.0218</td>\n",
       "      <td>0.0637</td>\n",
       "      <td>0.3090</td>\n",
       "      <td>-0.9511</td>\n",
       "      <td>False</td>\n",
       "      <td>0.0056</td>\n",
       "      <td>0.0068</td>\n",
       "      <td>2.test</td>\n",
       "      <td>3.test</td>\n",
       "    </tr>\n",
       "  </tbody>\n",
       "</table>\n",
       "</div>"
      ],
      "text/plain": [
       "                          sector   SP500  y_fwd_logrets_5d  x_intrad_upshadow  \\\n",
       "date       ticker                                                               \n",
       "2015-01-02 A       Capital Goods -0.0147            0.0007             0.1264   \n",
       "2015-01-05 A       Capital Goods -0.0341            0.0078             0.1361   \n",
       "2017-12-28 ZTS       Health Care  0.0011            0.0133             0.1100   \n",
       "2017-12-29 ZTS       Health Care -0.0036            0.0301             0.2100   \n",
       "\n",
       "                   x_intrad_loshadow  x_returns_5d  x_zscore_5d  \\\n",
       "date       ticker                                                 \n",
       "2015-01-02 A                  0.1847       -0.0115      -1.4744   \n",
       "2015-01-05 A                  0.0972       -0.0365      -1.5635   \n",
       "2017-12-28 ZTS                0.2500       -0.0044       0.5586   \n",
       "2017-12-29 ZTS                0.0000       -0.0033      -0.9547   \n",
       "\n",
       "                   x_zscore_vol_5d  x_macd_5d_vs_20d   x_rsi  x_zscore_20d  \\\n",
       "date       ticker                                                            \n",
       "2015-01-02 A                0.9398            0.2672 55.3864       -0.1928   \n",
       "2015-01-05 A                1.5077            0.0948 55.6667       -0.8393   \n",
       "2017-12-28 ZTS             -1.2001            0.2580 59.9842        0.6349   \n",
       "2017-12-29 ZTS              1.3702            0.2225 65.2919        0.0366   \n",
       "\n",
       "                   x_zscore_vol_20d  x_zscore_60d  x_zscore_vol_60d  x_bb_60d  \\\n",
       "date       ticker                                                               \n",
       "2015-01-02 A                -0.5010        0.1058           -0.8054    0.0000   \n",
       "2015-01-05 A                -0.0693       -0.3988           -0.4243    0.0000   \n",
       "2017-12-28 ZTS              -1.4923        1.0820           -1.6623    0.0000   \n",
       "2017-12-29 ZTS              -0.0578        0.9494           -0.5330    0.0000   \n",
       "\n",
       "                   x_macd_50d_vs_252d  x_returns_1y  x_rets5d_vol_60d  \\\n",
       "date       ticker                                                       \n",
       "2015-01-02 A                   0.4378        0.1129            0.0405   \n",
       "2015-01-05 A                   0.4540        0.1001            0.0406   \n",
       "2017-12-28 ZTS                 8.6920        0.3552            0.0237   \n",
       "2017-12-29 ZTS                 8.7416        0.3557            0.0238   \n",
       "\n",
       "                   x_rets5d_vol_120d  x_mkt_dispersion  x_wday_cos  \\\n",
       "date       ticker                                                    \n",
       "2015-01-02 A                  0.0336            0.0543      0.3090   \n",
       "2015-01-05 A                  0.0338            0.0628      1.0000   \n",
       "2017-12-28 ZTS                0.0218            0.0547     -0.8090   \n",
       "2017-12-29 ZTS                0.0218            0.0637      0.3090   \n",
       "\n",
       "                   x_wday_sin  x_is_eoq  x_mkt_volat_60d  x_mkt_volat_120d  \\\n",
       "date       ticker                                                            \n",
       "2015-01-02 A          -0.9511     False           0.0236            0.0192   \n",
       "2015-01-05 A           0.0000     False           0.0241            0.0194   \n",
       "2017-12-28 ZTS        -0.5878     False           0.0057            0.0068   \n",
       "2017-12-29 ZTS        -0.9511     False           0.0056            0.0068   \n",
       "\n",
       "                    split split_3f  \n",
       "date       ticker                   \n",
       "2015-01-02 A        1.dev  1.train  \n",
       "2015-01-05 A        1.dev  1.train  \n",
       "2017-12-28 ZTS     2.test   3.test  \n",
       "2017-12-29 ZTS     2.test   3.test  "
      ]
     },
     "execution_count": 9,
     "metadata": {},
     "output_type": "execute_result"
    }
   ],
   "source": [
    "pd.concat([feats_and_targets.head(2), feats_and_targets.tail(2)], axis=0)"
   ]
  },
  {
   "cell_type": "code",
   "execution_count": 10,
   "id": "9fd538e8-a57f-4483-9b68-70556db09578",
   "metadata": {},
   "outputs": [
    {
     "data": {
      "text/plain": [
       "Index(['sector', 'SP500', 'y_fwd_logrets_5d', 'x_intrad_upshadow',\n",
       "       'x_intrad_loshadow', 'x_returns_5d', 'x_zscore_5d', 'x_zscore_vol_5d',\n",
       "       'x_macd_5d_vs_20d', 'x_rsi', 'x_zscore_20d', 'x_zscore_vol_20d',\n",
       "       'x_zscore_60d', 'x_zscore_vol_60d', 'x_bb_60d', 'x_macd_50d_vs_252d',\n",
       "       'x_returns_1y', 'x_rets5d_vol_60d', 'x_rets5d_vol_120d',\n",
       "       'x_mkt_dispersion', 'x_wday_cos', 'x_wday_sin', 'x_is_eoq',\n",
       "       'x_mkt_volat_60d', 'x_mkt_volat_120d', 'split', 'split_3f'],\n",
       "      dtype='object')"
      ]
     },
     "execution_count": 10,
     "metadata": {},
     "output_type": "execute_result"
    }
   ],
   "source": [
    "feats_and_targets.columns"
   ]
  },
  {
   "cell_type": "markdown",
   "id": "6e97e078-f8f2-48c9-aa82-548d773a2ee2",
   "metadata": {},
   "source": [
    "# Data Preparation"
   ]
  },
  {
   "cell_type": "code",
   "execution_count": 11,
   "id": "250d1d66-0f39-44ef-9ca0-ac90ddf826ba",
   "metadata": {},
   "outputs": [],
   "source": [
    "features = feats_and_targets.filter(regex='x_').columns\n",
    "label = 'y_fwd_logrets_5d'"
   ]
  },
  {
   "cell_type": "code",
   "execution_count": 12,
   "id": "db8d2ff3-8852-40d3-b56d-d52b3807e3e4",
   "metadata": {},
   "outputs": [
    {
     "data": {
      "text/plain": [
       "Index(['x_intrad_upshadow', 'x_intrad_loshadow', 'x_returns_5d', 'x_zscore_5d',\n",
       "       'x_zscore_vol_5d', 'x_macd_5d_vs_20d', 'x_rsi', 'x_zscore_20d',\n",
       "       'x_zscore_vol_20d', 'x_zscore_60d', 'x_zscore_vol_60d', 'x_bb_60d',\n",
       "       'x_macd_50d_vs_252d', 'x_returns_1y', 'x_rets5d_vol_60d',\n",
       "       'x_rets5d_vol_120d', 'x_mkt_dispersion', 'x_wday_cos', 'x_wday_sin',\n",
       "       'x_is_eoq', 'x_mkt_volat_60d', 'x_mkt_volat_120d'],\n",
       "      dtype='object')"
      ]
     },
     "execution_count": 12,
     "metadata": {},
     "output_type": "execute_result"
    }
   ],
   "source": [
    "features"
   ]
  },
  {
   "cell_type": "code",
   "execution_count": 13,
   "id": "94985c1c-4aa9-4341-8afb-2b37e7cd5ec5",
   "metadata": {},
   "outputs": [],
   "source": [
    "feats_and_targets = feats_and_targets.replace({np.inf: np.nan, -np.inf: np.nan}).fillna(0.)"
   ]
  },
  {
   "cell_type": "markdown",
   "id": "bb3e1a06-4548-44b0-8599-c71c54193e09",
   "metadata": {},
   "source": [
    "# Splitting"
   ]
  },
  {
   "cell_type": "code",
   "execution_count": 15,
   "id": "731c1b94-4fe9-4369-9477-9174a439230a",
   "metadata": {},
   "outputs": [],
   "source": [
    "df_dev = feats_and_targets.query('split == \"1.dev\"')\n",
    "X_dev = df_dev[features]\n",
    "y_dev = df_dev[label]\n",
    "\n",
    "df_test = feats_and_targets.query('split == \"2.test\"')\n",
    "X_test =  df_test[features]\n",
    "y_test =  df_test[label]"
   ]
  },
  {
   "cell_type": "markdown",
   "id": "beeadea0-3327-4438-81a2-35699a5101fa",
   "metadata": {},
   "source": [
    "## Cross Validation"
   ]
  },
  {
   "cell_type": "code",
   "execution_count": 16,
   "id": "e630ce3e-f21c-4783-89d5-43f8c0fe2e30",
   "metadata": {},
   "outputs": [],
   "source": [
    "cvts_2f = mle.GroupTimeSeriesSplit(n_splits=K_FOLDS)\n",
    "\n",
    "groups_idx_2f = [x.year*10000 + x.month*100 + x.day for x in X_dev.index.get_level_values('date')]"
   ]
  },
  {
   "cell_type": "markdown",
   "id": "4a15097d-f1b4-4e9f-b274-a6247ca4584d",
   "metadata": {},
   "source": [
    "# Model Building"
   ]
  },
  {
   "cell_type": "markdown",
   "id": "0e3c7833-a03b-4266-b18f-31de9f8c8acd",
   "metadata": {},
   "source": [
    "## Linear"
   ]
  },
  {
   "cell_type": "code",
   "execution_count": 29,
   "id": "89e723e6-0b72-4493-a916-97575b622b2c",
   "metadata": {},
   "outputs": [
    {
     "data": {
      "text/plain": [
       "GridSearchCV(cv=<generator object GroupTimeSeriesSplit.split at 0x0000021C29194F20>,\n",
       "             estimator=Lasso(random_state=123), n_jobs=-1,\n",
       "             param_grid={'alpha': [0.001, 0.0001],\n",
       "                         'fit_intercept': [False, True]},\n",
       "             refit='neg_root_mean_squared_error',\n",
       "             scoring=('neg_root_mean_squared_error', 'r2'))"
      ]
     },
     "execution_count": 29,
     "metadata": {},
     "output_type": "execute_result"
    }
   ],
   "source": [
    "from sklearn.linear_model import Lasso\n",
    "from sklearn.model_selection import GridSearchCV\n",
    "\n",
    "cv_splits_2f = cvts_2f.split(X=y_dev, groups=groups_idx_2f)\n",
    "model = Lasso( # check default!\n",
    "              random_state=RND_SEED)\n",
    "\n",
    "grid_hparams = {\n",
    "    'fit_intercept': [False, True],\n",
    "    'alpha': [0.001, 0.0001], \n",
    "               }\n",
    "\n",
    "mod_cv = GridSearchCV(model, grid_hparams, scoring=('neg_root_mean_squared_error', 'r2'), cv=cv_splits_2f, n_jobs=-1, refit='neg_root_mean_squared_error')\n",
    "mod_cv.fit(X_dev, y_dev)"
   ]
  },
  {
   "cell_type": "code",
   "execution_count": 30,
   "id": "ec93c291-50d2-4cd9-8200-4e50d3bc9bdb",
   "metadata": {},
   "outputs": [
    {
     "data": {
      "text/html": [
       "<div>\n",
       "<style scoped>\n",
       "    .dataframe tbody tr th:only-of-type {\n",
       "        vertical-align: middle;\n",
       "    }\n",
       "\n",
       "    .dataframe tbody tr th {\n",
       "        vertical-align: top;\n",
       "    }\n",
       "\n",
       "    .dataframe thead th {\n",
       "        text-align: right;\n",
       "    }\n",
       "</style>\n",
       "<table border=\"1\" class=\"dataframe\">\n",
       "  <thead>\n",
       "    <tr style=\"text-align: right;\">\n",
       "      <th></th>\n",
       "      <th>mean_fit_time</th>\n",
       "      <th>std_fit_time</th>\n",
       "      <th>mean_score_time</th>\n",
       "      <th>std_score_time</th>\n",
       "      <th>param_alpha</th>\n",
       "      <th>param_fit_intercept</th>\n",
       "      <th>params</th>\n",
       "      <th>split0_test_neg_root_mean_squared_error</th>\n",
       "      <th>split1_test_neg_root_mean_squared_error</th>\n",
       "      <th>split2_test_neg_root_mean_squared_error</th>\n",
       "      <th>mean_test_neg_root_mean_squared_error</th>\n",
       "      <th>std_test_neg_root_mean_squared_error</th>\n",
       "      <th>rank_test_neg_root_mean_squared_error</th>\n",
       "      <th>split0_test_r2</th>\n",
       "      <th>split1_test_r2</th>\n",
       "      <th>split2_test_r2</th>\n",
       "      <th>mean_test_r2</th>\n",
       "      <th>std_test_r2</th>\n",
       "      <th>rank_test_r2</th>\n",
       "    </tr>\n",
       "  </thead>\n",
       "  <tbody>\n",
       "    <tr>\n",
       "      <th>0</th>\n",
       "      <td>2.4024</td>\n",
       "      <td>0.7967</td>\n",
       "      <td>0.2691</td>\n",
       "      <td>0.0296</td>\n",
       "      <td>0.0010</td>\n",
       "      <td>False</td>\n",
       "      <td>{'alpha': 0.001, 'fit_intercept': False}</td>\n",
       "      <td>-0.0941</td>\n",
       "      <td>-0.0669</td>\n",
       "      <td>-0.0782</td>\n",
       "      <td>-0.0797</td>\n",
       "      <td>0.0111</td>\n",
       "      <td>1</td>\n",
       "      <td>-0.0072</td>\n",
       "      <td>-0.0107</td>\n",
       "      <td>-0.0011</td>\n",
       "      <td>-0.0063</td>\n",
       "      <td>0.0040</td>\n",
       "      <td>1</td>\n",
       "    </tr>\n",
       "    <tr>\n",
       "      <th>1</th>\n",
       "      <td>2.7524</td>\n",
       "      <td>0.8418</td>\n",
       "      <td>0.2666</td>\n",
       "      <td>0.0375</td>\n",
       "      <td>0.0010</td>\n",
       "      <td>True</td>\n",
       "      <td>{'alpha': 0.001, 'fit_intercept': True}</td>\n",
       "      <td>-0.0942</td>\n",
       "      <td>-0.0669</td>\n",
       "      <td>-0.0782</td>\n",
       "      <td>-0.0798</td>\n",
       "      <td>0.0112</td>\n",
       "      <td>2</td>\n",
       "      <td>-0.0109</td>\n",
       "      <td>-0.0114</td>\n",
       "      <td>-0.0012</td>\n",
       "      <td>-0.0078</td>\n",
       "      <td>0.0047</td>\n",
       "      <td>2</td>\n",
       "    </tr>\n",
       "    <tr>\n",
       "      <th>2</th>\n",
       "      <td>2.5049</td>\n",
       "      <td>0.7373</td>\n",
       "      <td>0.2494</td>\n",
       "      <td>0.0390</td>\n",
       "      <td>0.0001</td>\n",
       "      <td>False</td>\n",
       "      <td>{'alpha': 0.0001, 'fit_intercept': False}</td>\n",
       "      <td>-0.0944</td>\n",
       "      <td>-0.0670</td>\n",
       "      <td>-0.0782</td>\n",
       "      <td>-0.0799</td>\n",
       "      <td>0.0113</td>\n",
       "      <td>3</td>\n",
       "      <td>-0.0142</td>\n",
       "      <td>-0.0126</td>\n",
       "      <td>-0.0023</td>\n",
       "      <td>-0.0097</td>\n",
       "      <td>0.0053</td>\n",
       "      <td>3</td>\n",
       "    </tr>\n",
       "    <tr>\n",
       "      <th>3</th>\n",
       "      <td>2.4776</td>\n",
       "      <td>0.5523</td>\n",
       "      <td>0.2053</td>\n",
       "      <td>0.0261</td>\n",
       "      <td>0.0001</td>\n",
       "      <td>True</td>\n",
       "      <td>{'alpha': 0.0001, 'fit_intercept': True}</td>\n",
       "      <td>-0.0944</td>\n",
       "      <td>-0.0671</td>\n",
       "      <td>-0.0782</td>\n",
       "      <td>-0.0799</td>\n",
       "      <td>0.0112</td>\n",
       "      <td>4</td>\n",
       "      <td>-0.0151</td>\n",
       "      <td>-0.0162</td>\n",
       "      <td>-0.0025</td>\n",
       "      <td>-0.0113</td>\n",
       "      <td>0.0062</td>\n",
       "      <td>4</td>\n",
       "    </tr>\n",
       "  </tbody>\n",
       "</table>\n",
       "</div>"
      ],
      "text/plain": [
       "   mean_fit_time  std_fit_time  mean_score_time  std_score_time param_alpha  \\\n",
       "0         2.4024        0.7967           0.2691          0.0296      0.0010   \n",
       "1         2.7524        0.8418           0.2666          0.0375      0.0010   \n",
       "2         2.5049        0.7373           0.2494          0.0390      0.0001   \n",
       "3         2.4776        0.5523           0.2053          0.0261      0.0001   \n",
       "\n",
       "  param_fit_intercept                                     params  \\\n",
       "0               False   {'alpha': 0.001, 'fit_intercept': False}   \n",
       "1                True    {'alpha': 0.001, 'fit_intercept': True}   \n",
       "2               False  {'alpha': 0.0001, 'fit_intercept': False}   \n",
       "3                True   {'alpha': 0.0001, 'fit_intercept': True}   \n",
       "\n",
       "   split0_test_neg_root_mean_squared_error  \\\n",
       "0                                  -0.0941   \n",
       "1                                  -0.0942   \n",
       "2                                  -0.0944   \n",
       "3                                  -0.0944   \n",
       "\n",
       "   split1_test_neg_root_mean_squared_error  \\\n",
       "0                                  -0.0669   \n",
       "1                                  -0.0669   \n",
       "2                                  -0.0670   \n",
       "3                                  -0.0671   \n",
       "\n",
       "   split2_test_neg_root_mean_squared_error  \\\n",
       "0                                  -0.0782   \n",
       "1                                  -0.0782   \n",
       "2                                  -0.0782   \n",
       "3                                  -0.0782   \n",
       "\n",
       "   mean_test_neg_root_mean_squared_error  \\\n",
       "0                                -0.0797   \n",
       "1                                -0.0798   \n",
       "2                                -0.0799   \n",
       "3                                -0.0799   \n",
       "\n",
       "   std_test_neg_root_mean_squared_error  \\\n",
       "0                                0.0111   \n",
       "1                                0.0112   \n",
       "2                                0.0113   \n",
       "3                                0.0112   \n",
       "\n",
       "   rank_test_neg_root_mean_squared_error  split0_test_r2  split1_test_r2  \\\n",
       "0                                      1         -0.0072         -0.0107   \n",
       "1                                      2         -0.0109         -0.0114   \n",
       "2                                      3         -0.0142         -0.0126   \n",
       "3                                      4         -0.0151         -0.0162   \n",
       "\n",
       "   split2_test_r2  mean_test_r2  std_test_r2  rank_test_r2  \n",
       "0         -0.0011       -0.0063       0.0040             1  \n",
       "1         -0.0012       -0.0078       0.0047             2  \n",
       "2         -0.0023       -0.0097       0.0053             3  \n",
       "3         -0.0025       -0.0113       0.0062             4  "
      ]
     },
     "execution_count": 30,
     "metadata": {},
     "output_type": "execute_result"
    }
   ],
   "source": [
    "df_lasso_gscv = pd.DataFrame(mod_cv.cv_results_).sort_values(by='rank_test_neg_root_mean_squared_error')\n",
    "df_lasso_gscv"
   ]
  },
  {
   "cell_type": "code",
   "execution_count": 31,
   "id": "d40bd976-2f24-477f-a035-f4450409c519",
   "metadata": {},
   "outputs": [
    {
     "data": {
      "text/plain": [
       "array([ 0.00000000e+00,  0.00000000e+00, -0.00000000e+00, -0.00000000e+00,\n",
       "       -0.00000000e+00, -0.00000000e+00, -1.93854409e-05, -0.00000000e+00,\n",
       "        0.00000000e+00,  0.00000000e+00,  0.00000000e+00,  0.00000000e+00,\n",
       "        4.51815844e-05,  0.00000000e+00, -0.00000000e+00, -0.00000000e+00,\n",
       "        0.00000000e+00, -0.00000000e+00, -0.00000000e+00, -0.00000000e+00,\n",
       "        0.00000000e+00, -0.00000000e+00])"
      ]
     },
     "execution_count": 31,
     "metadata": {},
     "output_type": "execute_result"
    }
   ],
   "source": [
    "mod_lasso = mod_cv.best_estimator_\n",
    "mod_lasso.coef_"
   ]
  },
  {
   "cell_type": "code",
   "execution_count": 32,
   "id": "84078912-5896-4cd8-b83f-6786c8d437af",
   "metadata": {},
   "outputs": [
    {
     "data": {
      "image/png": "[encoded data removed]",
      "text/plain": [
       "<Figure size 864x432 with 1 Axes>"
      ]
     },
     "metadata": {
      "needs_background": "light"
     },
     "output_type": "display_data"
    }
   ],
   "source": [
    "pd.Series(index=features, data=mod_lasso.coef_).plot.bar()\n",
    "plt.grid()\n",
    "plt.show()"
   ]
  },
  {
   "cell_type": "code",
   "execution_count": 33,
   "id": "6f0fc6ed-9854-4356-a0db-24c7b314328c",
   "metadata": {},
   "outputs": [
    {
     "data": {
      "text/plain": [
       "0.0"
      ]
     },
     "execution_count": 33,
     "metadata": {},
     "output_type": "execute_result"
    }
   ],
   "source": [
    "mod_lasso.intercept_"
   ]
  },
  {
   "cell_type": "code",
   "execution_count": 34,
   "id": "5e352cf7-9b4c-4818-a73c-509995935b53",
   "metadata": {},
   "outputs": [],
   "source": [
    "p_dev = pd.Series(index= X_dev.index, data=mod_cv.predict(X_dev), name='y_pred')"
   ]
  },
  {
   "cell_type": "code",
   "execution_count": 35,
   "id": "1d7afac5-3390-4070-9e62-6466f37b3c9a",
   "metadata": {},
   "outputs": [
    {
     "data": {
      "image/png": "[encoded data removed]",
      "text/plain": [
       "<Figure size 864x432 with 1 Axes>"
      ]
     },
     "metadata": {
      "needs_background": "light"
     },
     "output_type": "display_data"
    }
   ],
   "source": [
    "p_dev.plot.hist(label='y_pred',  alpha=0.5, density=True)\n",
    "plt.show()"
   ]
  },
  {
   "cell_type": "code",
   "execution_count": null,
   "id": "57c1fa92-5fcd-42e1-8688-b23093d3b91e",
   "metadata": {},
   "outputs": [],
   "source": []
  },
  {
   "cell_type": "code",
   "execution_count": null,
   "id": "c31d00f4-4ed0-4de2-9bf4-abb9af4b4b42",
   "metadata": {},
   "outputs": [],
   "source": []
  }
 ],
 "metadata": {
  "kernelspec": {
   "display_name": "Python 3",
   "language": "python",
   "name": "python3"
  },
  "language_info": {
   "codemirror_mode": {
    "name": "ipython",
    "version": 3
   },
   "file_extension": ".py",
   "mimetype": "text/x-python",
   "name": "python",
   "nbconvert_exporter": "python",
   "pygments_lexer": "ipython3",
   "version": "3.8.8"
  }
 },
 "nbformat": 4,
 "nbformat_minor": 5
}
