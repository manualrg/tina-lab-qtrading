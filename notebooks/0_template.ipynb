{
 "cells": [
  {
   "cell_type": "markdown",
   "id": "6eb72ec8-64d5-4bf7-be52-a4205c42f90a",
   "metadata": {},
   "source": [
    "<font size=\"6\"><center>**Title**</font>"
   ]
  },
  {
   "cell_type": "code",
   "execution_count": 1,
   "id": "f0d673ac-0425-41aa-9dc8-b23e860a5bd4",
   "metadata": {},
   "outputs": [],
   "source": [
    "%load_ext autoreload\n",
    "%autoreload 2"
   ]
  },
  {
   "cell_type": "code",
   "execution_count": 2,
   "id": "0cfad815-aca9-45b1-b9c5-e1391a3b01fa",
   "metadata": {},
   "outputs": [
    {
     "name": "stdout",
     "output_type": "stream",
     "text": [
      "running notebook configuration\n"
     ]
    }
   ],
   "source": [
    "%run ../nb_config.py  # place a .py to set root_path in order to be able to import from src folder"
   ]
  },
  {
   "cell_type": "code",
   "execution_count": 3,
   "id": "9635a37e-ee65-45ec-9538-be3cf66d33c5",
   "metadata": {},
   "outputs": [
    {
     "data": {
      "text/plain": [
       "'C:\\\\Users\\\\MRomero\\\\Documents\\\\repos\\\\labs\\\\repo-template\\\\'"
      ]
     },
     "execution_count": 3,
     "metadata": {},
     "output_type": "execute_result"
    }
   ],
   "source": [
    "os.environ.get('LOCAL_PATH')"
   ]
  },
  {
   "cell_type": "code",
   "execution_count": 4,
   "id": "4f0dbc71-63a9-4c70-ae68-96cf8749c6e7",
   "metadata": {},
   "outputs": [],
   "source": [
    "import numpy as np\n",
    "import pandas as pd"
   ]
  },
  {
   "cell_type": "code",
   "execution_count": 7,
   "id": "fbd28c9d-b61e-4d56-a036-349080b0e7b1",
   "metadata": {},
   "outputs": [],
   "source": [
    "from src import data_api\n",
    "from src import utils"
   ]
  },
  {
   "cell_type": "code",
   "execution_count": 8,
   "id": "b611ebfa-436f-4725-b575-95c8d3c41510",
   "metadata": {},
   "outputs": [],
   "source": [
    "conf = utils.get_conf()"
   ]
  },
  {
   "cell_type": "markdown",
   "id": "1f102d1c-011f-4811-9116-d0a595067bff",
   "metadata": {},
   "source": [
    "# Load Data"
   ]
  },
  {
   "cell_type": "markdown",
   "id": "a65f4f85-e188-4581-a876-c6c4344dc227",
   "metadata": {},
   "source": [
    "# Data Preparation"
   ]
  },
  {
   "cell_type": "markdown",
   "id": "afd47941-1e3f-4d39-a88f-5ea3032b7546",
   "metadata": {},
   "source": [
    "# Data Visualization"
   ]
  },
  {
   "cell_type": "code",
   "execution_count": null,
   "id": "82029790-c796-486f-b64b-26c14f79fbec",
   "metadata": {},
   "outputs": [],
   "source": []
  }
 ],
 "metadata": {
  "kernelspec": {
   "display_name": "Python 3",
   "language": "python",
   "name": "python3"
  },
  "language_info": {
   "codemirror_mode": {
    "name": "ipython",
    "version": 3
   },
   "file_extension": ".py",
   "mimetype": "text/x-python",
   "name": "python",
   "nbconvert_exporter": "python",
   "pygments_lexer": "ipython3",
   "version": "3.8.8"
  }
 },
 "nbformat": 4,
 "nbformat_minor": 5
}
